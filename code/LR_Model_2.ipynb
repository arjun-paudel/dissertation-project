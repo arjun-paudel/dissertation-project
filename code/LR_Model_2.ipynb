{
  "nbformat": 4,
  "nbformat_minor": 0,
  "metadata": {
    "colab": {
      "provenance": []
    },
    "kernelspec": {
      "name": "python3",
      "display_name": "Python 3"
    },
    "language_info": {
      "name": "python"
    }
  },
  "cells": [
    {
      "cell_type": "markdown",
      "source": [
        "#Predicting Air Quality Index(AQI) with the help of PM2.5 and PM10"
      ],
      "metadata": {
        "id": "a2dU-BktbFf2"
      }
    },
    {
      "cell_type": "code",
      "execution_count": 1,
      "metadata": {
        "id": "uqIagtOHbCX3"
      },
      "outputs": [],
      "source": [
        "#importing necessary libraries\n",
        "import pandas as pd\n",
        "import seaborn as sns\n",
        "from sklearn.model_selection import train_test_split\n",
        "from sklearn.linear_model import LinearRegression\n",
        "import matplotlib.pyplot as plt\n",
        "from sklearn.metrics import r2_score,mean_squared_error, mean_absolute_error\n",
        "import numpy as np"
      ]
    },
    {
      "cell_type": "code",
      "source": [
        "#Acessing google drive from google colab\n",
        "from google.colab import drive\n",
        "drive.mount('/content/drive')\n"
      ],
      "metadata": {
        "colab": {
          "base_uri": "https://localhost:8080/"
        },
        "id": "gLZRi-K9bh_s",
        "outputId": "7c4bc0c9-396c-4e00-825e-a150587629e8"
      },
      "execution_count": 2,
      "outputs": [
        {
          "output_type": "stream",
          "name": "stdout",
          "text": [
            "Mounted at /content/drive\n"
          ]
        }
      ]
    },
    {
      "cell_type": "code",
      "source": [
        "# Loading the dataset from drive\n",
        "df = pd.read_csv('/content/drive/MyDrive/Dissertation/clean_data.csv')"
      ],
      "metadata": {
        "id": "Y3hI8fk8xUee"
      },
      "execution_count": 47,
      "outputs": []
    },
    {
      "cell_type": "code",
      "source": [
        "#showing the first few data from the dataset\n",
        "df.head(5)"
      ],
      "metadata": {
        "colab": {
          "base_uri": "https://localhost:8080/",
          "height": 206
        },
        "id": "p9z3PoVoxWie",
        "outputId": "f8b4dcfe-b001-4fba-f3fa-2792d3f6243b"
      },
      "execution_count": 48,
      "outputs": [
        {
          "output_type": "execute_result",
          "data": {
            "text/plain": [
              "               pubtime  PM2.5  PM10   NO2    O3   CO  SO2   AQI\n",
              "0  2020-06-30 00:00:00   11.0  23.0  26.0  70.0  0.7  5.0  23.0\n",
              "1  2020-06-30 01:00:00   14.0  23.0  29.0  54.0  0.8  5.0  23.0\n",
              "2  2020-06-30 02:00:00   11.0  23.0  31.0  48.0  0.7  5.0  23.0\n",
              "3  2020-06-30 03:00:00   12.0  25.0  42.0  26.0  0.7  5.0  25.0\n",
              "4  2020-06-30 04:00:00    7.0  29.0  36.0  22.0  0.7  5.0  29.0"
            ],
            "text/html": [
              "\n",
              "  <div id=\"df-727db1d0-e8ce-4392-904c-2c6613070e3e\" class=\"colab-df-container\">\n",
              "    <div>\n",
              "<style scoped>\n",
              "    .dataframe tbody tr th:only-of-type {\n",
              "        vertical-align: middle;\n",
              "    }\n",
              "\n",
              "    .dataframe tbody tr th {\n",
              "        vertical-align: top;\n",
              "    }\n",
              "\n",
              "    .dataframe thead th {\n",
              "        text-align: right;\n",
              "    }\n",
              "</style>\n",
              "<table border=\"1\" class=\"dataframe\">\n",
              "  <thead>\n",
              "    <tr style=\"text-align: right;\">\n",
              "      <th></th>\n",
              "      <th>pubtime</th>\n",
              "      <th>PM2.5</th>\n",
              "      <th>PM10</th>\n",
              "      <th>NO2</th>\n",
              "      <th>O3</th>\n",
              "      <th>CO</th>\n",
              "      <th>SO2</th>\n",
              "      <th>AQI</th>\n",
              "    </tr>\n",
              "  </thead>\n",
              "  <tbody>\n",
              "    <tr>\n",
              "      <th>0</th>\n",
              "      <td>2020-06-30 00:00:00</td>\n",
              "      <td>11.0</td>\n",
              "      <td>23.0</td>\n",
              "      <td>26.0</td>\n",
              "      <td>70.0</td>\n",
              "      <td>0.7</td>\n",
              "      <td>5.0</td>\n",
              "      <td>23.0</td>\n",
              "    </tr>\n",
              "    <tr>\n",
              "      <th>1</th>\n",
              "      <td>2020-06-30 01:00:00</td>\n",
              "      <td>14.0</td>\n",
              "      <td>23.0</td>\n",
              "      <td>29.0</td>\n",
              "      <td>54.0</td>\n",
              "      <td>0.8</td>\n",
              "      <td>5.0</td>\n",
              "      <td>23.0</td>\n",
              "    </tr>\n",
              "    <tr>\n",
              "      <th>2</th>\n",
              "      <td>2020-06-30 02:00:00</td>\n",
              "      <td>11.0</td>\n",
              "      <td>23.0</td>\n",
              "      <td>31.0</td>\n",
              "      <td>48.0</td>\n",
              "      <td>0.7</td>\n",
              "      <td>5.0</td>\n",
              "      <td>23.0</td>\n",
              "    </tr>\n",
              "    <tr>\n",
              "      <th>3</th>\n",
              "      <td>2020-06-30 03:00:00</td>\n",
              "      <td>12.0</td>\n",
              "      <td>25.0</td>\n",
              "      <td>42.0</td>\n",
              "      <td>26.0</td>\n",
              "      <td>0.7</td>\n",
              "      <td>5.0</td>\n",
              "      <td>25.0</td>\n",
              "    </tr>\n",
              "    <tr>\n",
              "      <th>4</th>\n",
              "      <td>2020-06-30 04:00:00</td>\n",
              "      <td>7.0</td>\n",
              "      <td>29.0</td>\n",
              "      <td>36.0</td>\n",
              "      <td>22.0</td>\n",
              "      <td>0.7</td>\n",
              "      <td>5.0</td>\n",
              "      <td>29.0</td>\n",
              "    </tr>\n",
              "  </tbody>\n",
              "</table>\n",
              "</div>\n",
              "    <div class=\"colab-df-buttons\">\n",
              "\n",
              "  <div class=\"colab-df-container\">\n",
              "    <button class=\"colab-df-convert\" onclick=\"convertToInteractive('df-727db1d0-e8ce-4392-904c-2c6613070e3e')\"\n",
              "            title=\"Convert this dataframe to an interactive table.\"\n",
              "            style=\"display:none;\">\n",
              "\n",
              "  <svg xmlns=\"http://www.w3.org/2000/svg\" height=\"24px\" viewBox=\"0 -960 960 960\">\n",
              "    <path d=\"M120-120v-720h720v720H120Zm60-500h600v-160H180v160Zm220 220h160v-160H400v160Zm0 220h160v-160H400v160ZM180-400h160v-160H180v160Zm440 0h160v-160H620v160ZM180-180h160v-160H180v160Zm440 0h160v-160H620v160Z\"/>\n",
              "  </svg>\n",
              "    </button>\n",
              "\n",
              "  <style>\n",
              "    .colab-df-container {\n",
              "      display:flex;\n",
              "      gap: 12px;\n",
              "    }\n",
              "\n",
              "    .colab-df-convert {\n",
              "      background-color: #E8F0FE;\n",
              "      border: none;\n",
              "      border-radius: 50%;\n",
              "      cursor: pointer;\n",
              "      display: none;\n",
              "      fill: #1967D2;\n",
              "      height: 32px;\n",
              "      padding: 0 0 0 0;\n",
              "      width: 32px;\n",
              "    }\n",
              "\n",
              "    .colab-df-convert:hover {\n",
              "      background-color: #E2EBFA;\n",
              "      box-shadow: 0px 1px 2px rgba(60, 64, 67, 0.3), 0px 1px 3px 1px rgba(60, 64, 67, 0.15);\n",
              "      fill: #174EA6;\n",
              "    }\n",
              "\n",
              "    .colab-df-buttons div {\n",
              "      margin-bottom: 4px;\n",
              "    }\n",
              "\n",
              "    [theme=dark] .colab-df-convert {\n",
              "      background-color: #3B4455;\n",
              "      fill: #D2E3FC;\n",
              "    }\n",
              "\n",
              "    [theme=dark] .colab-df-convert:hover {\n",
              "      background-color: #434B5C;\n",
              "      box-shadow: 0px 1px 3px 1px rgba(0, 0, 0, 0.15);\n",
              "      filter: drop-shadow(0px 1px 2px rgba(0, 0, 0, 0.3));\n",
              "      fill: #FFFFFF;\n",
              "    }\n",
              "  </style>\n",
              "\n",
              "    <script>\n",
              "      const buttonEl =\n",
              "        document.querySelector('#df-727db1d0-e8ce-4392-904c-2c6613070e3e button.colab-df-convert');\n",
              "      buttonEl.style.display =\n",
              "        google.colab.kernel.accessAllowed ? 'block' : 'none';\n",
              "\n",
              "      async function convertToInteractive(key) {\n",
              "        const element = document.querySelector('#df-727db1d0-e8ce-4392-904c-2c6613070e3e');\n",
              "        const dataTable =\n",
              "          await google.colab.kernel.invokeFunction('convertToInteractive',\n",
              "                                                    [key], {});\n",
              "        if (!dataTable) return;\n",
              "\n",
              "        const docLinkHtml = 'Like what you see? Visit the ' +\n",
              "          '<a target=\"_blank\" href=https://colab.research.google.com/notebooks/data_table.ipynb>data table notebook</a>'\n",
              "          + ' to learn more about interactive tables.';\n",
              "        element.innerHTML = '';\n",
              "        dataTable['output_type'] = 'display_data';\n",
              "        await google.colab.output.renderOutput(dataTable, element);\n",
              "        const docLink = document.createElement('div');\n",
              "        docLink.innerHTML = docLinkHtml;\n",
              "        element.appendChild(docLink);\n",
              "      }\n",
              "    </script>\n",
              "  </div>\n",
              "\n",
              "\n",
              "<div id=\"df-dc18dba8-5adf-4e21-aede-3a80a284d8eb\">\n",
              "  <button class=\"colab-df-quickchart\" onclick=\"quickchart('df-dc18dba8-5adf-4e21-aede-3a80a284d8eb')\"\n",
              "            title=\"Suggest charts\"\n",
              "            style=\"display:none;\">\n",
              "\n",
              "<svg xmlns=\"http://www.w3.org/2000/svg\" height=\"24px\"viewBox=\"0 0 24 24\"\n",
              "     width=\"24px\">\n",
              "    <g>\n",
              "        <path d=\"M19 3H5c-1.1 0-2 .9-2 2v14c0 1.1.9 2 2 2h14c1.1 0 2-.9 2-2V5c0-1.1-.9-2-2-2zM9 17H7v-7h2v7zm4 0h-2V7h2v10zm4 0h-2v-4h2v4z\"/>\n",
              "    </g>\n",
              "</svg>\n",
              "  </button>\n",
              "\n",
              "<style>\n",
              "  .colab-df-quickchart {\n",
              "      --bg-color: #E8F0FE;\n",
              "      --fill-color: #1967D2;\n",
              "      --hover-bg-color: #E2EBFA;\n",
              "      --hover-fill-color: #174EA6;\n",
              "      --disabled-fill-color: #AAA;\n",
              "      --disabled-bg-color: #DDD;\n",
              "  }\n",
              "\n",
              "  [theme=dark] .colab-df-quickchart {\n",
              "      --bg-color: #3B4455;\n",
              "      --fill-color: #D2E3FC;\n",
              "      --hover-bg-color: #434B5C;\n",
              "      --hover-fill-color: #FFFFFF;\n",
              "      --disabled-bg-color: #3B4455;\n",
              "      --disabled-fill-color: #666;\n",
              "  }\n",
              "\n",
              "  .colab-df-quickchart {\n",
              "    background-color: var(--bg-color);\n",
              "    border: none;\n",
              "    border-radius: 50%;\n",
              "    cursor: pointer;\n",
              "    display: none;\n",
              "    fill: var(--fill-color);\n",
              "    height: 32px;\n",
              "    padding: 0;\n",
              "    width: 32px;\n",
              "  }\n",
              "\n",
              "  .colab-df-quickchart:hover {\n",
              "    background-color: var(--hover-bg-color);\n",
              "    box-shadow: 0 1px 2px rgba(60, 64, 67, 0.3), 0 1px 3px 1px rgba(60, 64, 67, 0.15);\n",
              "    fill: var(--button-hover-fill-color);\n",
              "  }\n",
              "\n",
              "  .colab-df-quickchart-complete:disabled,\n",
              "  .colab-df-quickchart-complete:disabled:hover {\n",
              "    background-color: var(--disabled-bg-color);\n",
              "    fill: var(--disabled-fill-color);\n",
              "    box-shadow: none;\n",
              "  }\n",
              "\n",
              "  .colab-df-spinner {\n",
              "    border: 2px solid var(--fill-color);\n",
              "    border-color: transparent;\n",
              "    border-bottom-color: var(--fill-color);\n",
              "    animation:\n",
              "      spin 1s steps(1) infinite;\n",
              "  }\n",
              "\n",
              "  @keyframes spin {\n",
              "    0% {\n",
              "      border-color: transparent;\n",
              "      border-bottom-color: var(--fill-color);\n",
              "      border-left-color: var(--fill-color);\n",
              "    }\n",
              "    20% {\n",
              "      border-color: transparent;\n",
              "      border-left-color: var(--fill-color);\n",
              "      border-top-color: var(--fill-color);\n",
              "    }\n",
              "    30% {\n",
              "      border-color: transparent;\n",
              "      border-left-color: var(--fill-color);\n",
              "      border-top-color: var(--fill-color);\n",
              "      border-right-color: var(--fill-color);\n",
              "    }\n",
              "    40% {\n",
              "      border-color: transparent;\n",
              "      border-right-color: var(--fill-color);\n",
              "      border-top-color: var(--fill-color);\n",
              "    }\n",
              "    60% {\n",
              "      border-color: transparent;\n",
              "      border-right-color: var(--fill-color);\n",
              "    }\n",
              "    80% {\n",
              "      border-color: transparent;\n",
              "      border-right-color: var(--fill-color);\n",
              "      border-bottom-color: var(--fill-color);\n",
              "    }\n",
              "    90% {\n",
              "      border-color: transparent;\n",
              "      border-bottom-color: var(--fill-color);\n",
              "    }\n",
              "  }\n",
              "</style>\n",
              "\n",
              "  <script>\n",
              "    async function quickchart(key) {\n",
              "      const quickchartButtonEl =\n",
              "        document.querySelector('#' + key + ' button');\n",
              "      quickchartButtonEl.disabled = true;  // To prevent multiple clicks.\n",
              "      quickchartButtonEl.classList.add('colab-df-spinner');\n",
              "      try {\n",
              "        const charts = await google.colab.kernel.invokeFunction(\n",
              "            'suggestCharts', [key], {});\n",
              "      } catch (error) {\n",
              "        console.error('Error during call to suggestCharts:', error);\n",
              "      }\n",
              "      quickchartButtonEl.classList.remove('colab-df-spinner');\n",
              "      quickchartButtonEl.classList.add('colab-df-quickchart-complete');\n",
              "    }\n",
              "    (() => {\n",
              "      let quickchartButtonEl =\n",
              "        document.querySelector('#df-dc18dba8-5adf-4e21-aede-3a80a284d8eb button');\n",
              "      quickchartButtonEl.style.display =\n",
              "        google.colab.kernel.accessAllowed ? 'block' : 'none';\n",
              "    })();\n",
              "  </script>\n",
              "</div>\n",
              "    </div>\n",
              "  </div>\n"
            ],
            "application/vnd.google.colaboratory.intrinsic+json": {
              "type": "dataframe",
              "variable_name": "df",
              "summary": "{\n  \"name\": \"df\",\n  \"rows\": 4417,\n  \"fields\": [\n    {\n      \"column\": \"pubtime\",\n      \"properties\": {\n        \"dtype\": \"object\",\n        \"num_unique_values\": 4417,\n        \"samples\": [\n          \"2020-09-05 15:00:00\",\n          \"2020-08-29 11:00:00\",\n          \"2020-12-12 18:00:00\"\n        ],\n        \"semantic_type\": \"\",\n        \"description\": \"\"\n      }\n    },\n    {\n      \"column\": \"PM2.5\",\n      \"properties\": {\n        \"dtype\": \"number\",\n        \"std\": 22.31186985394339,\n        \"min\": 1.0,\n        \"max\": 182.0,\n        \"num_unique_values\": 220,\n        \"samples\": [\n          37.5,\n          100.0,\n          2.5\n        ],\n        \"semantic_type\": \"\",\n        \"description\": \"\"\n      }\n    },\n    {\n      \"column\": \"PM10\",\n      \"properties\": {\n        \"dtype\": \"number\",\n        \"std\": 32.728966387427306,\n        \"min\": 4.0,\n        \"max\": 243.0,\n        \"num_unique_values\": 246,\n        \"samples\": [\n          52.0,\n          34.0,\n          71.5\n        ],\n        \"semantic_type\": \"\",\n        \"description\": \"\"\n      }\n    },\n    {\n      \"column\": \"NO2\",\n      \"properties\": {\n        \"dtype\": \"number\",\n        \"std\": 24.106652817221534,\n        \"min\": 5.0,\n        \"max\": 142.0,\n        \"num_unique_values\": 194,\n        \"samples\": [\n          83.5,\n          37.0,\n          26.75\n        ],\n        \"semantic_type\": \"\",\n        \"description\": \"\"\n      }\n    },\n    {\n      \"column\": \"O3\",\n      \"properties\": {\n        \"dtype\": \"number\",\n        \"std\": 47.30524980886125,\n        \"min\": 1.0,\n        \"max\": 286.0,\n        \"num_unique_values\": 295,\n        \"samples\": [\n          20.875,\n          121.0,\n          103.0\n        ],\n        \"semantic_type\": \"\",\n        \"description\": \"\"\n      }\n    },\n    {\n      \"column\": \"CO\",\n      \"properties\": {\n        \"dtype\": \"number\",\n        \"std\": 0.2951736100489108,\n        \"min\": 0.1,\n        \"max\": 2.0,\n        \"num_unique_values\": 87,\n        \"samples\": [\n          0.334375,\n          0.7,\n          0.55\n        ],\n        \"semantic_type\": \"\",\n        \"description\": \"\"\n      }\n    },\n    {\n      \"column\": \"SO2\",\n      \"properties\": {\n        \"dtype\": \"number\",\n        \"std\": 3.4525562940997445,\n        \"min\": 3.0,\n        \"max\": 50.0,\n        \"num_unique_values\": 67,\n        \"samples\": [\n          10.75,\n          5.75,\n          10.0\n        ],\n        \"semantic_type\": \"\",\n        \"description\": \"\"\n      }\n    },\n    {\n      \"column\": \"AQI\",\n      \"properties\": {\n        \"dtype\": \"number\",\n        \"std\": 25.87992670386027,\n        \"min\": 10.0,\n        \"max\": 232.0,\n        \"num_unique_values\": 289,\n        \"samples\": [\n          46.0,\n          74.5,\n          183.0\n        ],\n        \"semantic_type\": \"\",\n        \"description\": \"\"\n      }\n    }\n  ]\n}"
            }
          },
          "metadata": {},
          "execution_count": 48
        }
      ]
    },
    {
      "cell_type": "code",
      "source": [
        "df.shape"
      ],
      "metadata": {
        "colab": {
          "base_uri": "https://localhost:8080/"
        },
        "id": "zzE6p47Pxc1Y",
        "outputId": "ee2fdd76-dc6f-4ebd-ea43-7850acf19167"
      },
      "execution_count": 49,
      "outputs": [
        {
          "output_type": "execute_result",
          "data": {
            "text/plain": [
              "(4417, 8)"
            ]
          },
          "metadata": {},
          "execution_count": 49
        }
      ]
    },
    {
      "cell_type": "markdown",
      "source": [
        "#Linear Regression Model"
      ],
      "metadata": {
        "id": "fv3SFdFsxfMV"
      }
    },
    {
      "cell_type": "code",
      "source": [
        "#dropping all column except feature column PM2.5, and PM10 and store in x\n",
        "x= df.drop(columns = ['pubtime','AQI','NO2','O3','CO','SO2'])\n",
        "x"
      ],
      "metadata": {
        "id": "ISjdrNQQ-wHR",
        "colab": {
          "base_uri": "https://localhost:8080/",
          "height": 424
        },
        "outputId": "403c1002-b72c-446b-b64d-d648ef0dbd4a"
      },
      "execution_count": 50,
      "outputs": [
        {
          "output_type": "execute_result",
          "data": {
            "text/plain": [
              "      PM2.5  PM10\n",
              "0      11.0  23.0\n",
              "1      14.0  23.0\n",
              "2      11.0  23.0\n",
              "3      12.0  25.0\n",
              "4       7.0  29.0\n",
              "...     ...   ...\n",
              "4412   21.0  59.0\n",
              "4413   22.0  65.0\n",
              "4414   26.0  64.0\n",
              "4415   24.0  58.0\n",
              "4416   23.0  61.0\n",
              "\n",
              "[4417 rows x 2 columns]"
            ],
            "text/html": [
              "\n",
              "  <div id=\"df-efdae389-624b-42db-877a-c4be152f37a1\" class=\"colab-df-container\">\n",
              "    <div>\n",
              "<style scoped>\n",
              "    .dataframe tbody tr th:only-of-type {\n",
              "        vertical-align: middle;\n",
              "    }\n",
              "\n",
              "    .dataframe tbody tr th {\n",
              "        vertical-align: top;\n",
              "    }\n",
              "\n",
              "    .dataframe thead th {\n",
              "        text-align: right;\n",
              "    }\n",
              "</style>\n",
              "<table border=\"1\" class=\"dataframe\">\n",
              "  <thead>\n",
              "    <tr style=\"text-align: right;\">\n",
              "      <th></th>\n",
              "      <th>PM2.5</th>\n",
              "      <th>PM10</th>\n",
              "    </tr>\n",
              "  </thead>\n",
              "  <tbody>\n",
              "    <tr>\n",
              "      <th>0</th>\n",
              "      <td>11.0</td>\n",
              "      <td>23.0</td>\n",
              "    </tr>\n",
              "    <tr>\n",
              "      <th>1</th>\n",
              "      <td>14.0</td>\n",
              "      <td>23.0</td>\n",
              "    </tr>\n",
              "    <tr>\n",
              "      <th>2</th>\n",
              "      <td>11.0</td>\n",
              "      <td>23.0</td>\n",
              "    </tr>\n",
              "    <tr>\n",
              "      <th>3</th>\n",
              "      <td>12.0</td>\n",
              "      <td>25.0</td>\n",
              "    </tr>\n",
              "    <tr>\n",
              "      <th>4</th>\n",
              "      <td>7.0</td>\n",
              "      <td>29.0</td>\n",
              "    </tr>\n",
              "    <tr>\n",
              "      <th>...</th>\n",
              "      <td>...</td>\n",
              "      <td>...</td>\n",
              "    </tr>\n",
              "    <tr>\n",
              "      <th>4412</th>\n",
              "      <td>21.0</td>\n",
              "      <td>59.0</td>\n",
              "    </tr>\n",
              "    <tr>\n",
              "      <th>4413</th>\n",
              "      <td>22.0</td>\n",
              "      <td>65.0</td>\n",
              "    </tr>\n",
              "    <tr>\n",
              "      <th>4414</th>\n",
              "      <td>26.0</td>\n",
              "      <td>64.0</td>\n",
              "    </tr>\n",
              "    <tr>\n",
              "      <th>4415</th>\n",
              "      <td>24.0</td>\n",
              "      <td>58.0</td>\n",
              "    </tr>\n",
              "    <tr>\n",
              "      <th>4416</th>\n",
              "      <td>23.0</td>\n",
              "      <td>61.0</td>\n",
              "    </tr>\n",
              "  </tbody>\n",
              "</table>\n",
              "<p>4417 rows × 2 columns</p>\n",
              "</div>\n",
              "    <div class=\"colab-df-buttons\">\n",
              "\n",
              "  <div class=\"colab-df-container\">\n",
              "    <button class=\"colab-df-convert\" onclick=\"convertToInteractive('df-efdae389-624b-42db-877a-c4be152f37a1')\"\n",
              "            title=\"Convert this dataframe to an interactive table.\"\n",
              "            style=\"display:none;\">\n",
              "\n",
              "  <svg xmlns=\"http://www.w3.org/2000/svg\" height=\"24px\" viewBox=\"0 -960 960 960\">\n",
              "    <path d=\"M120-120v-720h720v720H120Zm60-500h600v-160H180v160Zm220 220h160v-160H400v160Zm0 220h160v-160H400v160ZM180-400h160v-160H180v160Zm440 0h160v-160H620v160ZM180-180h160v-160H180v160Zm440 0h160v-160H620v160Z\"/>\n",
              "  </svg>\n",
              "    </button>\n",
              "\n",
              "  <style>\n",
              "    .colab-df-container {\n",
              "      display:flex;\n",
              "      gap: 12px;\n",
              "    }\n",
              "\n",
              "    .colab-df-convert {\n",
              "      background-color: #E8F0FE;\n",
              "      border: none;\n",
              "      border-radius: 50%;\n",
              "      cursor: pointer;\n",
              "      display: none;\n",
              "      fill: #1967D2;\n",
              "      height: 32px;\n",
              "      padding: 0 0 0 0;\n",
              "      width: 32px;\n",
              "    }\n",
              "\n",
              "    .colab-df-convert:hover {\n",
              "      background-color: #E2EBFA;\n",
              "      box-shadow: 0px 1px 2px rgba(60, 64, 67, 0.3), 0px 1px 3px 1px rgba(60, 64, 67, 0.15);\n",
              "      fill: #174EA6;\n",
              "    }\n",
              "\n",
              "    .colab-df-buttons div {\n",
              "      margin-bottom: 4px;\n",
              "    }\n",
              "\n",
              "    [theme=dark] .colab-df-convert {\n",
              "      background-color: #3B4455;\n",
              "      fill: #D2E3FC;\n",
              "    }\n",
              "\n",
              "    [theme=dark] .colab-df-convert:hover {\n",
              "      background-color: #434B5C;\n",
              "      box-shadow: 0px 1px 3px 1px rgba(0, 0, 0, 0.15);\n",
              "      filter: drop-shadow(0px 1px 2px rgba(0, 0, 0, 0.3));\n",
              "      fill: #FFFFFF;\n",
              "    }\n",
              "  </style>\n",
              "\n",
              "    <script>\n",
              "      const buttonEl =\n",
              "        document.querySelector('#df-efdae389-624b-42db-877a-c4be152f37a1 button.colab-df-convert');\n",
              "      buttonEl.style.display =\n",
              "        google.colab.kernel.accessAllowed ? 'block' : 'none';\n",
              "\n",
              "      async function convertToInteractive(key) {\n",
              "        const element = document.querySelector('#df-efdae389-624b-42db-877a-c4be152f37a1');\n",
              "        const dataTable =\n",
              "          await google.colab.kernel.invokeFunction('convertToInteractive',\n",
              "                                                    [key], {});\n",
              "        if (!dataTable) return;\n",
              "\n",
              "        const docLinkHtml = 'Like what you see? Visit the ' +\n",
              "          '<a target=\"_blank\" href=https://colab.research.google.com/notebooks/data_table.ipynb>data table notebook</a>'\n",
              "          + ' to learn more about interactive tables.';\n",
              "        element.innerHTML = '';\n",
              "        dataTable['output_type'] = 'display_data';\n",
              "        await google.colab.output.renderOutput(dataTable, element);\n",
              "        const docLink = document.createElement('div');\n",
              "        docLink.innerHTML = docLinkHtml;\n",
              "        element.appendChild(docLink);\n",
              "      }\n",
              "    </script>\n",
              "  </div>\n",
              "\n",
              "\n",
              "<div id=\"df-366bff93-3817-43cb-8a2e-664d7c14d32d\">\n",
              "  <button class=\"colab-df-quickchart\" onclick=\"quickchart('df-366bff93-3817-43cb-8a2e-664d7c14d32d')\"\n",
              "            title=\"Suggest charts\"\n",
              "            style=\"display:none;\">\n",
              "\n",
              "<svg xmlns=\"http://www.w3.org/2000/svg\" height=\"24px\"viewBox=\"0 0 24 24\"\n",
              "     width=\"24px\">\n",
              "    <g>\n",
              "        <path d=\"M19 3H5c-1.1 0-2 .9-2 2v14c0 1.1.9 2 2 2h14c1.1 0 2-.9 2-2V5c0-1.1-.9-2-2-2zM9 17H7v-7h2v7zm4 0h-2V7h2v10zm4 0h-2v-4h2v4z\"/>\n",
              "    </g>\n",
              "</svg>\n",
              "  </button>\n",
              "\n",
              "<style>\n",
              "  .colab-df-quickchart {\n",
              "      --bg-color: #E8F0FE;\n",
              "      --fill-color: #1967D2;\n",
              "      --hover-bg-color: #E2EBFA;\n",
              "      --hover-fill-color: #174EA6;\n",
              "      --disabled-fill-color: #AAA;\n",
              "      --disabled-bg-color: #DDD;\n",
              "  }\n",
              "\n",
              "  [theme=dark] .colab-df-quickchart {\n",
              "      --bg-color: #3B4455;\n",
              "      --fill-color: #D2E3FC;\n",
              "      --hover-bg-color: #434B5C;\n",
              "      --hover-fill-color: #FFFFFF;\n",
              "      --disabled-bg-color: #3B4455;\n",
              "      --disabled-fill-color: #666;\n",
              "  }\n",
              "\n",
              "  .colab-df-quickchart {\n",
              "    background-color: var(--bg-color);\n",
              "    border: none;\n",
              "    border-radius: 50%;\n",
              "    cursor: pointer;\n",
              "    display: none;\n",
              "    fill: var(--fill-color);\n",
              "    height: 32px;\n",
              "    padding: 0;\n",
              "    width: 32px;\n",
              "  }\n",
              "\n",
              "  .colab-df-quickchart:hover {\n",
              "    background-color: var(--hover-bg-color);\n",
              "    box-shadow: 0 1px 2px rgba(60, 64, 67, 0.3), 0 1px 3px 1px rgba(60, 64, 67, 0.15);\n",
              "    fill: var(--button-hover-fill-color);\n",
              "  }\n",
              "\n",
              "  .colab-df-quickchart-complete:disabled,\n",
              "  .colab-df-quickchart-complete:disabled:hover {\n",
              "    background-color: var(--disabled-bg-color);\n",
              "    fill: var(--disabled-fill-color);\n",
              "    box-shadow: none;\n",
              "  }\n",
              "\n",
              "  .colab-df-spinner {\n",
              "    border: 2px solid var(--fill-color);\n",
              "    border-color: transparent;\n",
              "    border-bottom-color: var(--fill-color);\n",
              "    animation:\n",
              "      spin 1s steps(1) infinite;\n",
              "  }\n",
              "\n",
              "  @keyframes spin {\n",
              "    0% {\n",
              "      border-color: transparent;\n",
              "      border-bottom-color: var(--fill-color);\n",
              "      border-left-color: var(--fill-color);\n",
              "    }\n",
              "    20% {\n",
              "      border-color: transparent;\n",
              "      border-left-color: var(--fill-color);\n",
              "      border-top-color: var(--fill-color);\n",
              "    }\n",
              "    30% {\n",
              "      border-color: transparent;\n",
              "      border-left-color: var(--fill-color);\n",
              "      border-top-color: var(--fill-color);\n",
              "      border-right-color: var(--fill-color);\n",
              "    }\n",
              "    40% {\n",
              "      border-color: transparent;\n",
              "      border-right-color: var(--fill-color);\n",
              "      border-top-color: var(--fill-color);\n",
              "    }\n",
              "    60% {\n",
              "      border-color: transparent;\n",
              "      border-right-color: var(--fill-color);\n",
              "    }\n",
              "    80% {\n",
              "      border-color: transparent;\n",
              "      border-right-color: var(--fill-color);\n",
              "      border-bottom-color: var(--fill-color);\n",
              "    }\n",
              "    90% {\n",
              "      border-color: transparent;\n",
              "      border-bottom-color: var(--fill-color);\n",
              "    }\n",
              "  }\n",
              "</style>\n",
              "\n",
              "  <script>\n",
              "    async function quickchart(key) {\n",
              "      const quickchartButtonEl =\n",
              "        document.querySelector('#' + key + ' button');\n",
              "      quickchartButtonEl.disabled = true;  // To prevent multiple clicks.\n",
              "      quickchartButtonEl.classList.add('colab-df-spinner');\n",
              "      try {\n",
              "        const charts = await google.colab.kernel.invokeFunction(\n",
              "            'suggestCharts', [key], {});\n",
              "      } catch (error) {\n",
              "        console.error('Error during call to suggestCharts:', error);\n",
              "      }\n",
              "      quickchartButtonEl.classList.remove('colab-df-spinner');\n",
              "      quickchartButtonEl.classList.add('colab-df-quickchart-complete');\n",
              "    }\n",
              "    (() => {\n",
              "      let quickchartButtonEl =\n",
              "        document.querySelector('#df-366bff93-3817-43cb-8a2e-664d7c14d32d button');\n",
              "      quickchartButtonEl.style.display =\n",
              "        google.colab.kernel.accessAllowed ? 'block' : 'none';\n",
              "    })();\n",
              "  </script>\n",
              "</div>\n",
              "    </div>\n",
              "  </div>\n"
            ],
            "application/vnd.google.colaboratory.intrinsic+json": {
              "type": "dataframe",
              "variable_name": "x",
              "summary": "{\n  \"name\": \"x\",\n  \"rows\": 4417,\n  \"fields\": [\n    {\n      \"column\": \"PM2.5\",\n      \"properties\": {\n        \"dtype\": \"number\",\n        \"std\": 22.31186985394339,\n        \"min\": 1.0,\n        \"max\": 182.0,\n        \"num_unique_values\": 220,\n        \"samples\": [\n          37.5,\n          100.0,\n          2.5\n        ],\n        \"semantic_type\": \"\",\n        \"description\": \"\"\n      }\n    },\n    {\n      \"column\": \"PM10\",\n      \"properties\": {\n        \"dtype\": \"number\",\n        \"std\": 32.728966387427306,\n        \"min\": 4.0,\n        \"max\": 243.0,\n        \"num_unique_values\": 246,\n        \"samples\": [\n          52.0,\n          34.0,\n          71.5\n        ],\n        \"semantic_type\": \"\",\n        \"description\": \"\"\n      }\n    }\n  ]\n}"
            }
          },
          "metadata": {},
          "execution_count": 50
        }
      ]
    },
    {
      "cell_type": "code",
      "source": [
        "#storing target column in y\n",
        "y = df['AQI']\n",
        "y"
      ],
      "metadata": {
        "id": "53-LA84t-wHR",
        "colab": {
          "base_uri": "https://localhost:8080/"
        },
        "outputId": "0b727b29-3c7f-481d-88e3-663f8977b330"
      },
      "execution_count": 51,
      "outputs": [
        {
          "output_type": "execute_result",
          "data": {
            "text/plain": [
              "0       23.0\n",
              "1       23.0\n",
              "2       23.0\n",
              "3       25.0\n",
              "4       29.0\n",
              "        ... \n",
              "4412    55.0\n",
              "4413    58.0\n",
              "4414    57.0\n",
              "4415    54.0\n",
              "4416    56.0\n",
              "Name: AQI, Length: 4417, dtype: float64"
            ]
          },
          "metadata": {},
          "execution_count": 51
        }
      ]
    },
    {
      "cell_type": "code",
      "source": [
        "#splitting test train data by using train_test_split libraries from sklearn\n",
        "x_train, x_test, y_train, y_test= train_test_split(x, y, test_size= 0.2,random_state=0)\n"
      ],
      "metadata": {
        "id": "UE9tFQJq-wHR"
      },
      "execution_count": 52,
      "outputs": []
    },
    {
      "cell_type": "code",
      "source": [
        "#fitting the model\n",
        "lr= LinearRegression()\n",
        "lr.fit(x_train,y_train)"
      ],
      "metadata": {
        "id": "-9S4gNjc-wHS",
        "colab": {
          "base_uri": "https://localhost:8080/",
          "height": 75
        },
        "outputId": "6489fbb9-6b31-4997-d84e-ec52654fc2ed"
      },
      "execution_count": 53,
      "outputs": [
        {
          "output_type": "execute_result",
          "data": {
            "text/plain": [
              "LinearRegression()"
            ],
            "text/html": [
              "<style>#sk-container-id-2 {color: black;background-color: white;}#sk-container-id-2 pre{padding: 0;}#sk-container-id-2 div.sk-toggleable {background-color: white;}#sk-container-id-2 label.sk-toggleable__label {cursor: pointer;display: block;width: 100%;margin-bottom: 0;padding: 0.3em;box-sizing: border-box;text-align: center;}#sk-container-id-2 label.sk-toggleable__label-arrow:before {content: \"▸\";float: left;margin-right: 0.25em;color: #696969;}#sk-container-id-2 label.sk-toggleable__label-arrow:hover:before {color: black;}#sk-container-id-2 div.sk-estimator:hover label.sk-toggleable__label-arrow:before {color: black;}#sk-container-id-2 div.sk-toggleable__content {max-height: 0;max-width: 0;overflow: hidden;text-align: left;background-color: #f0f8ff;}#sk-container-id-2 div.sk-toggleable__content pre {margin: 0.2em;color: black;border-radius: 0.25em;background-color: #f0f8ff;}#sk-container-id-2 input.sk-toggleable__control:checked~div.sk-toggleable__content {max-height: 200px;max-width: 100%;overflow: auto;}#sk-container-id-2 input.sk-toggleable__control:checked~label.sk-toggleable__label-arrow:before {content: \"▾\";}#sk-container-id-2 div.sk-estimator input.sk-toggleable__control:checked~label.sk-toggleable__label {background-color: #d4ebff;}#sk-container-id-2 div.sk-label input.sk-toggleable__control:checked~label.sk-toggleable__label {background-color: #d4ebff;}#sk-container-id-2 input.sk-hidden--visually {border: 0;clip: rect(1px 1px 1px 1px);clip: rect(1px, 1px, 1px, 1px);height: 1px;margin: -1px;overflow: hidden;padding: 0;position: absolute;width: 1px;}#sk-container-id-2 div.sk-estimator {font-family: monospace;background-color: #f0f8ff;border: 1px dotted black;border-radius: 0.25em;box-sizing: border-box;margin-bottom: 0.5em;}#sk-container-id-2 div.sk-estimator:hover {background-color: #d4ebff;}#sk-container-id-2 div.sk-parallel-item::after {content: \"\";width: 100%;border-bottom: 1px solid gray;flex-grow: 1;}#sk-container-id-2 div.sk-label:hover label.sk-toggleable__label {background-color: #d4ebff;}#sk-container-id-2 div.sk-serial::before {content: \"\";position: absolute;border-left: 1px solid gray;box-sizing: border-box;top: 0;bottom: 0;left: 50%;z-index: 0;}#sk-container-id-2 div.sk-serial {display: flex;flex-direction: column;align-items: center;background-color: white;padding-right: 0.2em;padding-left: 0.2em;position: relative;}#sk-container-id-2 div.sk-item {position: relative;z-index: 1;}#sk-container-id-2 div.sk-parallel {display: flex;align-items: stretch;justify-content: center;background-color: white;position: relative;}#sk-container-id-2 div.sk-item::before, #sk-container-id-2 div.sk-parallel-item::before {content: \"\";position: absolute;border-left: 1px solid gray;box-sizing: border-box;top: 0;bottom: 0;left: 50%;z-index: -1;}#sk-container-id-2 div.sk-parallel-item {display: flex;flex-direction: column;z-index: 1;position: relative;background-color: white;}#sk-container-id-2 div.sk-parallel-item:first-child::after {align-self: flex-end;width: 50%;}#sk-container-id-2 div.sk-parallel-item:last-child::after {align-self: flex-start;width: 50%;}#sk-container-id-2 div.sk-parallel-item:only-child::after {width: 0;}#sk-container-id-2 div.sk-dashed-wrapped {border: 1px dashed gray;margin: 0 0.4em 0.5em 0.4em;box-sizing: border-box;padding-bottom: 0.4em;background-color: white;}#sk-container-id-2 div.sk-label label {font-family: monospace;font-weight: bold;display: inline-block;line-height: 1.2em;}#sk-container-id-2 div.sk-label-container {text-align: center;}#sk-container-id-2 div.sk-container {/* jupyter's `normalize.less` sets `[hidden] { display: none; }` but bootstrap.min.css set `[hidden] { display: none !important; }` so we also need the `!important` here to be able to override the default hidden behavior on the sphinx rendered scikit-learn.org. See: https://github.com/scikit-learn/scikit-learn/issues/21755 */display: inline-block !important;position: relative;}#sk-container-id-2 div.sk-text-repr-fallback {display: none;}</style><div id=\"sk-container-id-2\" class=\"sk-top-container\"><div class=\"sk-text-repr-fallback\"><pre>LinearRegression()</pre><b>In a Jupyter environment, please rerun this cell to show the HTML representation or trust the notebook. <br />On GitHub, the HTML representation is unable to render, please try loading this page with nbviewer.org.</b></div><div class=\"sk-container\" hidden><div class=\"sk-item\"><div class=\"sk-estimator sk-toggleable\"><input class=\"sk-toggleable__control sk-hidden--visually\" id=\"sk-estimator-id-2\" type=\"checkbox\" checked><label for=\"sk-estimator-id-2\" class=\"sk-toggleable__label sk-toggleable__label-arrow\">LinearRegression</label><div class=\"sk-toggleable__content\"><pre>LinearRegression()</pre></div></div></div></div></div>"
            ]
          },
          "metadata": {},
          "execution_count": 53
        }
      ]
    },
    {
      "cell_type": "code",
      "source": [
        "#calculating intercept c\n",
        "c = lr.intercept_\n",
        "c"
      ],
      "metadata": {
        "id": "yK0djabP-wHS",
        "colab": {
          "base_uri": "https://localhost:8080/"
        },
        "outputId": "eaa3eb09-8cb9-41eb-b63e-12a1d1797e2b"
      },
      "execution_count": 54,
      "outputs": [
        {
          "output_type": "execute_result",
          "data": {
            "text/plain": [
              "15.780111766846716"
            ]
          },
          "metadata": {},
          "execution_count": 54
        }
      ]
    },
    {
      "cell_type": "code",
      "source": [
        "# Calculating coefficient m\n",
        "m = lr.coef_\n",
        "m"
      ],
      "metadata": {
        "id": "YMeA7YcW-wHS",
        "colab": {
          "base_uri": "https://localhost:8080/"
        },
        "outputId": "5ec94ed5-773e-4899-f1d8-85c7a182ddb3"
      },
      "execution_count": 55,
      "outputs": [
        {
          "output_type": "execute_result",
          "data": {
            "text/plain": [
              "array([0.43999371, 0.46367613])"
            ]
          },
          "metadata": {},
          "execution_count": 55
        }
      ]
    },
    {
      "cell_type": "code",
      "source": [
        "#predicting y training values\n",
        "y_pred_train = lr.predict(x_train)\n",
        "y_pred_train"
      ],
      "metadata": {
        "id": "SEm944sJ-wHT",
        "colab": {
          "base_uri": "https://localhost:8080/"
        },
        "outputId": "f0ddb047-1bcb-4527-adf0-ad1105f6808a"
      },
      "execution_count": 56,
      "outputs": [
        {
          "output_type": "execute_result",
          "data": {
            "text/plain": [
              "array([ 68.57188134, 134.40765759,  87.87052966, ...,  52.23477692,\n",
              "        22.22421276,  63.95880245])"
            ]
          },
          "metadata": {},
          "execution_count": 56
        }
      ]
    },
    {
      "cell_type": "code",
      "source": [
        "# Plotting Training Actual values vs Predicted Values\n",
        "plt.figure(figsize=(10, 6))\n",
        "\n",
        "# Scatter plot of training data (actual values)\n",
        "plt.scatter(y_train, y_pred_train, color='red')\n",
        "\n",
        "# Labels\n",
        "plt.xlabel('Actual Y_train')\n",
        "plt.ylabel('Predicted Y_train')\n",
        "plt.title('Actual vs Predicted values of Training Data Model 2')\n",
        "\n",
        "\n",
        "# Display the plot\n",
        "plt.show()\n"
      ],
      "metadata": {
        "id": "gXZuSoefCdZS",
        "colab": {
          "base_uri": "https://localhost:8080/",
          "height": 564
        },
        "outputId": "ecd3bcc4-f50e-4a8c-f0ec-96075a88b26b"
      },
      "execution_count": 72,
      "outputs": [
        {
          "output_type": "display_data",
          "data": {
            "text/plain": [
              "<Figure size 1000x600 with 1 Axes>"
            ],
            "image/png": "[encoded data removed]"
          },
          "metadata": {}
        }
      ]
    },
    {
      "cell_type": "code",
      "source": [
        "#Prdicitng y testing values\n",
        "y_pred_test = lr.predict(x_test)\n",
        "y_pred_test"
      ],
      "metadata": {
        "id": "o5Qs8DTio2-q",
        "colab": {
          "base_uri": "https://localhost:8080/"
        },
        "outputId": "c0d510da-d78e-49b7-c48f-aaa28a8c6d14"
      },
      "execution_count": 58,
      "outputs": [
        {
          "output_type": "execute_result",
          "data": {
            "text/plain": [
              "array([ 41.31969155,  30.93932957,  49.73690916,  54.06579902,\n",
              "        81.50744816,  44.22016042,  24.49522857,  34.53032652,\n",
              "        64.95720197,  54.62420483,  34.64873861,  45.44541189,\n",
              "        25.79152729,  35.99240217,  66.15877101, 113.15957507,\n",
              "       120.85260995,  32.81771651,  40.39233929,  43.03230156,\n",
              "        59.3930884 , 127.38146837,  59.23728371,  79.93693266,\n",
              "        46.81275786,  49.37481779,  68.32134698,  37.33606572,\n",
              "        48.96536158,  37.68132976,  48.96536158, 119.75948076,\n",
              "        48.03800932, 104.12287665,  76.43069314,  32.77035167,\n",
              "        52.30582417,  30.96301198, 112.18485798,  44.47069479,\n",
              "        43.66175462,  90.80465319,  50.03480836,  94.19621856,\n",
              "        24.93522229,  34.57769136,  36.50344313,  42.85281445,\n",
              "        47.02589963,  98.21349904,  42.6633551 ,  43.44861285,\n",
              "        28.15727278, 102.37661198,  54.76629934,  51.21269498,\n",
              "        54.26896855,  36.91975443,  51.33110707,  28.20463762,\n",
              "        34.97032023,  57.75152565,  32.74666925,  32.35404038,\n",
              "        31.84299941,  65.1229789 ,  53.92370451,  37.90132661,\n",
              "        35.96871975,  33.2340278 ,  36.40871346,  25.9336218 ,\n",
              "        34.36953571,  47.69274528, 113.8906129 ,  77.89276879,\n",
              "       137.00025502,  34.57769136,  34.06665039,  26.86097406,\n",
              "        30.28619409,  73.79073087,  58.14415452,  56.91890306,\n",
              "        57.09839017,  89.89101111,  48.52536787,  38.33446524,\n",
              "        30.38092376,  54.38738064,  53.4837108 ,  28.10990795,\n",
              "        45.56382398,  66.00296632,  41.41442122,  25.42258084,\n",
              "        54.06579902,  74.76544797,  39.58339912,  51.55795902,\n",
              "        74.59967104,  25.00626954,  77.59486959,  50.30902514,\n",
              "        87.67733237,  44.39964753,  34.11401523,  35.55240845,\n",
              "        52.99635225,  41.85441493,  32.65193958,  62.75723341,\n",
              "        51.9131953 ,  54.06579902,  46.39644657,  29.59566601,\n",
              "        81.79163718,  61.38988744,  39.97602799,  58.70256033,\n",
              "        64.65930277,  49.86903143,  44.12543075,  45.90908802,\n",
              "        47.59801561,  24.07891728,  43.36385542,  61.78251631,\n",
              "        49.4053553 ,  60.11727114,  50.61689658,  52.99635225,\n",
              "        50.86743094,  78.75904604,  40.71392091,  56.80049097,\n",
              "        46.30171689,  48.73850964,  67.04873068,  37.6102825 ,\n",
              "        58.14415452,  29.50093634, 104.50553328,  68.01347554,\n",
              "        46.4438114 ,  60.09358872,  53.39895336,  70.91394441,\n",
              "        33.57929184, 125.19147205,  57.70416081,  34.11401523,\n",
              "        49.91639626,  65.21770857,  39.09604057,  32.79403409,\n",
              "        42.29440865,  50.56953174,  49.20218577,  64.73035002,\n",
              "        33.69770393,  59.02414195,  44.63647172,  52.11636482,\n",
              "        45.12383027, 126.94147466,  87.92786673,  71.67551974,\n",
              "        40.41602171, 107.51070407, 104.25499892, 102.11610537,\n",
              "        30.1303894 ,  26.27888584,  92.80145223,  47.81115738,\n",
              "        32.28299312,  43.12703123,  24.07891728,  59.60623017,\n",
              "        47.59801561,  71.62815491,  64.95720197,  69.38082151,\n",
              "        86.74000787,  31.4030057 ,  60.43885276,  41.31969155,\n",
              "        30.54670069,  28.13359036,  94.18250838,  45.93277044,\n",
              "       137.90392487,  29.13198988, 109.81911249,  45.93277044,\n",
              "        97.92931002,  87.22736642,  53.16212918,  52.2110945 ,\n",
              "        29.91724763,  42.24704381,  56.9662679 ,  62.22251002,\n",
              "        83.9816335 ,  30.91564715,  46.00381769,  61.69277276,\n",
              "        54.48211031,  73.50654185,  47.37116366, 135.60922663,\n",
              "        42.75808478,  36.36134862,  90.29361222,  40.85601542,\n",
              "        36.91975443,  37.33606572,  36.70661266,  44.54174204,\n",
              "        39.99971041,  28.20463762, 145.96590619,  39.70181121,\n",
              "        38.35814766,  25.46994567,  37.7286946 ,  39.11972299,\n",
              "        36.36134862,  32.2593107 ,  54.83734659,  45.54014156,\n",
              "        43.54334253, 122.20998368,  82.98323399,  28.69199617,\n",
              "        45.37436463,  33.63849789,  39.90498074,  35.43399636,\n",
              "        53.94738693,  54.0421166 ,  61.53198195,  52.72213547,\n",
              "        35.45767878,  54.08948144,  55.04051612,  42.34177348,\n",
              "        66.05033116,  54.38738064,  48.59641513,  70.1386589 ,\n",
              "        62.22251002,  59.50046267,  42.82913203,  36.19557169,\n",
              "        28.66831375,  33.55560942,  49.61849706,  65.56297261,\n",
              "        55.04051612,  77.3580454 ,  49.20218577,  74.46754877,\n",
              "        25.46994567,  60.41517034,  31.35564086,  37.26501847,\n",
              "        54.23157595,  55.13524579,  58.92941227,  45.90908802,\n",
              "        71.18816119,  53.1858116 ,  41.8070501 ,  40.41602171,\n",
              "        31.84299941,  32.30667554,  72.37602006,  41.97282703,\n",
              "        55.87313871,  59.21360129,  77.1785583 ,  68.76134069,\n",
              "        42.68703752,  40.90338025,  97.23878194,  50.2616603 ,\n",
              "        30.52301827,  34.57769136,  27.3246502 ,  67.27558262,\n",
              "        35.52872604,  36.82502475,  41.48546848,  39.48866944,\n",
              "        41.3907388 ,  66.9913936 ,  41.92546219,  63.2919568 ,\n",
              "        49.50008497,  35.85030765,  69.64132811,  48.91799675,\n",
              "        28.22832004,  63.12617987,  32.72298683,  53.69685256,\n",
              "        51.84214804,  38.35814766,  45.12383027,  26.74256197,\n",
              "       115.70480767,  40.97442751,  45.90908802,  83.48056478,\n",
              "        33.21034538,  51.14164773,  82.50584768,  40.46338654,\n",
              "        93.70886001, 142.5332103 ,  40.09444009,  33.60297426,\n",
              "        36.91975443,  55.62260434,  27.71727907,  82.55321252,\n",
              "        43.6380722 ,  40.34497445,  71.95970877,  47.30011641,\n",
              "        41.27232671,  47.39484608,  53.39895336,  40.48706896,\n",
              "        33.65033909, 130.0924779 ,  49.03640884,  89.54574707,\n",
              "        45.68223607,  44.00701866,  72.3049728 ,  41.92546219,\n",
              "        40.90338025,  74.73179331,  42.63967268,  61.9009284 ,\n",
              "       115.94163186,  66.57508231,  27.71727907,  47.25275157,\n",
              "       113.31537976,  35.11241474,  34.43559684,  57.47730886,\n",
              "        58.60783065,  57.145755  , 146.06063587,  34.99400265,\n",
              "        40.07075767,  56.82417339,  36.31398379,  81.87639462,\n",
              "        67.41767713,  44.58910688,  43.22176091,  91.83872658,\n",
              "        44.00701866,  94.11146112,  67.34662988,  26.81360923,\n",
              "        38.2871004 ,  97.15402451,  41.06915718,  47.78747496,\n",
              "        47.09694688, 126.52516337,  49.57113223,  39.09604057,\n",
              "        38.26341798,  41.53283332,  43.0796664 ,  50.45111965,\n",
              "        73.62495394,  43.12703123,  42.73440236,  29.10830746,\n",
              "        50.30902514,  51.03320787,  60.87884647,  39.48866944,\n",
              "       129.14144322,  38.07395863, 100.78241406,  66.27396958,\n",
              "        42.73440236,  83.70741672,  39.88129832,  64.29035631,\n",
              "        35.50504362,  47.39484608,  58.44205372,  36.82502475,\n",
              "        68.13188763,  33.81611602,  53.62580531,  80.99640719,\n",
              "        40.95074509,  32.2593107 ,  39.07235815,  29.03726021,\n",
              "        87.8805019 ,  72.7212841 ,  29.01357779,  28.59726649,\n",
              "        84.74320884, 120.45000883,  26.39729793,  43.51966011,\n",
              "        32.60457474,  51.00952545,  37.77605943,  49.72008183,\n",
              "        48.83323931,  39.46498703,  54.41106306,  74.94493508,\n",
              "        79.51064913,  54.41106306,  38.31078282,  46.81275786,\n",
              "        42.68703752,  40.46338654,  58.84465484,  74.15967733,\n",
              "       115.93165962,  25.86257455,  65.95560149, 116.35794315,\n",
              "        47.41354238,  78.88119607,  79.55801396,  41.8070501 ,\n",
              "        44.54174204,  30.93932957,  37.45447781,  77.94013363,\n",
              "        29.57198359,  59.53518291,  45.44541189,  40.51075138,\n",
              "        33.90087346,  68.96451022,  59.72464226,  52.37687143,\n",
              "        64.24299148,  61.48461711,  54.94578644,  40.90338025,\n",
              "        24.76259027,  23.63892357,  80.03166234,  52.72213547,\n",
              "        38.23973556,  33.16298055,  59.60623017,  92.79147999,\n",
              "        97.32353938,  35.08873232,  28.10990795,  40.39233929,\n",
              "        30.93932957,  56.70576129,  63.94509227,  23.1278826 ,\n",
              "        92.88620966,  26.81360923,  69.59396328,  53.20949401,\n",
              "       133.14875147, 132.0419121 ,  45.35068221,  37.40711298,\n",
              "        41.02179235,  37.28870088,  52.32950659,  53.16212918,\n",
              "        43.10334882,  38.11914246,  26.37361552,  52.16372966,\n",
              "        78.39383752,  62.04302292,  41.43810364,  41.55651573,\n",
              "        97.97667486,  49.52376739,  51.84214804,  48.22746867,\n",
              "        53.83894708,  42.7817672 ,  39.02499331,  67.53608923,\n",
              "       100.94819099,  43.340173  ,  68.36325845,  54.34998804,\n",
              "        43.59070736,  41.8070501 ,  41.8070501 , 103.62554586,\n",
              "        53.46002838,  60.94989372,  38.19237073,  27.81200874,\n",
              "        93.51566272,  51.16533014,  46.97853479,  42.1049493 ,\n",
              "        99.60452743,  56.87153822,  35.31558427,  29.64303085,\n",
              "        25.29423613,  56.77680855,  65.49192536,  47.69274528,\n",
              "       141.22070504,  42.29440865,  54.55315757,  33.18666296,\n",
              "        31.45037053,  29.17935472,  52.7695003 ,  45.69594625,\n",
              "        34.01928555,  45.00541817,  39.16708782,  30.40460618,\n",
              "        55.38578016,  52.04531757,  23.56787631,  65.37351326,\n",
              "        46.59961609,  34.97032023,  54.06579902,  39.14340541,\n",
              "        47.03960981,  69.05923989,  30.45197102,  54.43474548,\n",
              "        24.1025997 ,  58.44205372,  45.49277672,  34.13769764,\n",
              "        33.18666296,  26.30256826,  52.23477692,  58.73995292,\n",
              "        29.1556723 ,  77.67962702,  47.66906287,  48.132739  ,\n",
              "        29.03726021,  39.83393348,  28.20463762,  64.49352584,\n",
              "        75.39490103,  46.46749382,  39.11972299, 108.82071297,\n",
              "        98.17610645, 142.86226779,  34.92295539, 109.15226683,\n",
              "        29.94093005,  27.22992052,  64.02984971,  55.48050983,\n",
              "        25.00626954,  58.85836502,  33.97441377,  41.75968526,\n",
              "        50.54584932, 111.25750572,  41.27232671,  31.89036425,\n",
              "        54.18421111,  47.25275157,  36.40871346,  57.59572096,\n",
              "        36.38503104,  58.92941227,  34.41191443, 137.15605971,\n",
              "        82.89847655,  24.1025997 ,  66.88295375,  27.71727907,\n",
              "        56.80049097,  36.82502475,  45.51645914,  54.01843418,\n",
              "        61.48461711,  28.57358408,  45.79067592,  41.24864429,\n",
              "        35.87399007, 106.64442683,  45.51645914,  42.24704381,\n",
              "        82.87479413,  52.06899999,  53.4837108 ,  85.9310677 ,\n",
              "        58.19151936,  61.48461711,  59.88044695,  32.2593107 ,\n",
              "       134.65819195,  66.46664245,  30.03565972,  66.71717682,\n",
              "        47.08697464,  32.33035796,  61.99565808,  93.75248691,\n",
              "        51.44951917,  33.13929813,  75.73019283,  46.51485866,\n",
              "        51.21269498,  57.86993774,  41.02179235,  58.14415452,\n",
              "        39.41762219,  33.62665668,  53.92370451, 139.24758842,\n",
              "        37.68132976,  76.68122751,  39.60708154,  37.84710669,\n",
              "        46.69434577,  52.11636482,  48.29851593,  45.86172318,\n",
              "       107.7138736 ,  68.61924618,  34.58953256,  46.4438114 ,\n",
              "        42.38913832,  75.94333459,  52.06899999,  44.03070108,\n",
              "        42.80544961,  78.05854572,  63.00776777,  55.9915508 ,\n",
              "        55.52787467,  48.00061673,  40.1181225 ,  49.91639626,\n",
              "        32.69930441,  64.46984342,  73.55390668,  41.78336768,\n",
              "        25.61545782,  52.67477063,  39.88129832,  48.91799675,\n",
              "        65.97928391,  45.67226383,  22.61684163,  44.73120139,\n",
              "       101.08031326,  35.0650499 ,  58.08307951,  70.86657958,\n",
              "       112.89906847,  25.44626325,  29.03726021,  50.33270756,\n",
              "        44.75924584,  52.51896594,  39.16708782,  73.60127152,\n",
              "        80.92535994,  37.63396492,  70.34182843,  27.71727907,\n",
              "        44.05438349,  25.83889213,  68.06084037,  42.24704381,\n",
              "        43.19807849,  69.08292231,  91.42413401,  33.09193329,\n",
              "        27.71727907,  40.87969784,  24.51891099,  68.55318504,\n",
              "        67.2519002 ,  36.52712555,  61.46093469,  90.4257345 ,\n",
              "        40.87969784,  66.41927762,  72.25760797, 141.44755698,\n",
              "        75.75387525,  73.9939004 ,  28.20463762,  45.95645285,\n",
              "        39.16708782,  46.23066964,  23.10420018,  99.39138567,\n",
              "        81.53113058,  49.61849706,  55.64628676,  38.75077653,\n",
              "        59.99885904,  85.30161464,  40.97442751,  31.01037682,\n",
              "        90.58153919,  56.06259805, 117.16688332,  74.50494136,\n",
              "        26.78992681,  37.24133605,  20.07846412,  85.95475012,\n",
              "        58.48941856,  55.77840903,  59.11887162,  33.62665668,\n",
              "        42.22336139,  36.7539775 ,  90.24624739,  87.06158949,\n",
              "        71.91234393,  37.35974814,  45.06914227,  62.22251002,\n",
              "        48.132739  ,  33.2340278 ,  31.33195844,  76.47805798,\n",
              "        86.76369029,  35.43399636,  77.32065281,  37.28870088,\n",
              "        85.6705611 ,  62.63882132,  41.27232671,  53.32790611,\n",
              "        33.18666296,  59.53518291,  34.01928555,  32.28299312,\n",
              "        35.55240845,  61.68778664,  74.11231249,  48.57273271,\n",
              "        37.28870088,  29.1556723 , 139.82967664,  83.77846398,\n",
              "        63.63722083,  37.6102825 ,  47.18170432,  55.29105048,\n",
              "        50.10585561,  48.73850964,  85.97843254, 100.87714373,\n",
              "        33.30507506,  41.75968526,  40.48706896, 117.48846494,\n",
              "        44.26752526,  48.64377996,  41.90177977,  39.46498703,\n",
              "        41.31969155,  42.61599027,  51.72373595,  80.94904236,\n",
              "       142.90963263,  75.11071201,  60.22571099,  64.21930906,\n",
              "        39.60708154,  41.85441493,  45.00541817,  52.60372337,\n",
              "        43.31649058,  36.31398379,  46.32539931,  53.57844047,\n",
              "        54.13684628,  21.90185185,  69.2013344 ,  47.69274528,\n",
              "        34.97032023,  38.93026364,  50.9384782 ,  30.45197102,\n",
              "        57.28784952,  29.08462504, 111.71120961,  39.2618175 ,\n",
              "        44.98173576,  33.65033909,  96.3351121 , 102.26817213,\n",
              "        92.29041126,  41.75968526,  41.92546219,  41.04547477,\n",
              "        34.57769136,  47.88220463,  62.22251002,  51.18901256,\n",
              "        42.04428974,  51.86583046,  31.84299941,  99.22560874,\n",
              "        64.84876212,  47.74011012,  25.46994567,  38.67972928,\n",
              "        25.81520971,  34.60137377,  70.37922103,  31.89036425,\n",
              "        47.25275157,  37.89447153,  38.07395863,  60.04622388,\n",
              "       115.58639558,  53.46002838,  94.65615675,  61.92461082,\n",
              "        57.31153193,  73.82812347,  31.79563457,  42.41282074,\n",
              "        39.46498703,  39.67812879,  36.40871346,  42.98493672,\n",
              "        45.69594625,  41.46178606,  75.36124637,  37.26501847,\n",
              "        45.93277044,  49.54744981,  53.4837108 ,  56.98995032,\n",
              "        68.95080004,  47.66906287,  38.64420565,  33.18666296,\n",
              "        27.76464391,  53.20949401,  68.08452279,  81.1758943 ,\n",
              "        35.11241474,  41.92546219,  68.76134069,  54.06579902,\n",
              "        54.25525837,  61.31884018,  46.83644028,  74.57598862,\n",
              "        32.3777228 ,  48.32219834,  60.04622388,  74.11231249])"
            ]
          },
          "metadata": {},
          "execution_count": 58
        }
      ]
    },
    {
      "cell_type": "code",
      "source": [
        "#Plotting  Testing Actual values vs Predicted Vlaues\n",
        "plt.figure(figsize=(10, 6))\n",
        "# Scatter plot of testing data\n",
        "plt.scatter(y_test, y_pred_test, color ='brown')\n",
        "# Labels\n",
        "plt.xlabel('Actual Y_test')\n",
        "plt.ylabel('Predicted Y_test')\n",
        "plt.title('Actual vs Predicted values of Testing Data Model 2')\n",
        "# Display the plot\n",
        "plt.show()\n"
      ],
      "metadata": {
        "id": "qVXbTRIAoSw-",
        "colab": {
          "base_uri": "https://localhost:8080/",
          "height": 564
        },
        "outputId": "ce6f811d-9a5a-40f5-cee6-aa4d7dee275c"
      },
      "execution_count": 59,
      "outputs": [
        {
          "output_type": "display_data",
          "data": {
            "text/plain": [
              "<Figure size 1000x600 with 1 Axes>"
            ],
            "image/png": "[encoded data removed]"
          },
          "metadata": {}
        }
      ]
    },
    {
      "cell_type": "code",
      "source": [
        "#Calculating training data error term for linear regression\n",
        "res_train = (y_train - y_pred_train)\n",
        "res_train"
      ],
      "metadata": {
        "id": "HEeuIMcuZDmJ",
        "colab": {
          "base_uri": "https://localhost:8080/"
        },
        "outputId": "625ccf25-5cf0-412a-8f1e-8a1eaef6c1ec"
      },
      "execution_count": 60,
      "outputs": [
        {
          "output_type": "execute_result",
          "data": {
            "text/plain": [
              "4339    74.178119\n",
              "4275    -1.407658\n",
              "3849     5.129470\n",
              "883     -1.614390\n",
              "134      3.286828\n",
              "          ...    \n",
              "1033    -3.127031\n",
              "3264     3.846780\n",
              "1653    -0.234777\n",
              "2607    -3.224213\n",
              "2732    -5.958802\n",
              "Name: AQI, Length: 3533, dtype: float64"
            ]
          },
          "metadata": {},
          "execution_count": 60
        }
      ]
    },
    {
      "cell_type": "code",
      "source": [
        "# Plotting histogram to show the error terms for trainig data\n",
        "plt.figure(figsize=(10, 6))\n",
        "# Creating the histogram plot using Seaborn\n",
        "sns.histplot(res_train , color = 'red')\n",
        "\n",
        "# Label the plot\n",
        "plt.title('Distribution of Error Terms of Training Data Model 2')\n",
        "plt.xlabel('Residuals (y_train - y_pred_train)')\n",
        "plt.ylabel('Frequency')\n",
        "plt.show()"
      ],
      "metadata": {
        "id": "4lmnoN0bG9uK",
        "colab": {
          "base_uri": "https://localhost:8080/",
          "height": 564
        },
        "outputId": "df3be990-6fd9-4aa8-d460-ec56b5625e6c"
      },
      "execution_count": 61,
      "outputs": [
        {
          "output_type": "display_data",
          "data": {
            "text/plain": [
              "<Figure size 1000x600 with 1 Axes>"
            ],
            "image/png": "[encoded data removed]"
          },
          "metadata": {}
        }
      ]
    },
    {
      "cell_type": "code",
      "source": [
        "#Calculating testing data error term for linear regression\n",
        "res_test = (y_test - y_pred_test)\n",
        "res_test"
      ],
      "metadata": {
        "id": "Kr8AaklzGxDU",
        "colab": {
          "base_uri": "https://localhost:8080/"
        },
        "outputId": "c066de45-cebb-416a-eb02-8e418eb55d2f"
      },
      "execution_count": 62,
      "outputs": [
        {
          "output_type": "execute_result",
          "data": {
            "text/plain": [
              "2917    -3.319692\n",
              "1457    -1.939330\n",
              "1669    54.263091\n",
              "2013    -1.065799\n",
              "4303    -6.507448\n",
              "          ...    \n",
              "2527    -6.575989\n",
              "2339    -0.377723\n",
              "3276     4.677802\n",
              "3354    -1.046224\n",
              "3019    -6.112312\n",
              "Name: AQI, Length: 884, dtype: float64"
            ]
          },
          "metadata": {},
          "execution_count": 62
        }
      ]
    },
    {
      "cell_type": "code",
      "source": [
        "# Plotting histogram to show the error terms for testing data\n",
        "plt.figure(figsize=(10, 6))\n",
        "# Creating the histogram plot using Seaborn\n",
        "sns.histplot(res_test , color ='brown')\n",
        "# Label the plot\n",
        "plt.title('Distribution of Error Terms of Testing Data Model 2')\n",
        "plt.xlabel('Residuals (y_test - y_pred_test)')\n",
        "plt.ylabel('Frequency')\n",
        "plt.show()"
      ],
      "metadata": {
        "id": "tcdOuQ6SHCBQ",
        "colab": {
          "base_uri": "https://localhost:8080/",
          "height": 564
        },
        "outputId": "4bb66c5f-a421-4698-e26d-ed679710870c"
      },
      "execution_count": 63,
      "outputs": [
        {
          "output_type": "display_data",
          "data": {
            "text/plain": [
              "<Figure size 1000x600 with 1 Axes>"
            ],
            "image/png": "[encoded data removed]"
          },
          "metadata": {}
        }
      ]
    },
    {
      "cell_type": "markdown",
      "source": [
        "Evaluation of Linear Regression"
      ],
      "metadata": {
        "id": "tJOdBtwDzD4b"
      }
    },
    {
      "cell_type": "markdown",
      "source": [
        "#Training Data"
      ],
      "metadata": {
        "id": "W3x8A3fdSB92"
      }
    },
    {
      "cell_type": "code",
      "source": [
        "#Calculating Mean Squared Error of Training Data\n",
        "mse = mean_squared_error(y_train, y_pred_train)\n",
        "print(\"Mean Squared Error (MSE) of Training Data:\", mse)"
      ],
      "metadata": {
        "colab": {
          "base_uri": "https://localhost:8080/"
        },
        "id": "YL116SbFSBNM",
        "outputId": "057a5e33-f04f-4de4-ebae-4f3141d2c58b"
      },
      "execution_count": 64,
      "outputs": [
        {
          "output_type": "stream",
          "name": "stdout",
          "text": [
            "Mean Squared Error (MSE) of Training Data: 83.78276854729341\n"
          ]
        }
      ]
    },
    {
      "cell_type": "code",
      "source": [
        "#calculating Root Mean Squared Error of Training Data\n",
        "rmse = np.sqrt(mse)\n",
        "print(\"Root Mean Squared Error (RMSE) of Training Data:\", rmse)"
      ],
      "metadata": {
        "colab": {
          "base_uri": "https://localhost:8080/"
        },
        "id": "bMqQqCP4zQ58",
        "outputId": "cfa284ac-33ca-4494-c3d9-1d69c0cf6254"
      },
      "execution_count": 65,
      "outputs": [
        {
          "output_type": "stream",
          "name": "stdout",
          "text": [
            "Root Mean Squared Error (RMSE) of Training Data: 9.153292770762521\n"
          ]
        }
      ]
    },
    {
      "cell_type": "code",
      "source": [
        "#Calculating Mean Absolute Error of Training Data\n",
        "mae = mean_absolute_error(y_train, y_pred_train)\n",
        "print(\"Mean Absolute Error (MAE) of Training Data:\", mae)"
      ],
      "metadata": {
        "colab": {
          "base_uri": "https://localhost:8080/"
        },
        "id": "P2TyiIwVzDVw",
        "outputId": "6392e777-50c8-4a3a-8ce9-c8194200d249"
      },
      "execution_count": 66,
      "outputs": [
        {
          "output_type": "stream",
          "name": "stdout",
          "text": [
            "Mean Absolute Error (MAE) of Training Data: 5.30963259190655\n"
          ]
        }
      ]
    },
    {
      "cell_type": "code",
      "source": [
        "#Calculating R-Squared of Training Data\n",
        "rsquare =  r2_score(y_train, y_pred_train)\n",
        "print(\"R-sqaured of Training Data:\", rsquare)"
      ],
      "metadata": {
        "colab": {
          "base_uri": "https://localhost:8080/"
        },
        "id": "agUOgx8JSMWq",
        "outputId": "ebe843e6-720f-40b2-a2ef-047c74a353e9"
      },
      "execution_count": 67,
      "outputs": [
        {
          "output_type": "stream",
          "name": "stdout",
          "text": [
            "R-sqaured of Training Data: 0.8752932834317113\n"
          ]
        }
      ]
    },
    {
      "cell_type": "markdown",
      "source": [
        "###Testing Data"
      ],
      "metadata": {
        "id": "rmqwJ6r3SjaC"
      }
    },
    {
      "cell_type": "code",
      "source": [
        "#Calculating Mean Squared Error\n",
        "mse = mean_squared_error(y_test, y_pred_test)\n",
        "print(\"Mean Squared Error (MSE) of Testing Data :\", mse)"
      ],
      "metadata": {
        "colab": {
          "base_uri": "https://localhost:8080/"
        },
        "id": "MUqhLXCqSwV4",
        "outputId": "30dead4d-e7f8-4c18-f495-19e2b19658a6"
      },
      "execution_count": 68,
      "outputs": [
        {
          "output_type": "stream",
          "name": "stdout",
          "text": [
            "Mean Squared Error (MSE) of Testing Data : 79.53767552774848\n"
          ]
        }
      ]
    },
    {
      "cell_type": "code",
      "source": [
        "#calculating Root Mean Squared Error\n",
        "rmse = np.sqrt(mse)\n",
        "print(\"Root Mean Squared Error (RMSE) of Testing Data:\", rmse)"
      ],
      "metadata": {
        "colab": {
          "base_uri": "https://localhost:8080/"
        },
        "id": "66JljBzhTK2S",
        "outputId": "58e74a2a-9166-4330-b77f-6eb2f852103a"
      },
      "execution_count": 69,
      "outputs": [
        {
          "output_type": "stream",
          "name": "stdout",
          "text": [
            "Root Mean Squared Error (RMSE) of Testing Data: 8.918389738498115\n"
          ]
        }
      ]
    },
    {
      "cell_type": "code",
      "source": [
        "#Calculating Mean Absolute Error\n",
        "mae = mean_absolute_error(y_test, y_pred_test)\n",
        "print(\"Mean Absolute Error (MAE) of Testing Data:\", mae)"
      ],
      "metadata": {
        "colab": {
          "base_uri": "https://localhost:8080/"
        },
        "id": "ubZ84ausSx6p",
        "outputId": "d33c9cdf-10db-46b7-acab-5a63f7186679"
      },
      "execution_count": 70,
      "outputs": [
        {
          "output_type": "stream",
          "name": "stdout",
          "text": [
            "Mean Absolute Error (MAE) of Testing Data: 5.210566166369225\n"
          ]
        }
      ]
    },
    {
      "cell_type": "code",
      "source": [
        "#Calculating R-Squared  of Testing Data\n",
        "rsquare =  r2_score(y_test, y_pred_test)\n",
        "print(\"R-sqaured of Testing Data:\", rsquare)"
      ],
      "metadata": {
        "colab": {
          "base_uri": "https://localhost:8080/"
        },
        "id": "JOILSA8OTN6F",
        "outputId": "507fbd96-cd01-4d45-e540-9d86e828430d"
      },
      "execution_count": 71,
      "outputs": [
        {
          "output_type": "stream",
          "name": "stdout",
          "text": [
            "R-sqaured of Testing Data: 0.8794844616896935\n"
          ]
        }
      ]
    }
  ]
}