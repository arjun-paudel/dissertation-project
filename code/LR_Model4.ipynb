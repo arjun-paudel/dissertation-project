{
  "nbformat": 4,
  "nbformat_minor": 0,
  "metadata": {
    "colab": {
      "provenance": []
    },
    "kernelspec": {
      "name": "python3",
      "display_name": "Python 3"
    },
    "language_info": {
      "name": "python"
    }
  },
  "cells": [
    {
      "cell_type": "markdown",
      "source": [
        "#Predicting Air Quality Index(AQI) with the help of PM2.5, PM10, NO2, O3, CO, and  SO2"
      ],
      "metadata": {
        "id": "icXMWglNdCKy"
      }
    },
    {
      "cell_type": "code",
      "execution_count": 1,
      "metadata": {
        "id": "xVAQy09mwhzG"
      },
      "outputs": [],
      "source": [
        "#importing necessary libraries\n",
        "import pandas as pd\n",
        "import seaborn as sns\n",
        "from sklearn.model_selection import train_test_split\n",
        "from sklearn.linear_model import LinearRegression\n",
        "import matplotlib.pyplot as plt\n",
        "from sklearn.metrics import r2_score,mean_squared_error, mean_absolute_error\n",
        "import numpy as np"
      ]
    },
    {
      "cell_type": "code",
      "source": [
        "#Acessing google drive from google colab\n",
        "from google.colab import drive\n",
        "drive.mount('/content/drive')\n"
      ],
      "metadata": {
        "colab": {
          "base_uri": "https://localhost:8080/"
        },
        "id": "LeizgrDIxQT-",
        "outputId": "d9b964a2-a0a4-41be-993b-c52902c4f333"
      },
      "execution_count": 2,
      "outputs": [
        {
          "output_type": "stream",
          "name": "stdout",
          "text": [
            "Mounted at /content/drive\n"
          ]
        }
      ]
    },
    {
      "cell_type": "code",
      "source": [
        "# Loading the dataset from drive\n",
        "df = pd.read_csv('/content/drive/MyDrive/Dissertation/clean_data.csv')"
      ],
      "metadata": {
        "id": "Y3hI8fk8xUee"
      },
      "execution_count": 3,
      "outputs": []
    },
    {
      "cell_type": "code",
      "source": [
        "#showing the first few data from the dataset\n",
        "df.head(5)"
      ],
      "metadata": {
        "colab": {
          "base_uri": "https://localhost:8080/",
          "height": 206
        },
        "id": "p9z3PoVoxWie",
        "outputId": "f654bf56-a951-491b-e67f-5b54d5183ff4"
      },
      "execution_count": 4,
      "outputs": [
        {
          "output_type": "execute_result",
          "data": {
            "text/plain": [
              "               pubtime  PM2.5  PM10   NO2    O3   CO  SO2   AQI\n",
              "0  2020-06-30 00:00:00   11.0  23.0  26.0  70.0  0.7  5.0  23.0\n",
              "1  2020-06-30 01:00:00   14.0  23.0  29.0  54.0  0.8  5.0  23.0\n",
              "2  2020-06-30 02:00:00   11.0  23.0  31.0  48.0  0.7  5.0  23.0\n",
              "3  2020-06-30 03:00:00   12.0  25.0  42.0  26.0  0.7  5.0  25.0\n",
              "4  2020-06-30 04:00:00    7.0  29.0  36.0  22.0  0.7  5.0  29.0"
            ],
            "text/html": [
              "\n",
              "  <div id=\"df-dfe49f84-3d3f-4894-b052-e243a253a752\" class=\"colab-df-container\">\n",
              "    <div>\n",
              "<style scoped>\n",
              "    .dataframe tbody tr th:only-of-type {\n",
              "        vertical-align: middle;\n",
              "    }\n",
              "\n",
              "    .dataframe tbody tr th {\n",
              "        vertical-align: top;\n",
              "    }\n",
              "\n",
              "    .dataframe thead th {\n",
              "        text-align: right;\n",
              "    }\n",
              "</style>\n",
              "<table border=\"1\" class=\"dataframe\">\n",
              "  <thead>\n",
              "    <tr style=\"text-align: right;\">\n",
              "      <th></th>\n",
              "      <th>pubtime</th>\n",
              "      <th>PM2.5</th>\n",
              "      <th>PM10</th>\n",
              "      <th>NO2</th>\n",
              "      <th>O3</th>\n",
              "      <th>CO</th>\n",
              "      <th>SO2</th>\n",
              "      <th>AQI</th>\n",
              "    </tr>\n",
              "  </thead>\n",
              "  <tbody>\n",
              "    <tr>\n",
              "      <th>0</th>\n",
              "      <td>2020-06-30 00:00:00</td>\n",
              "      <td>11.0</td>\n",
              "      <td>23.0</td>\n",
              "      <td>26.0</td>\n",
              "      <td>70.0</td>\n",
              "      <td>0.7</td>\n",
              "      <td>5.0</td>\n",
              "      <td>23.0</td>\n",
              "    </tr>\n",
              "    <tr>\n",
              "      <th>1</th>\n",
              "      <td>2020-06-30 01:00:00</td>\n",
              "      <td>14.0</td>\n",
              "      <td>23.0</td>\n",
              "      <td>29.0</td>\n",
              "      <td>54.0</td>\n",
              "      <td>0.8</td>\n",
              "      <td>5.0</td>\n",
              "      <td>23.0</td>\n",
              "    </tr>\n",
              "    <tr>\n",
              "      <th>2</th>\n",
              "      <td>2020-06-30 02:00:00</td>\n",
              "      <td>11.0</td>\n",
              "      <td>23.0</td>\n",
              "      <td>31.0</td>\n",
              "      <td>48.0</td>\n",
              "      <td>0.7</td>\n",
              "      <td>5.0</td>\n",
              "      <td>23.0</td>\n",
              "    </tr>\n",
              "    <tr>\n",
              "      <th>3</th>\n",
              "      <td>2020-06-30 03:00:00</td>\n",
              "      <td>12.0</td>\n",
              "      <td>25.0</td>\n",
              "      <td>42.0</td>\n",
              "      <td>26.0</td>\n",
              "      <td>0.7</td>\n",
              "      <td>5.0</td>\n",
              "      <td>25.0</td>\n",
              "    </tr>\n",
              "    <tr>\n",
              "      <th>4</th>\n",
              "      <td>2020-06-30 04:00:00</td>\n",
              "      <td>7.0</td>\n",
              "      <td>29.0</td>\n",
              "      <td>36.0</td>\n",
              "      <td>22.0</td>\n",
              "      <td>0.7</td>\n",
              "      <td>5.0</td>\n",
              "      <td>29.0</td>\n",
              "    </tr>\n",
              "  </tbody>\n",
              "</table>\n",
              "</div>\n",
              "    <div class=\"colab-df-buttons\">\n",
              "\n",
              "  <div class=\"colab-df-container\">\n",
              "    <button class=\"colab-df-convert\" onclick=\"convertToInteractive('df-dfe49f84-3d3f-4894-b052-e243a253a752')\"\n",
              "            title=\"Convert this dataframe to an interactive table.\"\n",
              "            style=\"display:none;\">\n",
              "\n",
              "  <svg xmlns=\"http://www.w3.org/2000/svg\" height=\"24px\" viewBox=\"0 -960 960 960\">\n",
              "    <path d=\"M120-120v-720h720v720H120Zm60-500h600v-160H180v160Zm220 220h160v-160H400v160Zm0 220h160v-160H400v160ZM180-400h160v-160H180v160Zm440 0h160v-160H620v160ZM180-180h160v-160H180v160Zm440 0h160v-160H620v160Z\"/>\n",
              "  </svg>\n",
              "    </button>\n",
              "\n",
              "  <style>\n",
              "    .colab-df-container {\n",
              "      display:flex;\n",
              "      gap: 12px;\n",
              "    }\n",
              "\n",
              "    .colab-df-convert {\n",
              "      background-color: #E8F0FE;\n",
              "      border: none;\n",
              "      border-radius: 50%;\n",
              "      cursor: pointer;\n",
              "      display: none;\n",
              "      fill: #1967D2;\n",
              "      height: 32px;\n",
              "      padding: 0 0 0 0;\n",
              "      width: 32px;\n",
              "    }\n",
              "\n",
              "    .colab-df-convert:hover {\n",
              "      background-color: #E2EBFA;\n",
              "      box-shadow: 0px 1px 2px rgba(60, 64, 67, 0.3), 0px 1px 3px 1px rgba(60, 64, 67, 0.15);\n",
              "      fill: #174EA6;\n",
              "    }\n",
              "\n",
              "    .colab-df-buttons div {\n",
              "      margin-bottom: 4px;\n",
              "    }\n",
              "\n",
              "    [theme=dark] .colab-df-convert {\n",
              "      background-color: #3B4455;\n",
              "      fill: #D2E3FC;\n",
              "    }\n",
              "\n",
              "    [theme=dark] .colab-df-convert:hover {\n",
              "      background-color: #434B5C;\n",
              "      box-shadow: 0px 1px 3px 1px rgba(0, 0, 0, 0.15);\n",
              "      filter: drop-shadow(0px 1px 2px rgba(0, 0, 0, 0.3));\n",
              "      fill: #FFFFFF;\n",
              "    }\n",
              "  </style>\n",
              "\n",
              "    <script>\n",
              "      const buttonEl =\n",
              "        document.querySelector('#df-dfe49f84-3d3f-4894-b052-e243a253a752 button.colab-df-convert');\n",
              "      buttonEl.style.display =\n",
              "        google.colab.kernel.accessAllowed ? 'block' : 'none';\n",
              "\n",
              "      async function convertToInteractive(key) {\n",
              "        const element = document.querySelector('#df-dfe49f84-3d3f-4894-b052-e243a253a752');\n",
              "        const dataTable =\n",
              "          await google.colab.kernel.invokeFunction('convertToInteractive',\n",
              "                                                    [key], {});\n",
              "        if (!dataTable) return;\n",
              "\n",
              "        const docLinkHtml = 'Like what you see? Visit the ' +\n",
              "          '<a target=\"_blank\" href=https://colab.research.google.com/notebooks/data_table.ipynb>data table notebook</a>'\n",
              "          + ' to learn more about interactive tables.';\n",
              "        element.innerHTML = '';\n",
              "        dataTable['output_type'] = 'display_data';\n",
              "        await google.colab.output.renderOutput(dataTable, element);\n",
              "        const docLink = document.createElement('div');\n",
              "        docLink.innerHTML = docLinkHtml;\n",
              "        element.appendChild(docLink);\n",
              "      }\n",
              "    </script>\n",
              "  </div>\n",
              "\n",
              "\n",
              "<div id=\"df-bf405fb7-da78-4317-acbf-57cc3e6c130a\">\n",
              "  <button class=\"colab-df-quickchart\" onclick=\"quickchart('df-bf405fb7-da78-4317-acbf-57cc3e6c130a')\"\n",
              "            title=\"Suggest charts\"\n",
              "            style=\"display:none;\">\n",
              "\n",
              "<svg xmlns=\"http://www.w3.org/2000/svg\" height=\"24px\"viewBox=\"0 0 24 24\"\n",
              "     width=\"24px\">\n",
              "    <g>\n",
              "        <path d=\"M19 3H5c-1.1 0-2 .9-2 2v14c0 1.1.9 2 2 2h14c1.1 0 2-.9 2-2V5c0-1.1-.9-2-2-2zM9 17H7v-7h2v7zm4 0h-2V7h2v10zm4 0h-2v-4h2v4z\"/>\n",
              "    </g>\n",
              "</svg>\n",
              "  </button>\n",
              "\n",
              "<style>\n",
              "  .colab-df-quickchart {\n",
              "      --bg-color: #E8F0FE;\n",
              "      --fill-color: #1967D2;\n",
              "      --hover-bg-color: #E2EBFA;\n",
              "      --hover-fill-color: #174EA6;\n",
              "      --disabled-fill-color: #AAA;\n",
              "      --disabled-bg-color: #DDD;\n",
              "  }\n",
              "\n",
              "  [theme=dark] .colab-df-quickchart {\n",
              "      --bg-color: #3B4455;\n",
              "      --fill-color: #D2E3FC;\n",
              "      --hover-bg-color: #434B5C;\n",
              "      --hover-fill-color: #FFFFFF;\n",
              "      --disabled-bg-color: #3B4455;\n",
              "      --disabled-fill-color: #666;\n",
              "  }\n",
              "\n",
              "  .colab-df-quickchart {\n",
              "    background-color: var(--bg-color);\n",
              "    border: none;\n",
              "    border-radius: 50%;\n",
              "    cursor: pointer;\n",
              "    display: none;\n",
              "    fill: var(--fill-color);\n",
              "    height: 32px;\n",
              "    padding: 0;\n",
              "    width: 32px;\n",
              "  }\n",
              "\n",
              "  .colab-df-quickchart:hover {\n",
              "    background-color: var(--hover-bg-color);\n",
              "    box-shadow: 0 1px 2px rgba(60, 64, 67, 0.3), 0 1px 3px 1px rgba(60, 64, 67, 0.15);\n",
              "    fill: var(--button-hover-fill-color);\n",
              "  }\n",
              "\n",
              "  .colab-df-quickchart-complete:disabled,\n",
              "  .colab-df-quickchart-complete:disabled:hover {\n",
              "    background-color: var(--disabled-bg-color);\n",
              "    fill: var(--disabled-fill-color);\n",
              "    box-shadow: none;\n",
              "  }\n",
              "\n",
              "  .colab-df-spinner {\n",
              "    border: 2px solid var(--fill-color);\n",
              "    border-color: transparent;\n",
              "    border-bottom-color: var(--fill-color);\n",
              "    animation:\n",
              "      spin 1s steps(1) infinite;\n",
              "  }\n",
              "\n",
              "  @keyframes spin {\n",
              "    0% {\n",
              "      border-color: transparent;\n",
              "      border-bottom-color: var(--fill-color);\n",
              "      border-left-color: var(--fill-color);\n",
              "    }\n",
              "    20% {\n",
              "      border-color: transparent;\n",
              "      border-left-color: var(--fill-color);\n",
              "      border-top-color: var(--fill-color);\n",
              "    }\n",
              "    30% {\n",
              "      border-color: transparent;\n",
              "      border-left-color: var(--fill-color);\n",
              "      border-top-color: var(--fill-color);\n",
              "      border-right-color: var(--fill-color);\n",
              "    }\n",
              "    40% {\n",
              "      border-color: transparent;\n",
              "      border-right-color: var(--fill-color);\n",
              "      border-top-color: var(--fill-color);\n",
              "    }\n",
              "    60% {\n",
              "      border-color: transparent;\n",
              "      border-right-color: var(--fill-color);\n",
              "    }\n",
              "    80% {\n",
              "      border-color: transparent;\n",
              "      border-right-color: var(--fill-color);\n",
              "      border-bottom-color: var(--fill-color);\n",
              "    }\n",
              "    90% {\n",
              "      border-color: transparent;\n",
              "      border-bottom-color: var(--fill-color);\n",
              "    }\n",
              "  }\n",
              "</style>\n",
              "\n",
              "  <script>\n",
              "    async function quickchart(key) {\n",
              "      const quickchartButtonEl =\n",
              "        document.querySelector('#' + key + ' button');\n",
              "      quickchartButtonEl.disabled = true;  // To prevent multiple clicks.\n",
              "      quickchartButtonEl.classList.add('colab-df-spinner');\n",
              "      try {\n",
              "        const charts = await google.colab.kernel.invokeFunction(\n",
              "            'suggestCharts', [key], {});\n",
              "      } catch (error) {\n",
              "        console.error('Error during call to suggestCharts:', error);\n",
              "      }\n",
              "      quickchartButtonEl.classList.remove('colab-df-spinner');\n",
              "      quickchartButtonEl.classList.add('colab-df-quickchart-complete');\n",
              "    }\n",
              "    (() => {\n",
              "      let quickchartButtonEl =\n",
              "        document.querySelector('#df-bf405fb7-da78-4317-acbf-57cc3e6c130a button');\n",
              "      quickchartButtonEl.style.display =\n",
              "        google.colab.kernel.accessAllowed ? 'block' : 'none';\n",
              "    })();\n",
              "  </script>\n",
              "</div>\n",
              "    </div>\n",
              "  </div>\n"
            ],
            "application/vnd.google.colaboratory.intrinsic+json": {
              "type": "dataframe",
              "variable_name": "df",
              "summary": "{\n  \"name\": \"df\",\n  \"rows\": 4417,\n  \"fields\": [\n    {\n      \"column\": \"pubtime\",\n      \"properties\": {\n        \"dtype\": \"object\",\n        \"num_unique_values\": 4417,\n        \"samples\": [\n          \"2020-09-05 15:00:00\",\n          \"2020-08-29 11:00:00\",\n          \"2020-12-12 18:00:00\"\n        ],\n        \"semantic_type\": \"\",\n        \"description\": \"\"\n      }\n    },\n    {\n      \"column\": \"PM2.5\",\n      \"properties\": {\n        \"dtype\": \"number\",\n        \"std\": 22.31186985394339,\n        \"min\": 1.0,\n        \"max\": 182.0,\n        \"num_unique_values\": 220,\n        \"samples\": [\n          37.5,\n          100.0,\n          2.5\n        ],\n        \"semantic_type\": \"\",\n        \"description\": \"\"\n      }\n    },\n    {\n      \"column\": \"PM10\",\n      \"properties\": {\n        \"dtype\": \"number\",\n        \"std\": 32.728966387427306,\n        \"min\": 4.0,\n        \"max\": 243.0,\n        \"num_unique_values\": 246,\n        \"samples\": [\n          52.0,\n          34.0,\n          71.5\n        ],\n        \"semantic_type\": \"\",\n        \"description\": \"\"\n      }\n    },\n    {\n      \"column\": \"NO2\",\n      \"properties\": {\n        \"dtype\": \"number\",\n        \"std\": 24.106652817221534,\n        \"min\": 5.0,\n        \"max\": 142.0,\n        \"num_unique_values\": 194,\n        \"samples\": [\n          83.5,\n          37.0,\n          26.75\n        ],\n        \"semantic_type\": \"\",\n        \"description\": \"\"\n      }\n    },\n    {\n      \"column\": \"O3\",\n      \"properties\": {\n        \"dtype\": \"number\",\n        \"std\": 47.30524980886125,\n        \"min\": 1.0,\n        \"max\": 286.0,\n        \"num_unique_values\": 295,\n        \"samples\": [\n          20.875,\n          121.0,\n          103.0\n        ],\n        \"semantic_type\": \"\",\n        \"description\": \"\"\n      }\n    },\n    {\n      \"column\": \"CO\",\n      \"properties\": {\n        \"dtype\": \"number\",\n        \"std\": 0.2951736100489108,\n        \"min\": 0.1,\n        \"max\": 2.0,\n        \"num_unique_values\": 87,\n        \"samples\": [\n          0.334375,\n          0.7,\n          0.55\n        ],\n        \"semantic_type\": \"\",\n        \"description\": \"\"\n      }\n    },\n    {\n      \"column\": \"SO2\",\n      \"properties\": {\n        \"dtype\": \"number\",\n        \"std\": 3.4525562940997445,\n        \"min\": 3.0,\n        \"max\": 50.0,\n        \"num_unique_values\": 67,\n        \"samples\": [\n          10.75,\n          5.75,\n          10.0\n        ],\n        \"semantic_type\": \"\",\n        \"description\": \"\"\n      }\n    },\n    {\n      \"column\": \"AQI\",\n      \"properties\": {\n        \"dtype\": \"number\",\n        \"std\": 25.87992670386027,\n        \"min\": 10.0,\n        \"max\": 232.0,\n        \"num_unique_values\": 289,\n        \"samples\": [\n          46.0,\n          74.5,\n          183.0\n        ],\n        \"semantic_type\": \"\",\n        \"description\": \"\"\n      }\n    }\n  ]\n}"
            }
          },
          "metadata": {},
          "execution_count": 4
        }
      ]
    },
    {
      "cell_type": "code",
      "source": [
        "df.shape"
      ],
      "metadata": {
        "colab": {
          "base_uri": "https://localhost:8080/"
        },
        "id": "zzE6p47Pxc1Y",
        "outputId": "627d2026-2061-4954-a327-97365307a725"
      },
      "execution_count": 5,
      "outputs": [
        {
          "output_type": "execute_result",
          "data": {
            "text/plain": [
              "(4417, 8)"
            ]
          },
          "metadata": {},
          "execution_count": 5
        }
      ]
    },
    {
      "cell_type": "markdown",
      "source": [
        "#Linear Regression Model"
      ],
      "metadata": {
        "id": "fv3SFdFsxfMV"
      }
    },
    {
      "cell_type": "code",
      "source": [
        "#dropping all column except feature column PM2.5, PM10, No2, O3, CO and SO2 and store in x\n",
        "x= df.drop(columns = ['pubtime','AQI'])\n",
        "x"
      ],
      "metadata": {
        "id": "ISjdrNQQ-wHR",
        "colab": {
          "base_uri": "https://localhost:8080/",
          "height": 424
        },
        "outputId": "5c6acd87-a49a-4c0b-8fea-ab720d2e8384"
      },
      "execution_count": 6,
      "outputs": [
        {
          "output_type": "execute_result",
          "data": {
            "text/plain": [
              "      PM2.5  PM10   NO2    O3   CO  SO2\n",
              "0      11.0  23.0  26.0  70.0  0.7  5.0\n",
              "1      14.0  23.0  29.0  54.0  0.8  5.0\n",
              "2      11.0  23.0  31.0  48.0  0.7  5.0\n",
              "3      12.0  25.0  42.0  26.0  0.7  5.0\n",
              "4       7.0  29.0  36.0  22.0  0.7  5.0\n",
              "...     ...   ...   ...   ...  ...  ...\n",
              "4412   21.0  59.0  35.0  42.0  0.8  6.0\n",
              "4413   22.0  65.0  35.0  40.0  0.8  6.0\n",
              "4414   26.0  64.0  30.0  43.0  0.8  6.0\n",
              "4415   24.0  58.0  30.0  42.0  0.8  6.0\n",
              "4416   23.0  61.0  25.0  46.0  0.8  7.0\n",
              "\n",
              "[4417 rows x 6 columns]"
            ],
            "text/html": [
              "\n",
              "  <div id=\"df-e702f63d-0584-4c36-92eb-13f9e1985d6f\" class=\"colab-df-container\">\n",
              "    <div>\n",
              "<style scoped>\n",
              "    .dataframe tbody tr th:only-of-type {\n",
              "        vertical-align: middle;\n",
              "    }\n",
              "\n",
              "    .dataframe tbody tr th {\n",
              "        vertical-align: top;\n",
              "    }\n",
              "\n",
              "    .dataframe thead th {\n",
              "        text-align: right;\n",
              "    }\n",
              "</style>\n",
              "<table border=\"1\" class=\"dataframe\">\n",
              "  <thead>\n",
              "    <tr style=\"text-align: right;\">\n",
              "      <th></th>\n",
              "      <th>PM2.5</th>\n",
              "      <th>PM10</th>\n",
              "      <th>NO2</th>\n",
              "      <th>O3</th>\n",
              "      <th>CO</th>\n",
              "      <th>SO2</th>\n",
              "    </tr>\n",
              "  </thead>\n",
              "  <tbody>\n",
              "    <tr>\n",
              "      <th>0</th>\n",
              "      <td>11.0</td>\n",
              "      <td>23.0</td>\n",
              "      <td>26.0</td>\n",
              "      <td>70.0</td>\n",
              "      <td>0.7</td>\n",
              "      <td>5.0</td>\n",
              "    </tr>\n",
              "    <tr>\n",
              "      <th>1</th>\n",
              "      <td>14.0</td>\n",
              "      <td>23.0</td>\n",
              "      <td>29.0</td>\n",
              "      <td>54.0</td>\n",
              "      <td>0.8</td>\n",
              "      <td>5.0</td>\n",
              "    </tr>\n",
              "    <tr>\n",
              "      <th>2</th>\n",
              "      <td>11.0</td>\n",
              "      <td>23.0</td>\n",
              "      <td>31.0</td>\n",
              "      <td>48.0</td>\n",
              "      <td>0.7</td>\n",
              "      <td>5.0</td>\n",
              "    </tr>\n",
              "    <tr>\n",
              "      <th>3</th>\n",
              "      <td>12.0</td>\n",
              "      <td>25.0</td>\n",
              "      <td>42.0</td>\n",
              "      <td>26.0</td>\n",
              "      <td>0.7</td>\n",
              "      <td>5.0</td>\n",
              "    </tr>\n",
              "    <tr>\n",
              "      <th>4</th>\n",
              "      <td>7.0</td>\n",
              "      <td>29.0</td>\n",
              "      <td>36.0</td>\n",
              "      <td>22.0</td>\n",
              "      <td>0.7</td>\n",
              "      <td>5.0</td>\n",
              "    </tr>\n",
              "    <tr>\n",
              "      <th>...</th>\n",
              "      <td>...</td>\n",
              "      <td>...</td>\n",
              "      <td>...</td>\n",
              "      <td>...</td>\n",
              "      <td>...</td>\n",
              "      <td>...</td>\n",
              "    </tr>\n",
              "    <tr>\n",
              "      <th>4412</th>\n",
              "      <td>21.0</td>\n",
              "      <td>59.0</td>\n",
              "      <td>35.0</td>\n",
              "      <td>42.0</td>\n",
              "      <td>0.8</td>\n",
              "      <td>6.0</td>\n",
              "    </tr>\n",
              "    <tr>\n",
              "      <th>4413</th>\n",
              "      <td>22.0</td>\n",
              "      <td>65.0</td>\n",
              "      <td>35.0</td>\n",
              "      <td>40.0</td>\n",
              "      <td>0.8</td>\n",
              "      <td>6.0</td>\n",
              "    </tr>\n",
              "    <tr>\n",
              "      <th>4414</th>\n",
              "      <td>26.0</td>\n",
              "      <td>64.0</td>\n",
              "      <td>30.0</td>\n",
              "      <td>43.0</td>\n",
              "      <td>0.8</td>\n",
              "      <td>6.0</td>\n",
              "    </tr>\n",
              "    <tr>\n",
              "      <th>4415</th>\n",
              "      <td>24.0</td>\n",
              "      <td>58.0</td>\n",
              "      <td>30.0</td>\n",
              "      <td>42.0</td>\n",
              "      <td>0.8</td>\n",
              "      <td>6.0</td>\n",
              "    </tr>\n",
              "    <tr>\n",
              "      <th>4416</th>\n",
              "      <td>23.0</td>\n",
              "      <td>61.0</td>\n",
              "      <td>25.0</td>\n",
              "      <td>46.0</td>\n",
              "      <td>0.8</td>\n",
              "      <td>7.0</td>\n",
              "    </tr>\n",
              "  </tbody>\n",
              "</table>\n",
              "<p>4417 rows × 6 columns</p>\n",
              "</div>\n",
              "    <div class=\"colab-df-buttons\">\n",
              "\n",
              "  <div class=\"colab-df-container\">\n",
              "    <button class=\"colab-df-convert\" onclick=\"convertToInteractive('df-e702f63d-0584-4c36-92eb-13f9e1985d6f')\"\n",
              "            title=\"Convert this dataframe to an interactive table.\"\n",
              "            style=\"display:none;\">\n",
              "\n",
              "  <svg xmlns=\"http://www.w3.org/2000/svg\" height=\"24px\" viewBox=\"0 -960 960 960\">\n",
              "    <path d=\"M120-120v-720h720v720H120Zm60-500h600v-160H180v160Zm220 220h160v-160H400v160Zm0 220h160v-160H400v160ZM180-400h160v-160H180v160Zm440 0h160v-160H620v160ZM180-180h160v-160H180v160Zm440 0h160v-160H620v160Z\"/>\n",
              "  </svg>\n",
              "    </button>\n",
              "\n",
              "  <style>\n",
              "    .colab-df-container {\n",
              "      display:flex;\n",
              "      gap: 12px;\n",
              "    }\n",
              "\n",
              "    .colab-df-convert {\n",
              "      background-color: #E8F0FE;\n",
              "      border: none;\n",
              "      border-radius: 50%;\n",
              "      cursor: pointer;\n",
              "      display: none;\n",
              "      fill: #1967D2;\n",
              "      height: 32px;\n",
              "      padding: 0 0 0 0;\n",
              "      width: 32px;\n",
              "    }\n",
              "\n",
              "    .colab-df-convert:hover {\n",
              "      background-color: #E2EBFA;\n",
              "      box-shadow: 0px 1px 2px rgba(60, 64, 67, 0.3), 0px 1px 3px 1px rgba(60, 64, 67, 0.15);\n",
              "      fill: #174EA6;\n",
              "    }\n",
              "\n",
              "    .colab-df-buttons div {\n",
              "      margin-bottom: 4px;\n",
              "    }\n",
              "\n",
              "    [theme=dark] .colab-df-convert {\n",
              "      background-color: #3B4455;\n",
              "      fill: #D2E3FC;\n",
              "    }\n",
              "\n",
              "    [theme=dark] .colab-df-convert:hover {\n",
              "      background-color: #434B5C;\n",
              "      box-shadow: 0px 1px 3px 1px rgba(0, 0, 0, 0.15);\n",
              "      filter: drop-shadow(0px 1px 2px rgba(0, 0, 0, 0.3));\n",
              "      fill: #FFFFFF;\n",
              "    }\n",
              "  </style>\n",
              "\n",
              "    <script>\n",
              "      const buttonEl =\n",
              "        document.querySelector('#df-e702f63d-0584-4c36-92eb-13f9e1985d6f button.colab-df-convert');\n",
              "      buttonEl.style.display =\n",
              "        google.colab.kernel.accessAllowed ? 'block' : 'none';\n",
              "\n",
              "      async function convertToInteractive(key) {\n",
              "        const element = document.querySelector('#df-e702f63d-0584-4c36-92eb-13f9e1985d6f');\n",
              "        const dataTable =\n",
              "          await google.colab.kernel.invokeFunction('convertToInteractive',\n",
              "                                                    [key], {});\n",
              "        if (!dataTable) return;\n",
              "\n",
              "        const docLinkHtml = 'Like what you see? Visit the ' +\n",
              "          '<a target=\"_blank\" href=https://colab.research.google.com/notebooks/data_table.ipynb>data table notebook</a>'\n",
              "          + ' to learn more about interactive tables.';\n",
              "        element.innerHTML = '';\n",
              "        dataTable['output_type'] = 'display_data';\n",
              "        await google.colab.output.renderOutput(dataTable, element);\n",
              "        const docLink = document.createElement('div');\n",
              "        docLink.innerHTML = docLinkHtml;\n",
              "        element.appendChild(docLink);\n",
              "      }\n",
              "    </script>\n",
              "  </div>\n",
              "\n",
              "\n",
              "<div id=\"df-1cee1667-4788-42ca-862a-ca0606d74115\">\n",
              "  <button class=\"colab-df-quickchart\" onclick=\"quickchart('df-1cee1667-4788-42ca-862a-ca0606d74115')\"\n",
              "            title=\"Suggest charts\"\n",
              "            style=\"display:none;\">\n",
              "\n",
              "<svg xmlns=\"http://www.w3.org/2000/svg\" height=\"24px\"viewBox=\"0 0 24 24\"\n",
              "     width=\"24px\">\n",
              "    <g>\n",
              "        <path d=\"M19 3H5c-1.1 0-2 .9-2 2v14c0 1.1.9 2 2 2h14c1.1 0 2-.9 2-2V5c0-1.1-.9-2-2-2zM9 17H7v-7h2v7zm4 0h-2V7h2v10zm4 0h-2v-4h2v4z\"/>\n",
              "    </g>\n",
              "</svg>\n",
              "  </button>\n",
              "\n",
              "<style>\n",
              "  .colab-df-quickchart {\n",
              "      --bg-color: #E8F0FE;\n",
              "      --fill-color: #1967D2;\n",
              "      --hover-bg-color: #E2EBFA;\n",
              "      --hover-fill-color: #174EA6;\n",
              "      --disabled-fill-color: #AAA;\n",
              "      --disabled-bg-color: #DDD;\n",
              "  }\n",
              "\n",
              "  [theme=dark] .colab-df-quickchart {\n",
              "      --bg-color: #3B4455;\n",
              "      --fill-color: #D2E3FC;\n",
              "      --hover-bg-color: #434B5C;\n",
              "      --hover-fill-color: #FFFFFF;\n",
              "      --disabled-bg-color: #3B4455;\n",
              "      --disabled-fill-color: #666;\n",
              "  }\n",
              "\n",
              "  .colab-df-quickchart {\n",
              "    background-color: var(--bg-color);\n",
              "    border: none;\n",
              "    border-radius: 50%;\n",
              "    cursor: pointer;\n",
              "    display: none;\n",
              "    fill: var(--fill-color);\n",
              "    height: 32px;\n",
              "    padding: 0;\n",
              "    width: 32px;\n",
              "  }\n",
              "\n",
              "  .colab-df-quickchart:hover {\n",
              "    background-color: var(--hover-bg-color);\n",
              "    box-shadow: 0 1px 2px rgba(60, 64, 67, 0.3), 0 1px 3px 1px rgba(60, 64, 67, 0.15);\n",
              "    fill: var(--button-hover-fill-color);\n",
              "  }\n",
              "\n",
              "  .colab-df-quickchart-complete:disabled,\n",
              "  .colab-df-quickchart-complete:disabled:hover {\n",
              "    background-color: var(--disabled-bg-color);\n",
              "    fill: var(--disabled-fill-color);\n",
              "    box-shadow: none;\n",
              "  }\n",
              "\n",
              "  .colab-df-spinner {\n",
              "    border: 2px solid var(--fill-color);\n",
              "    border-color: transparent;\n",
              "    border-bottom-color: var(--fill-color);\n",
              "    animation:\n",
              "      spin 1s steps(1) infinite;\n",
              "  }\n",
              "\n",
              "  @keyframes spin {\n",
              "    0% {\n",
              "      border-color: transparent;\n",
              "      border-bottom-color: var(--fill-color);\n",
              "      border-left-color: var(--fill-color);\n",
              "    }\n",
              "    20% {\n",
              "      border-color: transparent;\n",
              "      border-left-color: var(--fill-color);\n",
              "      border-top-color: var(--fill-color);\n",
              "    }\n",
              "    30% {\n",
              "      border-color: transparent;\n",
              "      border-left-color: var(--fill-color);\n",
              "      border-top-color: var(--fill-color);\n",
              "      border-right-color: var(--fill-color);\n",
              "    }\n",
              "    40% {\n",
              "      border-color: transparent;\n",
              "      border-right-color: var(--fill-color);\n",
              "      border-top-color: var(--fill-color);\n",
              "    }\n",
              "    60% {\n",
              "      border-color: transparent;\n",
              "      border-right-color: var(--fill-color);\n",
              "    }\n",
              "    80% {\n",
              "      border-color: transparent;\n",
              "      border-right-color: var(--fill-color);\n",
              "      border-bottom-color: var(--fill-color);\n",
              "    }\n",
              "    90% {\n",
              "      border-color: transparent;\n",
              "      border-bottom-color: var(--fill-color);\n",
              "    }\n",
              "  }\n",
              "</style>\n",
              "\n",
              "  <script>\n",
              "    async function quickchart(key) {\n",
              "      const quickchartButtonEl =\n",
              "        document.querySelector('#' + key + ' button');\n",
              "      quickchartButtonEl.disabled = true;  // To prevent multiple clicks.\n",
              "      quickchartButtonEl.classList.add('colab-df-spinner');\n",
              "      try {\n",
              "        const charts = await google.colab.kernel.invokeFunction(\n",
              "            'suggestCharts', [key], {});\n",
              "      } catch (error) {\n",
              "        console.error('Error during call to suggestCharts:', error);\n",
              "      }\n",
              "      quickchartButtonEl.classList.remove('colab-df-spinner');\n",
              "      quickchartButtonEl.classList.add('colab-df-quickchart-complete');\n",
              "    }\n",
              "    (() => {\n",
              "      let quickchartButtonEl =\n",
              "        document.querySelector('#df-1cee1667-4788-42ca-862a-ca0606d74115 button');\n",
              "      quickchartButtonEl.style.display =\n",
              "        google.colab.kernel.accessAllowed ? 'block' : 'none';\n",
              "    })();\n",
              "  </script>\n",
              "</div>\n",
              "    </div>\n",
              "  </div>\n"
            ],
            "application/vnd.google.colaboratory.intrinsic+json": {
              "type": "dataframe",
              "variable_name": "x",
              "summary": "{\n  \"name\": \"x\",\n  \"rows\": 4417,\n  \"fields\": [\n    {\n      \"column\": \"PM2.5\",\n      \"properties\": {\n        \"dtype\": \"number\",\n        \"std\": 22.31186985394339,\n        \"min\": 1.0,\n        \"max\": 182.0,\n        \"num_unique_values\": 220,\n        \"samples\": [\n          37.5,\n          100.0,\n          2.5\n        ],\n        \"semantic_type\": \"\",\n        \"description\": \"\"\n      }\n    },\n    {\n      \"column\": \"PM10\",\n      \"properties\": {\n        \"dtype\": \"number\",\n        \"std\": 32.728966387427306,\n        \"min\": 4.0,\n        \"max\": 243.0,\n        \"num_unique_values\": 246,\n        \"samples\": [\n          52.0,\n          34.0,\n          71.5\n        ],\n        \"semantic_type\": \"\",\n        \"description\": \"\"\n      }\n    },\n    {\n      \"column\": \"NO2\",\n      \"properties\": {\n        \"dtype\": \"number\",\n        \"std\": 24.106652817221534,\n        \"min\": 5.0,\n        \"max\": 142.0,\n        \"num_unique_values\": 194,\n        \"samples\": [\n          83.5,\n          37.0,\n          26.75\n        ],\n        \"semantic_type\": \"\",\n        \"description\": \"\"\n      }\n    },\n    {\n      \"column\": \"O3\",\n      \"properties\": {\n        \"dtype\": \"number\",\n        \"std\": 47.30524980886125,\n        \"min\": 1.0,\n        \"max\": 286.0,\n        \"num_unique_values\": 295,\n        \"samples\": [\n          20.875,\n          121.0,\n          103.0\n        ],\n        \"semantic_type\": \"\",\n        \"description\": \"\"\n      }\n    },\n    {\n      \"column\": \"CO\",\n      \"properties\": {\n        \"dtype\": \"number\",\n        \"std\": 0.2951736100489108,\n        \"min\": 0.1,\n        \"max\": 2.0,\n        \"num_unique_values\": 87,\n        \"samples\": [\n          0.334375,\n          0.7,\n          0.55\n        ],\n        \"semantic_type\": \"\",\n        \"description\": \"\"\n      }\n    },\n    {\n      \"column\": \"SO2\",\n      \"properties\": {\n        \"dtype\": \"number\",\n        \"std\": 3.4525562940997445,\n        \"min\": 3.0,\n        \"max\": 50.0,\n        \"num_unique_values\": 67,\n        \"samples\": [\n          10.75,\n          5.75,\n          10.0\n        ],\n        \"semantic_type\": \"\",\n        \"description\": \"\"\n      }\n    }\n  ]\n}"
            }
          },
          "metadata": {},
          "execution_count": 6
        }
      ]
    },
    {
      "cell_type": "code",
      "source": [
        "#storing target column in y\n",
        "y = df['AQI']\n",
        "y"
      ],
      "metadata": {
        "id": "53-LA84t-wHR",
        "colab": {
          "base_uri": "https://localhost:8080/"
        },
        "outputId": "f06f42cf-e431-4e51-c169-0c182eff68bf"
      },
      "execution_count": 7,
      "outputs": [
        {
          "output_type": "execute_result",
          "data": {
            "text/plain": [
              "0       23.0\n",
              "1       23.0\n",
              "2       23.0\n",
              "3       25.0\n",
              "4       29.0\n",
              "        ... \n",
              "4412    55.0\n",
              "4413    58.0\n",
              "4414    57.0\n",
              "4415    54.0\n",
              "4416    56.0\n",
              "Name: AQI, Length: 4417, dtype: float64"
            ]
          },
          "metadata": {},
          "execution_count": 7
        }
      ]
    },
    {
      "cell_type": "code",
      "source": [
        "#splitting test train data by using train_test_split libraries from sklearn\n",
        "x_train, x_test, y_train, y_test= train_test_split(x, y, test_size= 0.2,random_state=0)\n"
      ],
      "metadata": {
        "id": "UE9tFQJq-wHR"
      },
      "execution_count": 8,
      "outputs": []
    },
    {
      "cell_type": "code",
      "source": [
        "#fitting the model\n",
        "lr= LinearRegression()\n",
        "lr.fit(x_train,y_train)"
      ],
      "metadata": {
        "id": "-9S4gNjc-wHS",
        "colab": {
          "base_uri": "https://localhost:8080/",
          "height": 75
        },
        "outputId": "06d3d0de-434a-4a9e-f765-d400fb50412d"
      },
      "execution_count": 9,
      "outputs": [
        {
          "output_type": "execute_result",
          "data": {
            "text/plain": [
              "LinearRegression()"
            ],
            "text/html": [
              "<style>#sk-container-id-1 {color: black;background-color: white;}#sk-container-id-1 pre{padding: 0;}#sk-container-id-1 div.sk-toggleable {background-color: white;}#sk-container-id-1 label.sk-toggleable__label {cursor: pointer;display: block;width: 100%;margin-bottom: 0;padding: 0.3em;box-sizing: border-box;text-align: center;}#sk-container-id-1 label.sk-toggleable__label-arrow:before {content: \"▸\";float: left;margin-right: 0.25em;color: #696969;}#sk-container-id-1 label.sk-toggleable__label-arrow:hover:before {color: black;}#sk-container-id-1 div.sk-estimator:hover label.sk-toggleable__label-arrow:before {color: black;}#sk-container-id-1 div.sk-toggleable__content {max-height: 0;max-width: 0;overflow: hidden;text-align: left;background-color: #f0f8ff;}#sk-container-id-1 div.sk-toggleable__content pre {margin: 0.2em;color: black;border-radius: 0.25em;background-color: #f0f8ff;}#sk-container-id-1 input.sk-toggleable__control:checked~div.sk-toggleable__content {max-height: 200px;max-width: 100%;overflow: auto;}#sk-container-id-1 input.sk-toggleable__control:checked~label.sk-toggleable__label-arrow:before {content: \"▾\";}#sk-container-id-1 div.sk-estimator input.sk-toggleable__control:checked~label.sk-toggleable__label {background-color: #d4ebff;}#sk-container-id-1 div.sk-label input.sk-toggleable__control:checked~label.sk-toggleable__label {background-color: #d4ebff;}#sk-container-id-1 input.sk-hidden--visually {border: 0;clip: rect(1px 1px 1px 1px);clip: rect(1px, 1px, 1px, 1px);height: 1px;margin: -1px;overflow: hidden;padding: 0;position: absolute;width: 1px;}#sk-container-id-1 div.sk-estimator {font-family: monospace;background-color: #f0f8ff;border: 1px dotted black;border-radius: 0.25em;box-sizing: border-box;margin-bottom: 0.5em;}#sk-container-id-1 div.sk-estimator:hover {background-color: #d4ebff;}#sk-container-id-1 div.sk-parallel-item::after {content: \"\";width: 100%;border-bottom: 1px solid gray;flex-grow: 1;}#sk-container-id-1 div.sk-label:hover label.sk-toggleable__label {background-color: #d4ebff;}#sk-container-id-1 div.sk-serial::before {content: \"\";position: absolute;border-left: 1px solid gray;box-sizing: border-box;top: 0;bottom: 0;left: 50%;z-index: 0;}#sk-container-id-1 div.sk-serial {display: flex;flex-direction: column;align-items: center;background-color: white;padding-right: 0.2em;padding-left: 0.2em;position: relative;}#sk-container-id-1 div.sk-item {position: relative;z-index: 1;}#sk-container-id-1 div.sk-parallel {display: flex;align-items: stretch;justify-content: center;background-color: white;position: relative;}#sk-container-id-1 div.sk-item::before, #sk-container-id-1 div.sk-parallel-item::before {content: \"\";position: absolute;border-left: 1px solid gray;box-sizing: border-box;top: 0;bottom: 0;left: 50%;z-index: -1;}#sk-container-id-1 div.sk-parallel-item {display: flex;flex-direction: column;z-index: 1;position: relative;background-color: white;}#sk-container-id-1 div.sk-parallel-item:first-child::after {align-self: flex-end;width: 50%;}#sk-container-id-1 div.sk-parallel-item:last-child::after {align-self: flex-start;width: 50%;}#sk-container-id-1 div.sk-parallel-item:only-child::after {width: 0;}#sk-container-id-1 div.sk-dashed-wrapped {border: 1px dashed gray;margin: 0 0.4em 0.5em 0.4em;box-sizing: border-box;padding-bottom: 0.4em;background-color: white;}#sk-container-id-1 div.sk-label label {font-family: monospace;font-weight: bold;display: inline-block;line-height: 1.2em;}#sk-container-id-1 div.sk-label-container {text-align: center;}#sk-container-id-1 div.sk-container {/* jupyter's `normalize.less` sets `[hidden] { display: none; }` but bootstrap.min.css set `[hidden] { display: none !important; }` so we also need the `!important` here to be able to override the default hidden behavior on the sphinx rendered scikit-learn.org. See: https://github.com/scikit-learn/scikit-learn/issues/21755 */display: inline-block !important;position: relative;}#sk-container-id-1 div.sk-text-repr-fallback {display: none;}</style><div id=\"sk-container-id-1\" class=\"sk-top-container\"><div class=\"sk-text-repr-fallback\"><pre>LinearRegression()</pre><b>In a Jupyter environment, please rerun this cell to show the HTML representation or trust the notebook. <br />On GitHub, the HTML representation is unable to render, please try loading this page with nbviewer.org.</b></div><div class=\"sk-container\" hidden><div class=\"sk-item\"><div class=\"sk-estimator sk-toggleable\"><input class=\"sk-toggleable__control sk-hidden--visually\" id=\"sk-estimator-id-1\" type=\"checkbox\" checked><label for=\"sk-estimator-id-1\" class=\"sk-toggleable__label sk-toggleable__label-arrow\">LinearRegression</label><div class=\"sk-toggleable__content\"><pre>LinearRegression()</pre></div></div></div></div></div>"
            ]
          },
          "metadata": {},
          "execution_count": 9
        }
      ]
    },
    {
      "cell_type": "code",
      "source": [
        "#calculating intercept c\n",
        "c = lr.intercept_\n",
        "c"
      ],
      "metadata": {
        "id": "yK0djabP-wHS",
        "colab": {
          "base_uri": "https://localhost:8080/"
        },
        "outputId": "37627207-9cb1-4921-dbc6-d6b448ba3dae"
      },
      "execution_count": 10,
      "outputs": [
        {
          "output_type": "execute_result",
          "data": {
            "text/plain": [
              "5.5155327552498505"
            ]
          },
          "metadata": {},
          "execution_count": 10
        }
      ]
    },
    {
      "cell_type": "code",
      "source": [
        "# Calculating coefficient m\n",
        "m = lr.coef_\n",
        "m"
      ],
      "metadata": {
        "id": "YMeA7YcW-wHS",
        "colab": {
          "base_uri": "https://localhost:8080/"
        },
        "outputId": "dd68cf74-2150-4ef3-b47d-351b40f3a66b"
      },
      "execution_count": 11,
      "outputs": [
        {
          "output_type": "execute_result",
          "data": {
            "text/plain": [
              "array([ 0.47231332,  0.46027295,  0.07279498,  0.12498361,  0.45818509,\n",
              "       -0.11613176])"
            ]
          },
          "metadata": {},
          "execution_count": 11
        }
      ]
    },
    {
      "cell_type": "code",
      "source": [
        "#predicting y training values\n",
        "y_pred_train = lr.predict(x_train)\n",
        "y_pred_train"
      ],
      "metadata": {
        "id": "SEm944sJ-wHT",
        "colab": {
          "base_uri": "https://localhost:8080/"
        },
        "outputId": "85cb3052-b9e2-44ba-8537-5e15c35a9346"
      },
      "execution_count": 12,
      "outputs": [
        {
          "output_type": "execute_result",
          "data": {
            "text/plain": [
              "array([ 67.55684847, 133.78640886,  86.17313307, ...,  61.47821071,\n",
              "        20.83214596,  63.06363449])"
            ]
          },
          "metadata": {},
          "execution_count": 12
        }
      ]
    },
    {
      "cell_type": "code",
      "source": [
        "# Plotting Training Actual values vs Predicted Values\n",
        "plt.figure(figsize=(10, 6))\n",
        "# Scatter plot of training data (actual values)\n",
        "plt.scatter(y_train, y_pred_train, color='cyan')\n",
        "# Labels\n",
        "plt.xlabel('Actual Y_train')\n",
        "plt.ylabel('Predicted Y_train')\n",
        "plt.title('Actual vs Predicted values of Training Data Model 4')\n",
        "# Display the plot\n",
        "plt.show()\n"
      ],
      "metadata": {
        "id": "gXZuSoefCdZS",
        "colab": {
          "base_uri": "https://localhost:8080/",
          "height": 564
        },
        "outputId": "430ad1df-4adb-45ce-92cd-900d6c9a0c4e"
      },
      "execution_count": 13,
      "outputs": [
        {
          "output_type": "display_data",
          "data": {
            "text/plain": [
              "<Figure size 1000x600 with 1 Axes>"
            ],
            "image/png": "[encoded data removed]"
          },
          "metadata": {}
        }
      ]
    },
    {
      "cell_type": "code",
      "source": [
        "#Prdicitng y testing values\n",
        "y_pred_test = lr.predict(x_test)\n",
        "y_pred_test"
      ],
      "metadata": {
        "id": "o5Qs8DTio2-q",
        "colab": {
          "base_uri": "https://localhost:8080/"
        },
        "outputId": "58a42202-e47f-4fce-9dbc-c9dd92e4e9e2"
      },
      "execution_count": 14,
      "outputs": [
        {
          "output_type": "execute_result",
          "data": {
            "text/plain": [
              "array([ 42.95805657,  32.90126512,  65.56925782,  53.53525499,\n",
              "        77.51276055,  43.16314388,  19.63328739,  40.27179523,\n",
              "        63.36811579,  55.22226378,  29.08805237,  42.46231128,\n",
              "        21.16380348,  37.42270641,  68.35434596, 108.21743474,\n",
              "       118.75539705,  36.8976854 ,  38.41041957,  42.78687018,\n",
              "        55.22336192, 125.94554754,  61.62625043,  76.21152695,\n",
              "        48.72414677,  54.15469926,  65.5984199 ,  40.96025461,\n",
              "        48.05241195,  36.60921022,  45.7395991 , 119.22627241,\n",
              "        61.14710317, 106.71221691,  72.8515455 ,  34.48702286,\n",
              "        53.34591231,  32.34242491, 108.58546072,  44.56162548,\n",
              "        42.00495588,  91.81097823,  53.06467757,  92.57448901,\n",
              "        23.40260679,  38.51191192,  32.84044191,  40.52547571,\n",
              "        45.28791461,  94.03449133,  39.27784137,  40.56572805,\n",
              "        22.48377682,  97.92254721,  66.9207901 ,  55.12497078,\n",
              "        48.48444633,  42.19141104,  56.19719314,  23.78947584,\n",
              "        33.94280515,  61.15878668,  45.59392462,  43.79155631,\n",
              "        26.67658973,  63.2446598 ,  58.15505638,  34.81526916,\n",
              "        41.27942064,  29.56705153,  33.56095829,  30.49359256,\n",
              "        32.56798055,  59.96588203, 113.59746623,  73.38374852,\n",
              "       134.93964311,  28.0675102 ,  27.80857957,  20.11100466,\n",
              "        26.18553926,  72.23268093,  61.92234803,  54.66729407,\n",
              "        58.7745559 ,  85.86500322,  43.35416045,  34.34015872,\n",
              "        26.89019284,  52.03935035,  49.46059016,  28.48398261,\n",
              "        47.80125693,  68.79229494,  40.03249641,  19.55501134,\n",
              "        60.31899817,  71.42964938,  41.30090332,  47.14925793,\n",
              "        76.31615807,  19.56655317,  75.48134529,  56.79302972,\n",
              "        83.53029549,  44.90415057,  41.74659251,  31.44091498,\n",
              "        56.33788262,  42.58520816,  26.50416306,  77.10138923,\n",
              "        52.19840444,  61.88797845,  52.5482154 ,  35.67875524,\n",
              "        86.51603088,  58.93918951,  35.72310611,  72.5912497 ,\n",
              "        61.23218743,  48.03286024,  64.77191859,  40.99594046,\n",
              "        58.15591802,  17.43029638,  42.2842944 ,  69.07035592,\n",
              "        44.73690245,  59.7243693 ,  48.24708064,  47.38891826,\n",
              "        45.59605252,  77.66473561,  38.73723094,  54.17274061,\n",
              "        41.91223591,  52.69256976,  62.67269553,  40.81560886,\n",
              "        64.42880703,  22.62367746, 107.28207524,  67.39325002,\n",
              "        46.3556158 ,  57.94294226,  53.81189179,  67.18211053,\n",
              "        35.43837358, 124.84489518,  74.21881844,  33.99874723,\n",
              "        59.58125917,  67.4389403 ,  46.53967876,  27.3007022 ,\n",
              "        45.3515489 ,  49.02518671,  55.52872867,  64.40385631,\n",
              "        29.19074927,  55.90300457,  45.98926044,  49.71581514,\n",
              "        44.52505275, 127.71139425,  89.12680969,  67.60798791,\n",
              "        43.63489137, 108.04045611, 101.75988962, 100.27269298,\n",
              "        23.29793528,  21.37630509,  89.6508116 ,  54.74408497,\n",
              "        35.72680289,  50.17237741,  25.20583764,  56.34676913,\n",
              "        41.49245497,  68.8105164 ,  62.828107  ,  69.63565578,\n",
              "        98.44865576,  23.81463423,  66.54323822,  38.93310069,\n",
              "        24.05519583,  26.22400163,  90.67726852,  51.8329485 ,\n",
              "       135.00293566,  33.20139855, 107.82084259,  42.28108121,\n",
              "        94.75311182,  88.55659556,  49.75077162,  54.5146823 ,\n",
              "        25.00990768,  51.02794349,  51.81934418,  57.96546388,\n",
              "        85.70941984,  38.8315892 ,  49.71813629,  58.5312265 ,\n",
              "        52.64917852,  81.46529257,  49.51255702, 133.34043933,\n",
              "        53.02390438,  32.52639972,  85.53396593,  51.62266409,\n",
              "        33.63275676,  42.57224218,  49.05251995,  45.43699653,\n",
              "        46.29381937,  22.74336755, 150.3767406 ,  39.16215633,\n",
              "        33.75912681,  24.57707911,  35.84683221,  34.9298242 ,\n",
              "        44.77407578,  34.54191323,  56.17331378,  40.2376608 ,\n",
              "        54.65868825, 131.07965602,  81.13928612,  22.95260883,\n",
              "        45.54251198,  30.08518046,  39.06807715,  29.06341637,\n",
              "        49.11015406,  48.75741843,  63.39049423,  53.6114647 ,\n",
              "        34.49044943,  62.37862255,  53.4721345 ,  40.79895778,\n",
              "        62.11100686,  50.72634517,  46.16248459,  66.09709878,\n",
              "        60.14207277,  55.67326096,  52.11594912,  32.54512747,\n",
              "        24.79741657,  32.96632352,  45.96001993,  67.74357553,\n",
              "        51.49399135,  72.0835119 ,  50.8830987 ,  75.51792031,\n",
              "        22.30754643,  62.04779339,  39.36673547,  33.13990295,\n",
              "        50.70183876,  60.67798359,  66.15642287,  54.67457191,\n",
              "        73.47218499,  61.88493024,  37.60414387,  41.11963752,\n",
              "        25.32300448,  37.73292133,  68.37613287,  36.66381598,\n",
              "        70.62398904,  54.81043186,  73.96553838,  74.32539084,\n",
              "        41.04915796,  35.13804798,  95.05163361,  54.55855369,\n",
              "        25.58546059,  30.99758001,  29.03956633,  65.81824566,\n",
              "        34.2824793 ,  35.21648656,  43.26933117,  35.31156979,\n",
              "        39.10627528,  62.74871422,  48.16682662,  60.05346292,\n",
              "        47.67623537,  33.5310923 ,  66.64020151,  46.54076717,\n",
              "        27.27009607,  66.36342101,  36.23183473,  53.97916529,\n",
              "        66.58185672,  37.63143546,  41.98685924,  21.95907991,\n",
              "       111.70809712,  55.52261373,  47.34884144,  81.29544901,\n",
              "        30.64849541,  53.85913504,  79.20190577,  37.22085117,\n",
              "        89.25319276, 144.27034533,  45.93102804,  34.81891173,\n",
              "        35.05536639,  51.65940445,  21.77423653,  78.63838103,\n",
              "        50.19784957,  43.04976694,  74.00413207,  45.51938476,\n",
              "        37.82105866,  46.19145749,  51.14461877,  36.03440197,\n",
              "        42.59833445, 129.07393466,  56.30740486,  90.47160844,\n",
              "        41.8221454 ,  38.46470765,  74.05469752,  57.34284671,\n",
              "        51.68848907,  80.22684147,  38.57951993,  63.88633647,\n",
              "       113.77225817,  66.09501405,  23.50055918,  57.86190143,\n",
              "       110.74645057,  40.8158425 ,  31.92410321,  51.5749577 ,\n",
              "        54.9132133 ,  53.45641604, 145.46505052,  36.78286444,\n",
              "        51.76810341,  69.48340971,  31.55967725,  79.55888947,\n",
              "        65.0302249 ,  39.98430591,  50.83637461,  91.02427296,\n",
              "        40.70188156,  89.65206146,  68.83810709,  25.30657727,\n",
              "        32.14207789,  94.92502576,  45.18033564,  66.6574732 ,\n",
              "        45.67288814, 127.65453767,  56.94632157,  44.18870638,\n",
              "        42.16079072,  41.29181334,  43.72565443,  63.84443426,\n",
              "        70.30887966,  40.24286416,  40.16454847,  30.86213704,\n",
              "        55.33656322,  54.57252649,  60.01972778,  44.01639847,\n",
              "       137.72138985,  44.04534893, 109.99449193,  61.53043771,\n",
              "        45.46768807,  80.60086819,  37.9456958 ,  63.88147844,\n",
              "        32.65513888,  47.79952394,  52.82369573,  49.01403464,\n",
              "        65.60842447,  27.90422038,  61.58108533,  78.37945431,\n",
              "        36.35468105,  30.06813647,  37.2593883 ,  27.12650163,\n",
              "        90.36758456,  76.29648278,  28.05314395,  29.94658859,\n",
              "        86.10704274, 118.83680285,  20.84879799,  42.30273841,\n",
              "        31.36025551,  48.33150022,  35.31518832,  44.64614077,\n",
              "        48.05300376,  50.09524139,  57.89708175,  72.194381  ,\n",
              "        74.93107799,  52.11335548,  31.898823  ,  54.96639221,\n",
              "        43.89976581,  35.93949611,  54.45362607,  70.28669236,\n",
              "       122.19017506,  29.03385995,  64.58810838, 125.4283001 ,\n",
              "        46.70180592,  79.71369083,  75.95358976,  36.63238773,\n",
              "        42.21439922,  34.49446974,  30.6496306 ,  76.66603598,\n",
              "        32.15039956,  57.47149345,  42.93222062,  44.95424824,\n",
              "        27.52754176,  68.0872003 ,  55.84046383,  50.05710973,\n",
              "        68.66715178,  65.65805782,  48.71965941,  36.25497314,\n",
              "        24.77139591,  23.53127108,  83.42012779,  49.10822726,\n",
              "        48.19803706,  25.8775311 ,  57.04193924,  88.33672055,\n",
              "        93.43821853,  34.58590575,  24.1494236 ,  47.64625454,\n",
              "        38.93630657,  51.33686249,  58.74468554,  26.9774368 ,\n",
              "        93.58593093,  19.64089302,  70.69165698,  48.48477963,\n",
              "       140.36419713, 134.41206976,  41.82741691,  39.25262506,\n",
              "        38.60860507,  31.90273049,  58.6590903 ,  50.39623692,\n",
              "        54.51099079,  34.60439226,  26.86289297,  45.70975764,\n",
              "        81.4016355 ,  57.37697538,  58.53785514,  43.69567631,\n",
              "        97.18940287,  44.37376198,  60.45030414,  59.90346774,\n",
              "        48.82592989,  48.02074352,  39.16055435,  66.12944979,\n",
              "       110.74988559,  38.5733842 ,  65.76921953,  51.97659146,\n",
              "        47.52654248,  39.2440001 ,  42.4045733 , 100.72147336,\n",
              "        48.06467558,  57.73016179,  34.73253297,  28.90474982,\n",
              "        88.8391134 ,  45.46272071,  42.66421917,  37.12956757,\n",
              "        96.25968822,  53.49683926,  34.73400403,  26.07711504,\n",
              "        23.7635718 ,  58.97991536,  65.05562882,  40.30568024,\n",
              "       140.00958334,  39.91947156,  62.1590388 ,  25.98586645,\n",
              "        30.80721681,  26.81795698,  47.2662635 ,  53.61199804,\n",
              "        34.5341029 ,  56.24796672,  43.24895923,  35.21750801,\n",
              "        50.93635673,  48.76786291,  16.48866756,  62.13575328,\n",
              "        43.63165146,  43.14110657,  47.89959545,  44.84792135,\n",
              "        41.31616381,  65.12675786,  36.86224019,  49.75078307,\n",
              "        22.181601  ,  54.50159579,  48.90041144,  39.64440511,\n",
              "        40.59414285,  21.92856112,  48.75441029,  53.87775704,\n",
              "        36.20305045,  72.85466279,  42.36408149,  46.61923415,\n",
              "        34.40811882,  40.54861377,  22.52710668,  61.89556744,\n",
              "        79.46681108,  45.70167073,  43.56882569, 110.04006755,\n",
              "        95.9644417 , 144.39124549,  32.19516356, 106.33144041,\n",
              "        37.67836578,  31.86401413,  64.20802192,  51.46857699,\n",
              "        19.83925081,  62.41130754,  40.44316716,  41.09306896,\n",
              "        55.85438259, 110.59938121,  38.66364423,  31.91300353,\n",
              "        51.57813512,  44.84455753,  39.14238952,  52.84800764,\n",
              "        47.64622972,  64.83917621,  38.22151199, 138.85224532,\n",
              "        83.5562829 ,  24.20179454,  65.44859953,  28.32620077,\n",
              "        55.96662647,  37.27194572,  49.86841216,  49.95855506,\n",
              "        55.53190185,  25.59802012,  53.65185351,  37.29521221,\n",
              "        45.40787126, 104.12179491,  44.09090548,  46.48639639,\n",
              "        79.76898162,  48.75710684,  49.78712257,  83.65244282,\n",
              "        64.70392039,  63.81551406,  57.71920942,  28.54503587,\n",
              "       133.5582735 ,  65.6723071 ,  34.89593953,  79.71934685,\n",
              "        48.7286808 ,  30.97410197,  59.86902362,  89.35592973,\n",
              "        52.4265742 ,  31.72399285,  77.44609584,  40.21482677,\n",
              "        45.10666827,  57.39035262,  37.09229553,  64.10018043,\n",
              "        37.66145674,  27.86209789,  55.4564694 , 139.33671219,\n",
              "        34.52011009,  72.40368429,  36.54190644,  40.23384911,\n",
              "        42.56379337,  52.11571792,  60.40451395,  40.47887615,\n",
              "       106.00695809,  66.83219426,  29.65150643,  44.51994786,\n",
              "        37.90626444,  73.10069892,  54.10059445,  39.52320704,\n",
              "        38.76281681,  77.70598263,  62.20731759,  51.31631212,\n",
              "        52.87715973,  42.12631535,  35.05752604,  44.91851955,\n",
              "        28.29768434,  64.63762862,  68.33201464,  36.42987037,\n",
              "        24.33724041,  57.23138585,  36.69125393,  50.10768155,\n",
              "        62.76265334,  40.56547932,  16.28424517,  47.04450321,\n",
              "       112.81458842,  29.11721298,  58.86938859,  85.33264147,\n",
              "       109.10451069,  23.85584646,  24.37162841,  53.76397348,\n",
              "        39.93882875,  53.91474709,  35.6318966 ,  74.05065917,\n",
              "        79.46707058,  33.2076812 ,  65.72658307,  34.76191547,\n",
              "        38.41320134,  18.91600857,  63.62393529,  40.02095517,\n",
              "        37.98054467,  75.57933726,  87.89978185,  34.41226916,\n",
              "        24.54065502,  34.02394911,  21.55129955,  71.95658032,\n",
              "        63.33769933,  33.18995589,  56.88682196,  88.59325326,\n",
              "        35.76600191,  61.83732931,  68.61377526, 143.54512977,\n",
              "        72.50029458,  70.09878301,  21.31331063,  56.7129704 ,\n",
              "        38.4354319 ,  43.15336449,  19.74901151,  98.88958864,\n",
              "        81.03722574,  55.96337546,  58.80938168,  31.25399736,\n",
              "        55.04015507,  81.99644039,  36.82343412,  33.02667335,\n",
              "        87.3347148 ,  56.58716239, 113.17655287,  70.46741868,\n",
              "        28.28069065,  40.63657507,  18.4710979 ,  81.21648666,\n",
              "        54.87390991,  61.59820463,  76.27469377,  34.74349512,\n",
              "        37.44291198,  43.37582889,  86.62436232,  95.6684326 ,\n",
              "        66.81649002,  38.55249843,  40.25325796,  58.62322032,\n",
              "        42.67661433,  29.19820041,  32.75150672,  74.12341582,\n",
              "        82.4894894 ,  39.04227258,  75.44833879,  46.22784361,\n",
              "        83.05416305,  57.63405586,  38.77618408,  49.26653529,\n",
              "        29.88090591,  56.00079071,  39.18399195,  41.40501814,\n",
              "        31.63232554,  61.59417104,  68.51114518,  47.26028878,\n",
              "        40.43505378,  34.75720011, 137.94245043,  79.03363538,\n",
              "        62.0094402 ,  35.3073257 ,  55.37789666,  55.5441966 ,\n",
              "        74.29482089,  44.27620135,  80.78298772, 101.56108894,\n",
              "        29.45352754,  43.91245467,  35.57756693, 116.94096457,\n",
              "        38.91079623,  61.95963901,  47.30386605,  40.37555523,\n",
              "        36.55243481,  53.07272693,  64.05436948,  82.77590258,\n",
              "       144.82914679,  74.05304418,  54.99457029,  62.91886694,\n",
              "        38.96827789,  45.34007928,  48.01484209,  48.56704616,\n",
              "        36.18134111,  34.48032585,  48.34255286,  61.04532494,\n",
              "        52.4507506 ,  21.27758593,  68.56327072,  53.79852748,\n",
              "        32.34825505,  32.53652429,  51.50070359,  26.89384962,\n",
              "        57.67878331,  23.1860883 , 109.31919977,  35.27012335,\n",
              "        47.81450997,  40.09420704,  91.97366268, 100.46681764,\n",
              "        97.13156327,  50.71308742,  49.91737571,  37.9292411 ,\n",
              "        29.60754046,  42.05055557,  57.59894397,  45.99224841,\n",
              "        41.27434604,  53.34039397,  34.16023156,  96.55067703,\n",
              "        62.79549186,  45.96223987,  30.80885434,  37.36652734,\n",
              "        23.23440378,  37.76184011,  68.22405563,  35.05826124,\n",
              "        55.30549604,  33.14740196,  41.53398346,  60.79349415,\n",
              "       119.14574509,  63.43015076,  91.58530473,  57.9157267 ,\n",
              "        53.95569283,  69.85151273,  28.22024033,  42.3211966 ,\n",
              "        44.49335185,  35.15157202,  32.76466877,  36.57935648,\n",
              "        43.0377386 ,  50.47326865,  71.17495576,  30.98105855,\n",
              "        56.1193578 ,  53.34574028,  57.86622213,  55.15871193,\n",
              "        70.71017668,  50.77025676,  44.0764894 ,  45.19377324,\n",
              "        24.97742007,  55.17554737,  64.68566894,  83.79371095,\n",
              "        31.42011806,  36.28079217,  68.90216744,  48.13822699,\n",
              "        48.24279242,  56.81957811,  49.4759478 ,  70.91741003,\n",
              "        32.027498  ,  50.82163979,  60.39219492,  75.04735122])"
            ]
          },
          "metadata": {},
          "execution_count": 14
        }
      ]
    },
    {
      "cell_type": "code",
      "source": [
        "\n",
        "#Plotting  Testing Actual values vs Predicted Vlaues\n",
        "plt.figure(figsize=(10, 6))\n",
        "# Scatter plot of testing data\n",
        "plt.scatter(y_test, y_pred_test, color ='magenta')\n",
        "# Labels\n",
        "plt.xlabel('Actual Y_test')\n",
        "plt.ylabel('Predicted Y_test')\n",
        "plt.title('Actual vs Predicted values of Testing Data Model 4')\n",
        "# Display the plot\n",
        "plt.show()\n"
      ],
      "metadata": {
        "id": "qVXbTRIAoSw-",
        "colab": {
          "base_uri": "https://localhost:8080/",
          "height": 564
        },
        "outputId": "36a301dc-0a48-49f1-9aaf-d4722de7a363"
      },
      "execution_count": 15,
      "outputs": [
        {
          "output_type": "display_data",
          "data": {
            "text/plain": [
              "<Figure size 1000x600 with 1 Axes>"
            ],
            "image/png": "[encoded data removed]"
          },
          "metadata": {}
        }
      ]
    },
    {
      "cell_type": "code",
      "source": [
        "#Calculating training data error term for linear regression\n",
        "res_train = (y_train - y_pred_train)\n",
        "res_train"
      ],
      "metadata": {
        "id": "HEeuIMcuZDmJ",
        "colab": {
          "base_uri": "https://localhost:8080/"
        },
        "outputId": "1d7aa283-b78e-435e-cd8e-38b264ab5b25"
      },
      "execution_count": 16,
      "outputs": [
        {
          "output_type": "execute_result",
          "data": {
            "text/plain": [
              "4339    75.193152\n",
              "4275    -0.786409\n",
              "3849     6.826867\n",
              "883     -6.658975\n",
              "134      3.075921\n",
              "          ...    \n",
              "1033    -2.110831\n",
              "3264     6.847799\n",
              "1653    -9.478211\n",
              "2607    -1.832146\n",
              "2732    -5.063634\n",
              "Name: AQI, Length: 3533, dtype: float64"
            ]
          },
          "metadata": {},
          "execution_count": 16
        }
      ]
    },
    {
      "cell_type": "code",
      "source": [
        "# Plotting histogram to show the error terms for trainig data\n",
        "plt.figure(figsize=(10, 6))\n",
        "# Creating the histogram plot using Seaborn\n",
        "sns.histplot(res_train , color = 'cyan')\n",
        "\n",
        "# Label the plot\n",
        "plt.title('Distribution of Error Terms of Training Data Model 4')\n",
        "plt.xlabel('Residuals (y_train - y_pred_train)')\n",
        "plt.ylabel('Frequency')\n",
        "plt.show()"
      ],
      "metadata": {
        "id": "4lmnoN0bG9uK",
        "colab": {
          "base_uri": "https://localhost:8080/",
          "height": 564
        },
        "outputId": "6fbb1aac-ae28-49d0-b007-27436f26a937"
      },
      "execution_count": 17,
      "outputs": [
        {
          "output_type": "display_data",
          "data": {
            "text/plain": [
              "<Figure size 1000x600 with 1 Axes>"
            ],
            "image/png": "[encoded data removed]"
          },
          "metadata": {}
        }
      ]
    },
    {
      "cell_type": "code",
      "source": [
        "#Calculating testing data error term for linear regression\n",
        "res_test = (y_test - y_pred_test)\n",
        "res_test"
      ],
      "metadata": {
        "id": "Kr8AaklzGxDU",
        "colab": {
          "base_uri": "https://localhost:8080/"
        },
        "outputId": "4dac9a3c-8501-4e99-e7ed-32c0d5dea72e"
      },
      "execution_count": 18,
      "outputs": [
        {
          "output_type": "execute_result",
          "data": {
            "text/plain": [
              "2917    -4.958057\n",
              "1457    -3.901265\n",
              "1669    38.430742\n",
              "2013    -0.535255\n",
              "4303    -2.512761\n",
              "          ...    \n",
              "2527    -2.917410\n",
              "2339    -0.027498\n",
              "3276     2.178360\n",
              "3354    -1.392195\n",
              "3019    -7.047351\n",
              "Name: AQI, Length: 884, dtype: float64"
            ]
          },
          "metadata": {},
          "execution_count": 18
        }
      ]
    },
    {
      "cell_type": "code",
      "source": [
        "# Plotting histogram to show the error terms for testing data\n",
        "plt.figure(figsize=(10, 6))\n",
        "# Creating the histogram plot using Seaborn\n",
        "sns.histplot(res_test , color ='magenta')\n",
        "\n",
        "# Label the plot\n",
        "plt.title('Distribution of Error Terms of Testing Data Model 4')\n",
        "plt.xlabel('Residuals (y_test - y_pred_test)')\n",
        "plt.ylabel('Frequency')\n",
        "plt.show()"
      ],
      "metadata": {
        "id": "tcdOuQ6SHCBQ",
        "colab": {
          "base_uri": "https://localhost:8080/",
          "height": 564
        },
        "outputId": "338b927a-2b8a-4108-b283-94c76e120796"
      },
      "execution_count": 19,
      "outputs": [
        {
          "output_type": "display_data",
          "data": {
            "text/plain": [
              "<Figure size 1000x600 with 1 Axes>"
            ],
            "image/png": "[encoded data removed]"
          },
          "metadata": {}
        }
      ]
    },
    {
      "cell_type": "markdown",
      "source": [
        "Evaluation of Linear Regression"
      ],
      "metadata": {
        "id": "tJOdBtwDzD4b"
      }
    },
    {
      "cell_type": "markdown",
      "source": [
        "#Training Data"
      ],
      "metadata": {
        "id": "W3x8A3fdSB92"
      }
    },
    {
      "cell_type": "code",
      "source": [
        "#Calculating Mean Squared Error of Training Data\n",
        "mse = mean_squared_error(y_train, y_pred_train)\n",
        "print(\"Mean Squared Error (MSE) of Training Data:\", mse)"
      ],
      "metadata": {
        "colab": {
          "base_uri": "https://localhost:8080/"
        },
        "id": "YL116SbFSBNM",
        "outputId": "648ac26d-4808-4995-f8b9-80283497ca54"
      },
      "execution_count": 20,
      "outputs": [
        {
          "output_type": "stream",
          "name": "stdout",
          "text": [
            "Mean Squared Error (MSE) of Training Data: 58.33351774880525\n"
          ]
        }
      ]
    },
    {
      "cell_type": "code",
      "source": [
        "#calculating Root Mean Squared Error of Training Data\n",
        "rmse = np.sqrt(mse)\n",
        "print(\"Root Mean Squared Error (RMSE) of Training Data:\", rmse)"
      ],
      "metadata": {
        "colab": {
          "base_uri": "https://localhost:8080/"
        },
        "id": "bMqQqCP4zQ58",
        "outputId": "6f9af00f-fe75-41ba-a305-12763a7d185c"
      },
      "execution_count": 21,
      "outputs": [
        {
          "output_type": "stream",
          "name": "stdout",
          "text": [
            "Root Mean Squared Error (RMSE) of Training Data: 7.637638231076754\n"
          ]
        }
      ]
    },
    {
      "cell_type": "code",
      "source": [
        "#Calculating Mean Absolute Error of Training Data\n",
        "mae = mean_absolute_error(y_train, y_pred_train)\n",
        "print(\"Mean Absolute Error (MAE) of Training Data:\", mae)"
      ],
      "metadata": {
        "colab": {
          "base_uri": "https://localhost:8080/"
        },
        "id": "P2TyiIwVzDVw",
        "outputId": "8c51a9fc-c64d-48d6-b777-2fd8743212c4"
      },
      "execution_count": 22,
      "outputs": [
        {
          "output_type": "stream",
          "name": "stdout",
          "text": [
            "Mean Absolute Error (MAE) of Training Data: 5.095290973689186\n"
          ]
        }
      ]
    },
    {
      "cell_type": "code",
      "source": [
        "#Calculating R-Squared of Training Data\n",
        "rsquare =  r2_score(y_train, y_pred_train)\n",
        "print(\"R-sqaured of Training Data:\", rsquare)"
      ],
      "metadata": {
        "colab": {
          "base_uri": "https://localhost:8080/"
        },
        "id": "agUOgx8JSMWq",
        "outputId": "ccc0487b-9671-47c1-fc03-26e210305a6c"
      },
      "execution_count": 23,
      "outputs": [
        {
          "output_type": "stream",
          "name": "stdout",
          "text": [
            "R-sqaured of Training Data: 0.9131732981558712\n"
          ]
        }
      ]
    },
    {
      "cell_type": "markdown",
      "source": [
        "###Testing Data"
      ],
      "metadata": {
        "id": "rmqwJ6r3SjaC"
      }
    },
    {
      "cell_type": "code",
      "source": [
        "#Calculating Mean Squared Error\n",
        "mse = mean_squared_error(y_test, y_pred_test)\n",
        "print(\"Mean Squared Error (MSE) of Testing Data :\", mse)"
      ],
      "metadata": {
        "colab": {
          "base_uri": "https://localhost:8080/"
        },
        "id": "MUqhLXCqSwV4",
        "outputId": "827e64b8-f126-412d-8e0c-cafc3f0d26f9"
      },
      "execution_count": 24,
      "outputs": [
        {
          "output_type": "stream",
          "name": "stdout",
          "text": [
            "Mean Squared Error (MSE) of Testing Data : 55.27674743256018\n"
          ]
        }
      ]
    },
    {
      "cell_type": "code",
      "source": [
        "#calculating Root Mean Squared Error\n",
        "rmse = np.sqrt(mse)\n",
        "print(\"Root Mean Squared Error (RMSE) of Testing Data:\", rmse)"
      ],
      "metadata": {
        "colab": {
          "base_uri": "https://localhost:8080/"
        },
        "id": "66JljBzhTK2S",
        "outputId": "832219f5-64b7-4b28-aa11-cde7babcf30c"
      },
      "execution_count": 25,
      "outputs": [
        {
          "output_type": "stream",
          "name": "stdout",
          "text": [
            "Root Mean Squared Error (RMSE) of Testing Data: 7.434833382972356\n"
          ]
        }
      ]
    },
    {
      "cell_type": "code",
      "source": [
        "#Calculating Mean Absolute Error\n",
        "mae = mean_absolute_error(y_test, y_pred_test)\n",
        "print(\"Mean Absolute Error (MAE) of Testing Data:\", mae)"
      ],
      "metadata": {
        "colab": {
          "base_uri": "https://localhost:8080/"
        },
        "id": "ubZ84ausSx6p",
        "outputId": "60b91dab-32af-4046-d535-667405c9c01b"
      },
      "execution_count": 26,
      "outputs": [
        {
          "output_type": "stream",
          "name": "stdout",
          "text": [
            "Mean Absolute Error (MAE) of Testing Data: 5.014977049917288\n"
          ]
        }
      ]
    },
    {
      "cell_type": "code",
      "source": [
        "#Calculating R-Squared  of Testing Data\n",
        "rsquare =  r2_score(y_test, y_pred_test)\n",
        "print(\"R-sqaured of Testing Data:\", rsquare)"
      ],
      "metadata": {
        "colab": {
          "base_uri": "https://localhost:8080/"
        },
        "id": "JOILSA8OTN6F",
        "outputId": "e3bde7e2-e9f3-42f1-83db-c6a9e53bc5d7"
      },
      "execution_count": 27,
      "outputs": [
        {
          "output_type": "stream",
          "name": "stdout",
          "text": [
            "R-sqaured of Testing Data: 0.9162446359077496\n"
          ]
        }
      ]
    }
  ]
}