{
  "nbformat": 4,
  "nbformat_minor": 0,
  "metadata": {
    "colab": {
      "provenance": []
    },
    "kernelspec": {
      "name": "python3",
      "display_name": "Python 3"
    },
    "language_info": {
      "name": "python"
    }
  },
  "cells": [
    {
      "cell_type": "markdown",
      "source": [
        "#Predicting Air Quality Index(AQI) with the help of PM2.5"
      ],
      "metadata": {
        "id": "npEf7bqtbar_"
      }
    },
    {
      "cell_type": "code",
      "execution_count": 1,
      "metadata": {
        "id": "xVAQy09mwhzG"
      },
      "outputs": [],
      "source": [
        "#importing necessary libraries\n",
        "import pandas as pd\n",
        "import seaborn as sns\n",
        "from sklearn.model_selection import train_test_split\n",
        "from sklearn.linear_model import LinearRegression\n",
        "import matplotlib.pyplot as plt\n",
        "from sklearn.metrics import r2_score,mean_squared_error, mean_absolute_error\n",
        "import numpy as np"
      ]
    },
    {
      "cell_type": "code",
      "source": [
        "#Acessing google drive from google colab\n",
        "from google.colab import drive\n",
        "drive.mount('/content/drive')\n"
      ],
      "metadata": {
        "id": "LeizgrDIxQT-",
        "colab": {
          "base_uri": "https://localhost:8080/"
        },
        "outputId": "001fa6e2-c739-4439-fc28-c0eed649fcc8"
      },
      "execution_count": 2,
      "outputs": [
        {
          "output_type": "stream",
          "name": "stdout",
          "text": [
            "Mounted at /content/drive\n"
          ]
        }
      ]
    },
    {
      "cell_type": "code",
      "source": [
        "# Loading the dataset from drive\n",
        "df = pd.read_csv('/content/drive/MyDrive/Dissertation/clean_data.csv')"
      ],
      "metadata": {
        "id": "Y3hI8fk8xUee"
      },
      "execution_count": 3,
      "outputs": []
    },
    {
      "cell_type": "code",
      "source": [
        "#showing the first few data from the dataset\n",
        "df.head(5)"
      ],
      "metadata": {
        "colab": {
          "base_uri": "https://localhost:8080/",
          "height": 206
        },
        "id": "p9z3PoVoxWie",
        "outputId": "859c25a5-db1f-412e-d55f-991af7d6ff62"
      },
      "execution_count": 4,
      "outputs": [
        {
          "output_type": "execute_result",
          "data": {
            "text/plain": [
              "               pubtime  PM2.5  PM10   NO2    O3   CO  SO2   AQI\n",
              "0  2020-06-30 00:00:00   11.0  23.0  26.0  70.0  0.7  5.0  23.0\n",
              "1  2020-06-30 01:00:00   14.0  23.0  29.0  54.0  0.8  5.0  23.0\n",
              "2  2020-06-30 02:00:00   11.0  23.0  31.0  48.0  0.7  5.0  23.0\n",
              "3  2020-06-30 03:00:00   12.0  25.0  42.0  26.0  0.7  5.0  25.0\n",
              "4  2020-06-30 04:00:00    7.0  29.0  36.0  22.0  0.7  5.0  29.0"
            ],
            "text/html": [
              "\n",
              "  <div id=\"df-4100c978-7be0-4ed0-9582-b43bea8eb3c9\" class=\"colab-df-container\">\n",
              "    <div>\n",
              "<style scoped>\n",
              "    .dataframe tbody tr th:only-of-type {\n",
              "        vertical-align: middle;\n",
              "    }\n",
              "\n",
              "    .dataframe tbody tr th {\n",
              "        vertical-align: top;\n",
              "    }\n",
              "\n",
              "    .dataframe thead th {\n",
              "        text-align: right;\n",
              "    }\n",
              "</style>\n",
              "<table border=\"1\" class=\"dataframe\">\n",
              "  <thead>\n",
              "    <tr style=\"text-align: right;\">\n",
              "      <th></th>\n",
              "      <th>pubtime</th>\n",
              "      <th>PM2.5</th>\n",
              "      <th>PM10</th>\n",
              "      <th>NO2</th>\n",
              "      <th>O3</th>\n",
              "      <th>CO</th>\n",
              "      <th>SO2</th>\n",
              "      <th>AQI</th>\n",
              "    </tr>\n",
              "  </thead>\n",
              "  <tbody>\n",
              "    <tr>\n",
              "      <th>0</th>\n",
              "      <td>2020-06-30 00:00:00</td>\n",
              "      <td>11.0</td>\n",
              "      <td>23.0</td>\n",
              "      <td>26.0</td>\n",
              "      <td>70.0</td>\n",
              "      <td>0.7</td>\n",
              "      <td>5.0</td>\n",
              "      <td>23.0</td>\n",
              "    </tr>\n",
              "    <tr>\n",
              "      <th>1</th>\n",
              "      <td>2020-06-30 01:00:00</td>\n",
              "      <td>14.0</td>\n",
              "      <td>23.0</td>\n",
              "      <td>29.0</td>\n",
              "      <td>54.0</td>\n",
              "      <td>0.8</td>\n",
              "      <td>5.0</td>\n",
              "      <td>23.0</td>\n",
              "    </tr>\n",
              "    <tr>\n",
              "      <th>2</th>\n",
              "      <td>2020-06-30 02:00:00</td>\n",
              "      <td>11.0</td>\n",
              "      <td>23.0</td>\n",
              "      <td>31.0</td>\n",
              "      <td>48.0</td>\n",
              "      <td>0.7</td>\n",
              "      <td>5.0</td>\n",
              "      <td>23.0</td>\n",
              "    </tr>\n",
              "    <tr>\n",
              "      <th>3</th>\n",
              "      <td>2020-06-30 03:00:00</td>\n",
              "      <td>12.0</td>\n",
              "      <td>25.0</td>\n",
              "      <td>42.0</td>\n",
              "      <td>26.0</td>\n",
              "      <td>0.7</td>\n",
              "      <td>5.0</td>\n",
              "      <td>25.0</td>\n",
              "    </tr>\n",
              "    <tr>\n",
              "      <th>4</th>\n",
              "      <td>2020-06-30 04:00:00</td>\n",
              "      <td>7.0</td>\n",
              "      <td>29.0</td>\n",
              "      <td>36.0</td>\n",
              "      <td>22.0</td>\n",
              "      <td>0.7</td>\n",
              "      <td>5.0</td>\n",
              "      <td>29.0</td>\n",
              "    </tr>\n",
              "  </tbody>\n",
              "</table>\n",
              "</div>\n",
              "    <div class=\"colab-df-buttons\">\n",
              "\n",
              "  <div class=\"colab-df-container\">\n",
              "    <button class=\"colab-df-convert\" onclick=\"convertToInteractive('df-4100c978-7be0-4ed0-9582-b43bea8eb3c9')\"\n",
              "            title=\"Convert this dataframe to an interactive table.\"\n",
              "            style=\"display:none;\">\n",
              "\n",
              "  <svg xmlns=\"http://www.w3.org/2000/svg\" height=\"24px\" viewBox=\"0 -960 960 960\">\n",
              "    <path d=\"M120-120v-720h720v720H120Zm60-500h600v-160H180v160Zm220 220h160v-160H400v160Zm0 220h160v-160H400v160ZM180-400h160v-160H180v160Zm440 0h160v-160H620v160ZM180-180h160v-160H180v160Zm440 0h160v-160H620v160Z\"/>\n",
              "  </svg>\n",
              "    </button>\n",
              "\n",
              "  <style>\n",
              "    .colab-df-container {\n",
              "      display:flex;\n",
              "      gap: 12px;\n",
              "    }\n",
              "\n",
              "    .colab-df-convert {\n",
              "      background-color: #E8F0FE;\n",
              "      border: none;\n",
              "      border-radius: 50%;\n",
              "      cursor: pointer;\n",
              "      display: none;\n",
              "      fill: #1967D2;\n",
              "      height: 32px;\n",
              "      padding: 0 0 0 0;\n",
              "      width: 32px;\n",
              "    }\n",
              "\n",
              "    .colab-df-convert:hover {\n",
              "      background-color: #E2EBFA;\n",
              "      box-shadow: 0px 1px 2px rgba(60, 64, 67, 0.3), 0px 1px 3px 1px rgba(60, 64, 67, 0.15);\n",
              "      fill: #174EA6;\n",
              "    }\n",
              "\n",
              "    .colab-df-buttons div {\n",
              "      margin-bottom: 4px;\n",
              "    }\n",
              "\n",
              "    [theme=dark] .colab-df-convert {\n",
              "      background-color: #3B4455;\n",
              "      fill: #D2E3FC;\n",
              "    }\n",
              "\n",
              "    [theme=dark] .colab-df-convert:hover {\n",
              "      background-color: #434B5C;\n",
              "      box-shadow: 0px 1px 3px 1px rgba(0, 0, 0, 0.15);\n",
              "      filter: drop-shadow(0px 1px 2px rgba(0, 0, 0, 0.3));\n",
              "      fill: #FFFFFF;\n",
              "    }\n",
              "  </style>\n",
              "\n",
              "    <script>\n",
              "      const buttonEl =\n",
              "        document.querySelector('#df-4100c978-7be0-4ed0-9582-b43bea8eb3c9 button.colab-df-convert');\n",
              "      buttonEl.style.display =\n",
              "        google.colab.kernel.accessAllowed ? 'block' : 'none';\n",
              "\n",
              "      async function convertToInteractive(key) {\n",
              "        const element = document.querySelector('#df-4100c978-7be0-4ed0-9582-b43bea8eb3c9');\n",
              "        const dataTable =\n",
              "          await google.colab.kernel.invokeFunction('convertToInteractive',\n",
              "                                                    [key], {});\n",
              "        if (!dataTable) return;\n",
              "\n",
              "        const docLinkHtml = 'Like what you see? Visit the ' +\n",
              "          '<a target=\"_blank\" href=https://colab.research.google.com/notebooks/data_table.ipynb>data table notebook</a>'\n",
              "          + ' to learn more about interactive tables.';\n",
              "        element.innerHTML = '';\n",
              "        dataTable['output_type'] = 'display_data';\n",
              "        await google.colab.output.renderOutput(dataTable, element);\n",
              "        const docLink = document.createElement('div');\n",
              "        docLink.innerHTML = docLinkHtml;\n",
              "        element.appendChild(docLink);\n",
              "      }\n",
              "    </script>\n",
              "  </div>\n",
              "\n",
              "\n",
              "<div id=\"df-3cef753e-a92a-4d52-8662-77db7520daea\">\n",
              "  <button class=\"colab-df-quickchart\" onclick=\"quickchart('df-3cef753e-a92a-4d52-8662-77db7520daea')\"\n",
              "            title=\"Suggest charts\"\n",
              "            style=\"display:none;\">\n",
              "\n",
              "<svg xmlns=\"http://www.w3.org/2000/svg\" height=\"24px\"viewBox=\"0 0 24 24\"\n",
              "     width=\"24px\">\n",
              "    <g>\n",
              "        <path d=\"M19 3H5c-1.1 0-2 .9-2 2v14c0 1.1.9 2 2 2h14c1.1 0 2-.9 2-2V5c0-1.1-.9-2-2-2zM9 17H7v-7h2v7zm4 0h-2V7h2v10zm4 0h-2v-4h2v4z\"/>\n",
              "    </g>\n",
              "</svg>\n",
              "  </button>\n",
              "\n",
              "<style>\n",
              "  .colab-df-quickchart {\n",
              "      --bg-color: #E8F0FE;\n",
              "      --fill-color: #1967D2;\n",
              "      --hover-bg-color: #E2EBFA;\n",
              "      --hover-fill-color: #174EA6;\n",
              "      --disabled-fill-color: #AAA;\n",
              "      --disabled-bg-color: #DDD;\n",
              "  }\n",
              "\n",
              "  [theme=dark] .colab-df-quickchart {\n",
              "      --bg-color: #3B4455;\n",
              "      --fill-color: #D2E3FC;\n",
              "      --hover-bg-color: #434B5C;\n",
              "      --hover-fill-color: #FFFFFF;\n",
              "      --disabled-bg-color: #3B4455;\n",
              "      --disabled-fill-color: #666;\n",
              "  }\n",
              "\n",
              "  .colab-df-quickchart {\n",
              "    background-color: var(--bg-color);\n",
              "    border: none;\n",
              "    border-radius: 50%;\n",
              "    cursor: pointer;\n",
              "    display: none;\n",
              "    fill: var(--fill-color);\n",
              "    height: 32px;\n",
              "    padding: 0;\n",
              "    width: 32px;\n",
              "  }\n",
              "\n",
              "  .colab-df-quickchart:hover {\n",
              "    background-color: var(--hover-bg-color);\n",
              "    box-shadow: 0 1px 2px rgba(60, 64, 67, 0.3), 0 1px 3px 1px rgba(60, 64, 67, 0.15);\n",
              "    fill: var(--button-hover-fill-color);\n",
              "  }\n",
              "\n",
              "  .colab-df-quickchart-complete:disabled,\n",
              "  .colab-df-quickchart-complete:disabled:hover {\n",
              "    background-color: var(--disabled-bg-color);\n",
              "    fill: var(--disabled-fill-color);\n",
              "    box-shadow: none;\n",
              "  }\n",
              "\n",
              "  .colab-df-spinner {\n",
              "    border: 2px solid var(--fill-color);\n",
              "    border-color: transparent;\n",
              "    border-bottom-color: var(--fill-color);\n",
              "    animation:\n",
              "      spin 1s steps(1) infinite;\n",
              "  }\n",
              "\n",
              "  @keyframes spin {\n",
              "    0% {\n",
              "      border-color: transparent;\n",
              "      border-bottom-color: var(--fill-color);\n",
              "      border-left-color: var(--fill-color);\n",
              "    }\n",
              "    20% {\n",
              "      border-color: transparent;\n",
              "      border-left-color: var(--fill-color);\n",
              "      border-top-color: var(--fill-color);\n",
              "    }\n",
              "    30% {\n",
              "      border-color: transparent;\n",
              "      border-left-color: var(--fill-color);\n",
              "      border-top-color: var(--fill-color);\n",
              "      border-right-color: var(--fill-color);\n",
              "    }\n",
              "    40% {\n",
              "      border-color: transparent;\n",
              "      border-right-color: var(--fill-color);\n",
              "      border-top-color: var(--fill-color);\n",
              "    }\n",
              "    60% {\n",
              "      border-color: transparent;\n",
              "      border-right-color: var(--fill-color);\n",
              "    }\n",
              "    80% {\n",
              "      border-color: transparent;\n",
              "      border-right-color: var(--fill-color);\n",
              "      border-bottom-color: var(--fill-color);\n",
              "    }\n",
              "    90% {\n",
              "      border-color: transparent;\n",
              "      border-bottom-color: var(--fill-color);\n",
              "    }\n",
              "  }\n",
              "</style>\n",
              "\n",
              "  <script>\n",
              "    async function quickchart(key) {\n",
              "      const quickchartButtonEl =\n",
              "        document.querySelector('#' + key + ' button');\n",
              "      quickchartButtonEl.disabled = true;  // To prevent multiple clicks.\n",
              "      quickchartButtonEl.classList.add('colab-df-spinner');\n",
              "      try {\n",
              "        const charts = await google.colab.kernel.invokeFunction(\n",
              "            'suggestCharts', [key], {});\n",
              "      } catch (error) {\n",
              "        console.error('Error during call to suggestCharts:', error);\n",
              "      }\n",
              "      quickchartButtonEl.classList.remove('colab-df-spinner');\n",
              "      quickchartButtonEl.classList.add('colab-df-quickchart-complete');\n",
              "    }\n",
              "    (() => {\n",
              "      let quickchartButtonEl =\n",
              "        document.querySelector('#df-3cef753e-a92a-4d52-8662-77db7520daea button');\n",
              "      quickchartButtonEl.style.display =\n",
              "        google.colab.kernel.accessAllowed ? 'block' : 'none';\n",
              "    })();\n",
              "  </script>\n",
              "</div>\n",
              "    </div>\n",
              "  </div>\n"
            ],
            "application/vnd.google.colaboratory.intrinsic+json": {
              "type": "dataframe",
              "variable_name": "df",
              "summary": "{\n  \"name\": \"df\",\n  \"rows\": 4417,\n  \"fields\": [\n    {\n      \"column\": \"pubtime\",\n      \"properties\": {\n        \"dtype\": \"object\",\n        \"num_unique_values\": 4417,\n        \"samples\": [\n          \"2020-09-05 15:00:00\",\n          \"2020-08-29 11:00:00\",\n          \"2020-12-12 18:00:00\"\n        ],\n        \"semantic_type\": \"\",\n        \"description\": \"\"\n      }\n    },\n    {\n      \"column\": \"PM2.5\",\n      \"properties\": {\n        \"dtype\": \"number\",\n        \"std\": 22.31186985394339,\n        \"min\": 1.0,\n        \"max\": 182.0,\n        \"num_unique_values\": 220,\n        \"samples\": [\n          37.5,\n          100.0,\n          2.5\n        ],\n        \"semantic_type\": \"\",\n        \"description\": \"\"\n      }\n    },\n    {\n      \"column\": \"PM10\",\n      \"properties\": {\n        \"dtype\": \"number\",\n        \"std\": 32.728966387427306,\n        \"min\": 4.0,\n        \"max\": 243.0,\n        \"num_unique_values\": 246,\n        \"samples\": [\n          52.0,\n          34.0,\n          71.5\n        ],\n        \"semantic_type\": \"\",\n        \"description\": \"\"\n      }\n    },\n    {\n      \"column\": \"NO2\",\n      \"properties\": {\n        \"dtype\": \"number\",\n        \"std\": 24.106652817221534,\n        \"min\": 5.0,\n        \"max\": 142.0,\n        \"num_unique_values\": 194,\n        \"samples\": [\n          83.5,\n          37.0,\n          26.75\n        ],\n        \"semantic_type\": \"\",\n        \"description\": \"\"\n      }\n    },\n    {\n      \"column\": \"O3\",\n      \"properties\": {\n        \"dtype\": \"number\",\n        \"std\": 47.30524980886125,\n        \"min\": 1.0,\n        \"max\": 286.0,\n        \"num_unique_values\": 295,\n        \"samples\": [\n          20.875,\n          121.0,\n          103.0\n        ],\n        \"semantic_type\": \"\",\n        \"description\": \"\"\n      }\n    },\n    {\n      \"column\": \"CO\",\n      \"properties\": {\n        \"dtype\": \"number\",\n        \"std\": 0.2951736100489108,\n        \"min\": 0.1,\n        \"max\": 2.0,\n        \"num_unique_values\": 87,\n        \"samples\": [\n          0.334375,\n          0.7,\n          0.55\n        ],\n        \"semantic_type\": \"\",\n        \"description\": \"\"\n      }\n    },\n    {\n      \"column\": \"SO2\",\n      \"properties\": {\n        \"dtype\": \"number\",\n        \"std\": 3.4525562940997445,\n        \"min\": 3.0,\n        \"max\": 50.0,\n        \"num_unique_values\": 67,\n        \"samples\": [\n          10.75,\n          5.75,\n          10.0\n        ],\n        \"semantic_type\": \"\",\n        \"description\": \"\"\n      }\n    },\n    {\n      \"column\": \"AQI\",\n      \"properties\": {\n        \"dtype\": \"number\",\n        \"std\": 25.87992670386027,\n        \"min\": 10.0,\n        \"max\": 232.0,\n        \"num_unique_values\": 289,\n        \"samples\": [\n          46.0,\n          74.5,\n          183.0\n        ],\n        \"semantic_type\": \"\",\n        \"description\": \"\"\n      }\n    }\n  ]\n}"
            }
          },
          "metadata": {},
          "execution_count": 4
        }
      ]
    },
    {
      "cell_type": "code",
      "source": [
        "df.shape"
      ],
      "metadata": {
        "colab": {
          "base_uri": "https://localhost:8080/"
        },
        "id": "zzE6p47Pxc1Y",
        "outputId": "f1fab91e-575a-4c2d-b3da-7a8fb502ce57"
      },
      "execution_count": 5,
      "outputs": [
        {
          "output_type": "execute_result",
          "data": {
            "text/plain": [
              "(4417, 8)"
            ]
          },
          "metadata": {},
          "execution_count": 5
        }
      ]
    },
    {
      "cell_type": "markdown",
      "source": [
        "#Linear Regression Model"
      ],
      "metadata": {
        "id": "fv3SFdFsxfMV"
      }
    },
    {
      "cell_type": "code",
      "source": [
        "#dropping all column except feature column PM2.5 and store in x\n",
        "x= df.drop(columns = ['pubtime','AQI','PM10','NO2','O3','CO','SO2'])\n",
        "x"
      ],
      "metadata": {
        "id": "-IWXyXCqxj-R",
        "colab": {
          "base_uri": "https://localhost:8080/",
          "height": 424
        },
        "outputId": "8d8e300d-38e4-4b60-afb3-59fcc095285c"
      },
      "execution_count": 6,
      "outputs": [
        {
          "output_type": "execute_result",
          "data": {
            "text/plain": [
              "      PM2.5\n",
              "0      11.0\n",
              "1      14.0\n",
              "2      11.0\n",
              "3      12.0\n",
              "4       7.0\n",
              "...     ...\n",
              "4412   21.0\n",
              "4413   22.0\n",
              "4414   26.0\n",
              "4415   24.0\n",
              "4416   23.0\n",
              "\n",
              "[4417 rows x 1 columns]"
            ],
            "text/html": [
              "\n",
              "  <div id=\"df-65c42032-0559-4e2c-a2df-b85f609189a9\" class=\"colab-df-container\">\n",
              "    <div>\n",
              "<style scoped>\n",
              "    .dataframe tbody tr th:only-of-type {\n",
              "        vertical-align: middle;\n",
              "    }\n",
              "\n",
              "    .dataframe tbody tr th {\n",
              "        vertical-align: top;\n",
              "    }\n",
              "\n",
              "    .dataframe thead th {\n",
              "        text-align: right;\n",
              "    }\n",
              "</style>\n",
              "<table border=\"1\" class=\"dataframe\">\n",
              "  <thead>\n",
              "    <tr style=\"text-align: right;\">\n",
              "      <th></th>\n",
              "      <th>PM2.5</th>\n",
              "    </tr>\n",
              "  </thead>\n",
              "  <tbody>\n",
              "    <tr>\n",
              "      <th>0</th>\n",
              "      <td>11.0</td>\n",
              "    </tr>\n",
              "    <tr>\n",
              "      <th>1</th>\n",
              "      <td>14.0</td>\n",
              "    </tr>\n",
              "    <tr>\n",
              "      <th>2</th>\n",
              "      <td>11.0</td>\n",
              "    </tr>\n",
              "    <tr>\n",
              "      <th>3</th>\n",
              "      <td>12.0</td>\n",
              "    </tr>\n",
              "    <tr>\n",
              "      <th>4</th>\n",
              "      <td>7.0</td>\n",
              "    </tr>\n",
              "    <tr>\n",
              "      <th>...</th>\n",
              "      <td>...</td>\n",
              "    </tr>\n",
              "    <tr>\n",
              "      <th>4412</th>\n",
              "      <td>21.0</td>\n",
              "    </tr>\n",
              "    <tr>\n",
              "      <th>4413</th>\n",
              "      <td>22.0</td>\n",
              "    </tr>\n",
              "    <tr>\n",
              "      <th>4414</th>\n",
              "      <td>26.0</td>\n",
              "    </tr>\n",
              "    <tr>\n",
              "      <th>4415</th>\n",
              "      <td>24.0</td>\n",
              "    </tr>\n",
              "    <tr>\n",
              "      <th>4416</th>\n",
              "      <td>23.0</td>\n",
              "    </tr>\n",
              "  </tbody>\n",
              "</table>\n",
              "<p>4417 rows × 1 columns</p>\n",
              "</div>\n",
              "    <div class=\"colab-df-buttons\">\n",
              "\n",
              "  <div class=\"colab-df-container\">\n",
              "    <button class=\"colab-df-convert\" onclick=\"convertToInteractive('df-65c42032-0559-4e2c-a2df-b85f609189a9')\"\n",
              "            title=\"Convert this dataframe to an interactive table.\"\n",
              "            style=\"display:none;\">\n",
              "\n",
              "  <svg xmlns=\"http://www.w3.org/2000/svg\" height=\"24px\" viewBox=\"0 -960 960 960\">\n",
              "    <path d=\"M120-120v-720h720v720H120Zm60-500h600v-160H180v160Zm220 220h160v-160H400v160Zm0 220h160v-160H400v160ZM180-400h160v-160H180v160Zm440 0h160v-160H620v160ZM180-180h160v-160H180v160Zm440 0h160v-160H620v160Z\"/>\n",
              "  </svg>\n",
              "    </button>\n",
              "\n",
              "  <style>\n",
              "    .colab-df-container {\n",
              "      display:flex;\n",
              "      gap: 12px;\n",
              "    }\n",
              "\n",
              "    .colab-df-convert {\n",
              "      background-color: #E8F0FE;\n",
              "      border: none;\n",
              "      border-radius: 50%;\n",
              "      cursor: pointer;\n",
              "      display: none;\n",
              "      fill: #1967D2;\n",
              "      height: 32px;\n",
              "      padding: 0 0 0 0;\n",
              "      width: 32px;\n",
              "    }\n",
              "\n",
              "    .colab-df-convert:hover {\n",
              "      background-color: #E2EBFA;\n",
              "      box-shadow: 0px 1px 2px rgba(60, 64, 67, 0.3), 0px 1px 3px 1px rgba(60, 64, 67, 0.15);\n",
              "      fill: #174EA6;\n",
              "    }\n",
              "\n",
              "    .colab-df-buttons div {\n",
              "      margin-bottom: 4px;\n",
              "    }\n",
              "\n",
              "    [theme=dark] .colab-df-convert {\n",
              "      background-color: #3B4455;\n",
              "      fill: #D2E3FC;\n",
              "    }\n",
              "\n",
              "    [theme=dark] .colab-df-convert:hover {\n",
              "      background-color: #434B5C;\n",
              "      box-shadow: 0px 1px 3px 1px rgba(0, 0, 0, 0.15);\n",
              "      filter: drop-shadow(0px 1px 2px rgba(0, 0, 0, 0.3));\n",
              "      fill: #FFFFFF;\n",
              "    }\n",
              "  </style>\n",
              "\n",
              "    <script>\n",
              "      const buttonEl =\n",
              "        document.querySelector('#df-65c42032-0559-4e2c-a2df-b85f609189a9 button.colab-df-convert');\n",
              "      buttonEl.style.display =\n",
              "        google.colab.kernel.accessAllowed ? 'block' : 'none';\n",
              "\n",
              "      async function convertToInteractive(key) {\n",
              "        const element = document.querySelector('#df-65c42032-0559-4e2c-a2df-b85f609189a9');\n",
              "        const dataTable =\n",
              "          await google.colab.kernel.invokeFunction('convertToInteractive',\n",
              "                                                    [key], {});\n",
              "        if (!dataTable) return;\n",
              "\n",
              "        const docLinkHtml = 'Like what you see? Visit the ' +\n",
              "          '<a target=\"_blank\" href=https://colab.research.google.com/notebooks/data_table.ipynb>data table notebook</a>'\n",
              "          + ' to learn more about interactive tables.';\n",
              "        element.innerHTML = '';\n",
              "        dataTable['output_type'] = 'display_data';\n",
              "        await google.colab.output.renderOutput(dataTable, element);\n",
              "        const docLink = document.createElement('div');\n",
              "        docLink.innerHTML = docLinkHtml;\n",
              "        element.appendChild(docLink);\n",
              "      }\n",
              "    </script>\n",
              "  </div>\n",
              "\n",
              "\n",
              "<div id=\"df-83b2d038-71e3-4386-b97b-55c54ae27249\">\n",
              "  <button class=\"colab-df-quickchart\" onclick=\"quickchart('df-83b2d038-71e3-4386-b97b-55c54ae27249')\"\n",
              "            title=\"Suggest charts\"\n",
              "            style=\"display:none;\">\n",
              "\n",
              "<svg xmlns=\"http://www.w3.org/2000/svg\" height=\"24px\"viewBox=\"0 0 24 24\"\n",
              "     width=\"24px\">\n",
              "    <g>\n",
              "        <path d=\"M19 3H5c-1.1 0-2 .9-2 2v14c0 1.1.9 2 2 2h14c1.1 0 2-.9 2-2V5c0-1.1-.9-2-2-2zM9 17H7v-7h2v7zm4 0h-2V7h2v10zm4 0h-2v-4h2v4z\"/>\n",
              "    </g>\n",
              "</svg>\n",
              "  </button>\n",
              "\n",
              "<style>\n",
              "  .colab-df-quickchart {\n",
              "      --bg-color: #E8F0FE;\n",
              "      --fill-color: #1967D2;\n",
              "      --hover-bg-color: #E2EBFA;\n",
              "      --hover-fill-color: #174EA6;\n",
              "      --disabled-fill-color: #AAA;\n",
              "      --disabled-bg-color: #DDD;\n",
              "  }\n",
              "\n",
              "  [theme=dark] .colab-df-quickchart {\n",
              "      --bg-color: #3B4455;\n",
              "      --fill-color: #D2E3FC;\n",
              "      --hover-bg-color: #434B5C;\n",
              "      --hover-fill-color: #FFFFFF;\n",
              "      --disabled-bg-color: #3B4455;\n",
              "      --disabled-fill-color: #666;\n",
              "  }\n",
              "\n",
              "  .colab-df-quickchart {\n",
              "    background-color: var(--bg-color);\n",
              "    border: none;\n",
              "    border-radius: 50%;\n",
              "    cursor: pointer;\n",
              "    display: none;\n",
              "    fill: var(--fill-color);\n",
              "    height: 32px;\n",
              "    padding: 0;\n",
              "    width: 32px;\n",
              "  }\n",
              "\n",
              "  .colab-df-quickchart:hover {\n",
              "    background-color: var(--hover-bg-color);\n",
              "    box-shadow: 0 1px 2px rgba(60, 64, 67, 0.3), 0 1px 3px 1px rgba(60, 64, 67, 0.15);\n",
              "    fill: var(--button-hover-fill-color);\n",
              "  }\n",
              "\n",
              "  .colab-df-quickchart-complete:disabled,\n",
              "  .colab-df-quickchart-complete:disabled:hover {\n",
              "    background-color: var(--disabled-bg-color);\n",
              "    fill: var(--disabled-fill-color);\n",
              "    box-shadow: none;\n",
              "  }\n",
              "\n",
              "  .colab-df-spinner {\n",
              "    border: 2px solid var(--fill-color);\n",
              "    border-color: transparent;\n",
              "    border-bottom-color: var(--fill-color);\n",
              "    animation:\n",
              "      spin 1s steps(1) infinite;\n",
              "  }\n",
              "\n",
              "  @keyframes spin {\n",
              "    0% {\n",
              "      border-color: transparent;\n",
              "      border-bottom-color: var(--fill-color);\n",
              "      border-left-color: var(--fill-color);\n",
              "    }\n",
              "    20% {\n",
              "      border-color: transparent;\n",
              "      border-left-color: var(--fill-color);\n",
              "      border-top-color: var(--fill-color);\n",
              "    }\n",
              "    30% {\n",
              "      border-color: transparent;\n",
              "      border-left-color: var(--fill-color);\n",
              "      border-top-color: var(--fill-color);\n",
              "      border-right-color: var(--fill-color);\n",
              "    }\n",
              "    40% {\n",
              "      border-color: transparent;\n",
              "      border-right-color: var(--fill-color);\n",
              "      border-top-color: var(--fill-color);\n",
              "    }\n",
              "    60% {\n",
              "      border-color: transparent;\n",
              "      border-right-color: var(--fill-color);\n",
              "    }\n",
              "    80% {\n",
              "      border-color: transparent;\n",
              "      border-right-color: var(--fill-color);\n",
              "      border-bottom-color: var(--fill-color);\n",
              "    }\n",
              "    90% {\n",
              "      border-color: transparent;\n",
              "      border-bottom-color: var(--fill-color);\n",
              "    }\n",
              "  }\n",
              "</style>\n",
              "\n",
              "  <script>\n",
              "    async function quickchart(key) {\n",
              "      const quickchartButtonEl =\n",
              "        document.querySelector('#' + key + ' button');\n",
              "      quickchartButtonEl.disabled = true;  // To prevent multiple clicks.\n",
              "      quickchartButtonEl.classList.add('colab-df-spinner');\n",
              "      try {\n",
              "        const charts = await google.colab.kernel.invokeFunction(\n",
              "            'suggestCharts', [key], {});\n",
              "      } catch (error) {\n",
              "        console.error('Error during call to suggestCharts:', error);\n",
              "      }\n",
              "      quickchartButtonEl.classList.remove('colab-df-spinner');\n",
              "      quickchartButtonEl.classList.add('colab-df-quickchart-complete');\n",
              "    }\n",
              "    (() => {\n",
              "      let quickchartButtonEl =\n",
              "        document.querySelector('#df-83b2d038-71e3-4386-b97b-55c54ae27249 button');\n",
              "      quickchartButtonEl.style.display =\n",
              "        google.colab.kernel.accessAllowed ? 'block' : 'none';\n",
              "    })();\n",
              "  </script>\n",
              "</div>\n",
              "    </div>\n",
              "  </div>\n"
            ],
            "application/vnd.google.colaboratory.intrinsic+json": {
              "type": "dataframe",
              "variable_name": "x",
              "summary": "{\n  \"name\": \"x\",\n  \"rows\": 4417,\n  \"fields\": [\n    {\n      \"column\": \"PM2.5\",\n      \"properties\": {\n        \"dtype\": \"number\",\n        \"std\": 22.31186985394339,\n        \"min\": 1.0,\n        \"max\": 182.0,\n        \"num_unique_values\": 220,\n        \"samples\": [\n          37.5,\n          100.0,\n          2.5\n        ],\n        \"semantic_type\": \"\",\n        \"description\": \"\"\n      }\n    }\n  ]\n}"
            }
          },
          "metadata": {},
          "execution_count": 6
        }
      ]
    },
    {
      "cell_type": "code",
      "source": [
        "#storing target column in y\n",
        "y = df['AQI']\n",
        "y"
      ],
      "metadata": {
        "id": "HnkvHp2uxsNy",
        "colab": {
          "base_uri": "https://localhost:8080/"
        },
        "outputId": "f0b5ca3b-62c2-4b41-84dc-bfac8064e0c4"
      },
      "execution_count": 7,
      "outputs": [
        {
          "output_type": "execute_result",
          "data": {
            "text/plain": [
              "0       23.0\n",
              "1       23.0\n",
              "2       23.0\n",
              "3       25.0\n",
              "4       29.0\n",
              "        ... \n",
              "4412    55.0\n",
              "4413    58.0\n",
              "4414    57.0\n",
              "4415    54.0\n",
              "4416    56.0\n",
              "Name: AQI, Length: 4417, dtype: float64"
            ]
          },
          "metadata": {},
          "execution_count": 7
        }
      ]
    },
    {
      "cell_type": "code",
      "source": [
        "#splitting test train data by using train_test_split libraries from sklearn\n",
        "x_train, x_test, y_train, y_test= train_test_split(x, y, test_size= 0.2,random_state=0)\n"
      ],
      "metadata": {
        "id": "LBpQuAkuxu9S"
      },
      "execution_count": 8,
      "outputs": []
    },
    {
      "cell_type": "code",
      "source": [
        "#fitting the model\n",
        "lr= LinearRegression()\n",
        "lr.fit(x_train,y_train)"
      ],
      "metadata": {
        "id": "nYrT6TA5x102",
        "colab": {
          "base_uri": "https://localhost:8080/",
          "height": 75
        },
        "outputId": "2248a114-f9d3-46ed-ee8d-052b4e74a0e9"
      },
      "execution_count": 9,
      "outputs": [
        {
          "output_type": "execute_result",
          "data": {
            "text/plain": [
              "LinearRegression()"
            ],
            "text/html": [
              "<style>#sk-container-id-1 {color: black;background-color: white;}#sk-container-id-1 pre{padding: 0;}#sk-container-id-1 div.sk-toggleable {background-color: white;}#sk-container-id-1 label.sk-toggleable__label {cursor: pointer;display: block;width: 100%;margin-bottom: 0;padding: 0.3em;box-sizing: border-box;text-align: center;}#sk-container-id-1 label.sk-toggleable__label-arrow:before {content: \"▸\";float: left;margin-right: 0.25em;color: #696969;}#sk-container-id-1 label.sk-toggleable__label-arrow:hover:before {color: black;}#sk-container-id-1 div.sk-estimator:hover label.sk-toggleable__label-arrow:before {color: black;}#sk-container-id-1 div.sk-toggleable__content {max-height: 0;max-width: 0;overflow: hidden;text-align: left;background-color: #f0f8ff;}#sk-container-id-1 div.sk-toggleable__content pre {margin: 0.2em;color: black;border-radius: 0.25em;background-color: #f0f8ff;}#sk-container-id-1 input.sk-toggleable__control:checked~div.sk-toggleable__content {max-height: 200px;max-width: 100%;overflow: auto;}#sk-container-id-1 input.sk-toggleable__control:checked~label.sk-toggleable__label-arrow:before {content: \"▾\";}#sk-container-id-1 div.sk-estimator input.sk-toggleable__control:checked~label.sk-toggleable__label {background-color: #d4ebff;}#sk-container-id-1 div.sk-label input.sk-toggleable__control:checked~label.sk-toggleable__label {background-color: #d4ebff;}#sk-container-id-1 input.sk-hidden--visually {border: 0;clip: rect(1px 1px 1px 1px);clip: rect(1px, 1px, 1px, 1px);height: 1px;margin: -1px;overflow: hidden;padding: 0;position: absolute;width: 1px;}#sk-container-id-1 div.sk-estimator {font-family: monospace;background-color: #f0f8ff;border: 1px dotted black;border-radius: 0.25em;box-sizing: border-box;margin-bottom: 0.5em;}#sk-container-id-1 div.sk-estimator:hover {background-color: #d4ebff;}#sk-container-id-1 div.sk-parallel-item::after {content: \"\";width: 100%;border-bottom: 1px solid gray;flex-grow: 1;}#sk-container-id-1 div.sk-label:hover label.sk-toggleable__label {background-color: #d4ebff;}#sk-container-id-1 div.sk-serial::before {content: \"\";position: absolute;border-left: 1px solid gray;box-sizing: border-box;top: 0;bottom: 0;left: 50%;z-index: 0;}#sk-container-id-1 div.sk-serial {display: flex;flex-direction: column;align-items: center;background-color: white;padding-right: 0.2em;padding-left: 0.2em;position: relative;}#sk-container-id-1 div.sk-item {position: relative;z-index: 1;}#sk-container-id-1 div.sk-parallel {display: flex;align-items: stretch;justify-content: center;background-color: white;position: relative;}#sk-container-id-1 div.sk-item::before, #sk-container-id-1 div.sk-parallel-item::before {content: \"\";position: absolute;border-left: 1px solid gray;box-sizing: border-box;top: 0;bottom: 0;left: 50%;z-index: -1;}#sk-container-id-1 div.sk-parallel-item {display: flex;flex-direction: column;z-index: 1;position: relative;background-color: white;}#sk-container-id-1 div.sk-parallel-item:first-child::after {align-self: flex-end;width: 50%;}#sk-container-id-1 div.sk-parallel-item:last-child::after {align-self: flex-start;width: 50%;}#sk-container-id-1 div.sk-parallel-item:only-child::after {width: 0;}#sk-container-id-1 div.sk-dashed-wrapped {border: 1px dashed gray;margin: 0 0.4em 0.5em 0.4em;box-sizing: border-box;padding-bottom: 0.4em;background-color: white;}#sk-container-id-1 div.sk-label label {font-family: monospace;font-weight: bold;display: inline-block;line-height: 1.2em;}#sk-container-id-1 div.sk-label-container {text-align: center;}#sk-container-id-1 div.sk-container {/* jupyter's `normalize.less` sets `[hidden] { display: none; }` but bootstrap.min.css set `[hidden] { display: none !important; }` so we also need the `!important` here to be able to override the default hidden behavior on the sphinx rendered scikit-learn.org. See: https://github.com/scikit-learn/scikit-learn/issues/21755 */display: inline-block !important;position: relative;}#sk-container-id-1 div.sk-text-repr-fallback {display: none;}</style><div id=\"sk-container-id-1\" class=\"sk-top-container\"><div class=\"sk-text-repr-fallback\"><pre>LinearRegression()</pre><b>In a Jupyter environment, please rerun this cell to show the HTML representation or trust the notebook. <br />On GitHub, the HTML representation is unable to render, please try loading this page with nbviewer.org.</b></div><div class=\"sk-container\" hidden><div class=\"sk-item\"><div class=\"sk-estimator sk-toggleable\"><input class=\"sk-toggleable__control sk-hidden--visually\" id=\"sk-estimator-id-1\" type=\"checkbox\" checked><label for=\"sk-estimator-id-1\" class=\"sk-toggleable__label sk-toggleable__label-arrow\">LinearRegression</label><div class=\"sk-toggleable__content\"><pre>LinearRegression()</pre></div></div></div></div></div>"
            ]
          },
          "metadata": {},
          "execution_count": 9
        }
      ]
    },
    {
      "cell_type": "code",
      "source": [
        "#calculating intercept c\n",
        "c = lr.intercept_\n",
        "c"
      ],
      "metadata": {
        "id": "WywCvQU4x40N",
        "colab": {
          "base_uri": "https://localhost:8080/"
        },
        "outputId": "33940427-c58a-470b-b0f1-1f34eaf9107a"
      },
      "execution_count": 10,
      "outputs": [
        {
          "output_type": "execute_result",
          "data": {
            "text/plain": [
              "26.340297259337067"
            ]
          },
          "metadata": {},
          "execution_count": 10
        }
      ]
    },
    {
      "cell_type": "code",
      "source": [
        "# Calculating coefficient m\n",
        "m = lr.coef_\n",
        "m"
      ],
      "metadata": {
        "id": "Yck2qBVLQxCg",
        "colab": {
          "base_uri": "https://localhost:8080/"
        },
        "outputId": "c5413c15-c324-4963-fd92-40f418b56af4"
      },
      "execution_count": 11,
      "outputs": [
        {
          "output_type": "execute_result",
          "data": {
            "text/plain": [
              "array([1.04081298])"
            ]
          },
          "metadata": {},
          "execution_count": 11
        }
      ]
    },
    {
      "cell_type": "code",
      "source": [
        "#predicting y training values\n",
        "y_pred_train = lr.predict(x_train)\n",
        "y_pred_train"
      ],
      "metadata": {
        "id": "ZOn53ZGtyZ6a",
        "colab": {
          "base_uri": "https://localhost:8080/"
        },
        "outputId": "9348d89c-6e1d-4fd2-b9c5-55f61515c21f"
      },
      "execution_count": 12,
      "outputs": [
        {
          "output_type": "execute_result",
          "data": {
            "text/plain": [
              "array([ 70.05444242, 131.46240825,  98.15639289, ...,  54.44224772,\n",
              "        28.42192322,  69.01362944])"
            ]
          },
          "metadata": {},
          "execution_count": 12
        }
      ]
    },
    {
      "cell_type": "code",
      "source": [
        "# Plotting Training Actual values vs Predicted Values\n",
        "plt.figure(figsize=(10, 6))\n",
        "# Scatter plot of training data (actual values)\n",
        "plt.scatter(y_train, y_pred_train, color='blue')\n",
        "# Labels\n",
        "plt.xlabel('Actual Y_train')\n",
        "plt.ylabel('Predicted Y_train')\n",
        "plt.title('Actual vs Predicted values of Training Data Model 1')\n",
        "# Display the plot\n",
        "plt.show()\n",
        "\n",
        "\n"
      ],
      "metadata": {
        "colab": {
          "base_uri": "https://localhost:8080/",
          "height": 564
        },
        "id": "gXZuSoefCdZS",
        "outputId": "b7482369-131d-4ede-fceb-2027edde00d2"
      },
      "execution_count": 13,
      "outputs": [
        {
          "output_type": "display_data",
          "data": {
            "text/plain": [
              "<Figure size 1000x600 with 1 Axes>"
            ],
            "image/png": "[encoded data removed]"
          },
          "metadata": {}
        }
      ]
    },
    {
      "cell_type": "code",
      "source": [
        "#Prdicitng y testing values\n",
        "y_pred_test = lr.predict(x_test)\n",
        "y_pred_test"
      ],
      "metadata": {
        "id": "o5Qs8DTio2-q",
        "colab": {
          "base_uri": "https://localhost:8080/"
        },
        "outputId": "f5ee3203-b7b2-426a-d6c1-d8a252a7f027"
      },
      "execution_count": 14,
      "outputs": [
        {
          "output_type": "execute_result",
          "data": {
            "text/plain": [
              "array([ 45.0749309 ,  32.58517514,  41.95249196,  55.4830607 ,\n",
              "        72.13606839,  39.870866  ,  30.50354918,  37.78924004,\n",
              "        65.8911905 ,  51.31980878,  32.58517514,  47.15655686,\n",
              "        34.6668011 ,  34.6668011 ,  74.21769435, 107.52370971,\n",
              "       115.85021355,  31.54436216,  45.0749309 ,  51.31980878,\n",
              "        65.8911905 , 134.58484719,  52.36062176,  59.64631262,\n",
              "        48.19736984,  47.67696335,  60.6871256 ,  36.74842706,\n",
              "        55.4830607 ,  41.95249196,  55.4830607 , 123.13590441,\n",
              "        55.4830607 ,  97.11557991,  71.0952554 ,  33.62598812,\n",
              "        51.31980878,  31.54436216, 109.60533567,  49.23818282,\n",
              "        44.03411792,  71.0952554 ,  49.23818282, 105.44208375,\n",
              "        31.54436216,  35.70761408,  32.58517514,  38.83005302,\n",
              "        38.83005302,  91.91151501,  47.15655686,  53.40143474,\n",
              "        32.58517514, 112.72777461,  45.0749309 ,  58.60549964,\n",
              "        66.93200348,  34.6668011 ,  53.40143474,  30.50354918,\n",
              "        38.83005302,  56.52387368,  34.6668011 ,  31.54436216,\n",
              "        33.62598812,  58.60549964,  61.72793858,  42.47289845,\n",
              "        35.70761408,  33.62598812,  36.74842706,  28.42192322,\n",
              "        34.6668011 ,  50.2789958 , 105.96249024,  67.97281646,\n",
              "       139.78891209,  35.70761408,  37.78924004,  28.42192322,\n",
              "        40.91167898,  64.85037752,  59.64631262,  52.36062176,\n",
              "        64.85037752,  90.87070203,  54.44224772,  33.62598812,\n",
              "        36.74842706,  61.72793858,  60.6871256 ,  34.6668011 ,\n",
              "        41.95249196,  60.6871256 ,  40.91167898,  30.50354918,\n",
              "        55.4830607 ,  62.76875156,  39.870866  ,  63.80956454,\n",
              "        70.05444242,  28.42192322,  60.6871256 ,  57.56468666,\n",
              "        65.8911905 ,  52.36062176,  35.70761408,  33.62598812,\n",
              "        61.72793858,  41.95249196,  38.83005302,  60.6871256 ,\n",
              "        48.19736984,  55.4830607 ,  46.11574388,  30.50354918,\n",
              "        59.64631262,  59.64631262,  42.99330494,  55.4830607 ,\n",
              "        58.60549964,  56.52387368,  44.03411792,  47.15655686,\n",
              "        54.44224772,  28.42192322,  36.74842706,  62.76875156,\n",
              "        56.52387368,  54.44224772,  44.03411792,  61.72793858,\n",
              "        53.40143474,  50.2789958 ,  51.31980878,  57.56468666,\n",
              "        50.2789958 ,  45.0749309 ,  55.4830607 ,  45.0749309 ,\n",
              "        59.64631262,  34.6668011 , 121.05427845,  74.21769435,\n",
              "        44.03411792,  55.4830607 ,  44.03411792,  69.01362944,\n",
              "        38.83005302, 108.56452269,  58.60549964,  35.70761408,\n",
              "        54.44224772,  54.44224772,  40.91167898,  32.58517514,\n",
              "        42.99330494,  46.11574388,  45.0749309 ,  55.4830607 ,\n",
              "        33.62598812,  61.72793858,  41.95249196,  59.64631262,\n",
              "        40.91167898, 133.54403421,  75.25850733,  76.29932031,\n",
              "        44.03411792,  90.87070203, 111.68696163, 124.17671739,\n",
              "        27.38111024,  33.62598812,  64.85037752,  45.0749309 ,\n",
              "        34.6668011 ,  47.15655686,  28.42192322,  56.52387368,\n",
              "        54.44224772,  78.38094627,  65.8911905 ,  75.25850733,\n",
              "        86.70745011,  32.58517514,  60.6871256 ,  45.0749309 ,\n",
              "        29.4627362 ,  33.62598812,  85.66663713,  46.11574388,\n",
              "       140.82972507,  30.50354918, 111.68696163,  46.11574388,\n",
              "       104.40127077,  85.66663713,  54.44224772,  55.4830607 ,\n",
              "        36.74842706,  45.0749309 ,  50.2789958 ,  63.80956454,\n",
              "        85.66663713,  33.62598812,  42.99330494,  56.52387368,\n",
              "        57.56468666,  77.34013329,  44.03411792, 139.78891209,\n",
              "        42.99330494,  38.83005302,  73.17688137,  45.0749309 ,\n",
              "        34.6668011 ,  36.74842706,  44.03411792,  46.11574388,\n",
              "        41.95249196,  30.50354918, 153.31948084,  34.6668011 ,\n",
              "        32.58517514,  28.42192322,  39.870866  ,  39.870866  ,\n",
              "        38.83005302,  35.70761408,  41.95249196,  42.99330494,\n",
              "        49.23818282, 137.70728613,  88.78907607,  29.4627362 ,\n",
              "        50.2789958 ,  36.22802057,  46.11574388,  38.83005302,\n",
              "        60.6871256 ,  56.52387368,  53.40143474,  53.40143474,\n",
              "        37.78924004,  54.44224772,  53.40143474,  40.91167898,\n",
              "        58.60549964,  61.72793858,  51.31980878,  41.95249196,\n",
              "        63.80956454,  60.85381831,  39.870866  ,  46.11574388,\n",
              "        30.50354918,  39.870866  ,  47.15655686,  59.64631262,\n",
              "        53.40143474,  71.0952554 ,  45.0749309 ,  55.4830607 ,\n",
              "        28.42192322,  61.72793858,  34.6668011 ,  39.870866  ,\n",
              "        48.19736984,  49.23818282,  65.8911905 ,  47.15655686,\n",
              "        77.34013329,  53.40143474,  44.03411792,  44.03411792,\n",
              "        33.62598812,  33.62598812,  65.8911905 ,  36.74842706,\n",
              "        57.56468666,  53.40143474,  58.60549964,  61.72793858,\n",
              "        46.11574388,  42.99330494,  93.99314097,  59.64631262,\n",
              "        30.50354918,  35.70761408,  28.42192322,  65.8911905 ,\n",
              "        34.6668011 ,  38.83005302,  37.78924004,  44.03411792,\n",
              "        41.95249196,  78.38094627,  38.83005302,  57.56468666,\n",
              "        52.36062176,  40.91167898,  63.80956454,  57.56468666,\n",
              "        29.4627362 ,  64.85037752,  35.70761408,  51.31980878,\n",
              "        51.31980878,  32.58517514,  40.91167898,  33.62598812,\n",
              "       117.93183951,  39.870866  ,  47.15655686,  66.93200348,\n",
              "        34.6668011 ,  61.72793858,  69.01362944,  41.95249196,\n",
              "       106.48289673,  59.64631262,  37.78924004,  37.78924004,\n",
              "        34.6668011 ,  48.19736984,  31.54436216,  66.93200348,\n",
              "        45.0749309 ,  47.15655686,  63.80956454,  47.15655686,\n",
              "        47.15655686,  42.99330494,  44.03411792,  40.91167898,\n",
              "        35.70761408, 137.70728613,  52.36062176,  85.66663713,\n",
              "        36.74842706,  49.23818282,  69.01362944,  38.83005302,\n",
              "        42.99330494,  84.62582415,  48.19736984,  57.56468666,\n",
              "       107.52370971,  76.29932031,  31.54436216,  49.23818282,\n",
              "       121.05427845,  32.58517514,  41.95249196,  48.19736984,\n",
              "        59.64631262,  62.76875156, 149.15622891,  37.78924004,\n",
              "        38.83005302,  56.52387368,  40.91167898,  76.29932031,\n",
              "        59.64631262,  44.03411792,  42.99330494,  86.70338443,\n",
              "        49.23818282,  88.78907607,  62.76875156,  30.50354918,\n",
              "        35.70761408,  77.34013329,  35.70761408,  46.11574388,\n",
              "        35.70761408, 131.46240825,  49.23818282,  40.91167898,\n",
              "        36.74842706,  35.70761408,  49.23818282,  51.31980878,\n",
              "        72.13606839,  47.15655686,  44.03411792,  31.54436216,\n",
              "        57.56468666,  46.11574388,  61.72793858,  44.03411792,\n",
              "       138.74809911,  45.0749309 , 101.27883183,  70.42848459,\n",
              "        44.03411792,  77.34013329,  47.15655686,  54.44224772,\n",
              "        35.70761408,  42.99330494,  66.93200348,  38.83005302,\n",
              "        69.01362944,  28.42192322,  54.44224772,  74.21769435,\n",
              "        40.91167898,  35.70761408,  41.95249196,  34.6668011 ,\n",
              "        77.34013329,  71.0952554 ,  35.70761408,  33.62598812,\n",
              "        92.95232799, 133.54403421,  28.42192322,  50.2789958 ,\n",
              "        40.91167898,  47.15655686,  37.78924004,  52.88102825,\n",
              "        40.91167898,  45.0749309 ,  60.6871256 ,  75.25850733,\n",
              "        78.38094627,  60.6871256 ,  34.6668011 ,  48.19736984,\n",
              "        46.11574388,  41.95249196,  49.23818282,  69.01362944,\n",
              "       128.33996931,  31.54436216,  62.76875156, 109.60533567,\n",
              "        52.36062176,  85.66663713,  76.29932031,  44.03411792,\n",
              "        46.11574388,  32.58517514,  31.54436216,  65.8911905 ,\n",
              "        31.54436216,  59.64631262,  47.15655686,  39.870866  ,\n",
              "        45.0749309 ,  73.17688137,  51.31980878,  48.19736984,\n",
              "        56.52387368,  55.4830607 ,  57.56468666,  42.99330494,\n",
              "        28.94232971,  27.38111024,  55.4830607 ,  53.40143474,\n",
              "        37.78924004,  36.74842706,  56.52387368,  85.66663713,\n",
              "       110.64614865,  33.62598812,  34.6668011 ,  45.0749309 ,\n",
              "        32.58517514,  61.72793858,  49.23818282,  29.4627362 ,\n",
              "        81.50338521,  30.50354918,  65.8911905 ,  52.36062176,\n",
              "       146.03378997, 133.54403421,  51.31980878,  33.62598812,\n",
              "        37.78924004,  38.83005302,  50.2789958 ,  54.44224772,\n",
              "        48.19736984,  35.44741084,  29.4627362 ,  57.56468666,\n",
              "        86.70745011,  51.31980878,  39.870866  ,  34.6668011 ,\n",
              "       102.31964481,  51.31980878,  51.31980878,  47.15655686,\n",
              "        45.0749309 ,  41.95249196,  44.03411792,  54.44224772,\n",
              "        93.99314097,  37.78924004,  63.93966617,  42.99330494,\n",
              "        47.15655686,  44.03411792,  44.03411792, 118.97265249,\n",
              "        61.72793858,  58.60549964,  39.870866  ,  27.38111024,\n",
              "        74.21769435,  60.6871256 ,  40.91167898,  51.31980878,\n",
              "        91.91151501,  54.44224772,  44.03411792,  28.42192322,\n",
              "        36.78095247,  58.60549964,  62.76875156,  50.2789958 ,\n",
              "       137.70728613,  42.99330494,  54.44224772,  35.70761408,\n",
              "        30.50354918,  28.42192322,  51.31980878,  56.52387368,\n",
              "        39.870866  ,  46.11574388,  37.78924004,  35.70761408,\n",
              "        58.60549964,  62.76875156,  30.50354918,  67.97281646,\n",
              "        57.56468666,  38.83005302,  55.4830607 ,  38.83005302,\n",
              "        58.60549964,  69.01362944,  33.62598812,  59.64631262,\n",
              "        27.38111024,  66.93200348,  45.0749309 ,  34.6668011 ,\n",
              "        35.70761408,  32.58517514,  54.44224772,  74.21769435,\n",
              "        29.4627362 ,  77.34013329,  51.31980878,  51.31980878,\n",
              "        34.6668011 ,  49.23818282,  30.50354918,  65.8911905 ,\n",
              "        55.4830607 ,  42.99330494,  39.870866  , 114.80940057,\n",
              "        73.17688137, 147.07460295,  40.91167898, 100.23801885,\n",
              "        35.70761408,  32.58517514,  65.8911905 ,  54.44224772,\n",
              "        28.42192322,  69.01362944,  36.74842706,  46.11574388,\n",
              "        47.15655686, 109.60533567,  47.15655686,  31.54436216,\n",
              "        50.2789958 ,  49.23818282,  36.74842706,  42.99330494,\n",
              "        37.78924004,  65.8911905 ,  42.99330494, 153.31948084,\n",
              "        72.13606839,  27.38111024,  62.76875156,  31.54436216,\n",
              "        57.56468666,  38.83005302,  44.03411792,  57.56468666,\n",
              "        55.4830607 ,  34.6668011 ,  52.36062176,  48.19736984,\n",
              "        39.870866  , 108.56452269,  44.03411792,  45.0749309 ,\n",
              "        73.17688137,  61.72793858,  60.6871256 ,  81.50338521,\n",
              "        57.56468666,  55.4830607 ,  64.85037752,  35.70761408,\n",
              "       140.82972507,  60.6871256 ,  31.54436216,  70.05444242,\n",
              "        56.52387368,  32.58517514,  53.40143474,  63.80956454,\n",
              "        48.19736984,  37.78924004,  81.50338521,  40.91167898,\n",
              "        58.60549964,  51.31980878,  37.78924004,  59.64631262,\n",
              "        47.15655686,  36.74842706,  61.72793858, 142.91135103,\n",
              "        41.95249196,  80.46257223,  38.83005302,  34.6668011 ,\n",
              "        53.40143474,  59.64631262,  44.03411792,  49.23818282,\n",
              "       102.31964481,  67.97281646,  35.18720759,  44.03411792,\n",
              "        38.83005302,  72.13606839,  61.72793858,  48.19736984,\n",
              "        40.91167898,  60.6871256 ,  70.05444242,  52.36062176,\n",
              "        52.36062176,  36.74842706,  36.74842706,  54.44224772,\n",
              "        36.74842706,  66.93200348,  75.25850733,  45.0749309 ,\n",
              "        32.0566373 ,  55.4830607 ,  47.15655686,  57.56468666,\n",
              "        61.72793858,  57.56468666,  31.54436216,  37.78924004,\n",
              "       108.56452269,  34.6668011 ,  41.95249196,  71.0952554 ,\n",
              "       118.97265249,  29.4627362 ,  34.6668011 ,  56.52387368,\n",
              "        51.84021527,  41.95249196,  37.78924004,  73.17688137,\n",
              "        77.34013329,  44.03411792,  53.40143474,  31.54436216,\n",
              "        47.15655686,  32.58517514,  72.13606839,  45.0749309 ,\n",
              "        44.03411792,  67.97281646,  84.62582415,  39.870866  ,\n",
              "        31.54436216,  44.03411792,  29.4627362 ,  60.6871256 ,\n",
              "        66.93200348,  31.54436216,  56.52387368,  87.74826309,\n",
              "        44.03411792,  62.76875156,  71.0952554 , 148.11541593,\n",
              "        80.46257223,  76.29932031,  30.50354918,  45.0749309 ,\n",
              "        37.78924004,  53.40143474,  30.50354918, 101.27883183,\n",
              "        71.0952554 ,  47.15655686,  47.15655686,  35.70761408,\n",
              "        59.64631262,  88.78907607,  39.870866  ,  29.4627362 ,\n",
              "       101.27883183,  49.23818282, 114.80940057,  74.21769435,\n",
              "        31.54436216,  40.91167898,  31.02395567,  80.46257223,\n",
              "        64.85037752,  61.72793858,  57.56468666,  36.74842706,\n",
              "        46.11574388,  41.95249196,  75.25850733,  92.95232799,\n",
              "        65.8911905 ,  35.70761408,  52.23052014,  63.80956454,\n",
              "        51.31980878,  33.62598812,  35.70761408,  69.01362944,\n",
              "        85.66663713,  38.83005302,  52.36062176,  38.83005302,\n",
              "        92.95232799,  65.8911905 ,  47.15655686,  47.15655686,\n",
              "        35.70761408,  59.64631262,  39.870866  ,  34.6668011 ,\n",
              "        33.62598812,  66.93200348,  71.0952554 ,  52.36062176,\n",
              "        38.83005302,  29.4627362 , 137.70728613,  74.21769435,\n",
              "        62.76875156,  45.0749309 ,  52.36062176,  62.76875156,\n",
              "        46.11574388,  45.0749309 ,  79.42175925,  97.11557991,\n",
              "        30.50354918,  46.11574388,  40.91167898, 121.05427845,\n",
              "        37.78924004,  49.23818282,  39.870866  ,  45.0749309 ,\n",
              "        45.0749309 ,  49.23818282,  56.52387368,  76.29932031,\n",
              "       144.99297699,  67.97281646,  70.05444242,  57.56468666,\n",
              "        38.83005302,  41.95249196,  46.11574388,  58.60549964,\n",
              "        38.83005302,  40.91167898,  49.23818282,  56.52387368,\n",
              "        52.36062176,  29.85304107,  62.76875156,  50.2789958 ,\n",
              "        38.83005302,  48.19736984,  50.2789958 ,  33.62598812,\n",
              "        56.52387368,  32.58517514, 130.42159527,  33.62598812,\n",
              "        47.15655686,  35.70761408,  92.95232799,  97.11557991,\n",
              "        66.93200348,  46.11574388,  38.83005302,  36.74842706,\n",
              "        35.70761408,  41.95249196,  63.80956454,  59.64631262,\n",
              "        40.39127249,  50.2789958 ,  33.62598812, 108.56452269,\n",
              "        50.2789958 ,  48.19736984,  28.42192322,  38.83005302,\n",
              "        33.62598812,  34.6668011 ,  72.13606839,  31.54436216,\n",
              "        49.23818282,  32.58517514,  45.0749309 ,  57.56468666,\n",
              "       123.13590441,  61.72793858,  64.85037752,  56.52387368,\n",
              "        55.4830607 ,  83.58501117,  35.70761408,  37.78924004,\n",
              "        45.0749309 ,  35.70761408,  36.74842706,  53.40143474,\n",
              "        56.52387368,  38.83005302,  77.34013329,  39.870866  ,\n",
              "        46.11574388,  50.2789958 ,  60.6871256 ,  49.23818282,\n",
              "        53.40143474,  51.31980878,  40.39127249,  35.70761408,\n",
              "        29.4627362 ,  52.36062176,  71.0952554 ,  86.70745011,\n",
              "        32.58517514,  38.83005302,  61.72793858,  55.4830607 ,\n",
              "        47.15655686,  62.76875156,  47.15655686,  71.0952554 ,\n",
              "        30.50354918,  42.99330494,  57.56468666,  71.0952554 ])"
            ]
          },
          "metadata": {},
          "execution_count": 14
        }
      ]
    },
    {
      "cell_type": "code",
      "source": [
        "#Plotting  Testing Actual values vs Predicted Vlaues\n",
        "plt.figure(figsize=(10, 6))\n",
        "# Scatter plot of testing data\n",
        "plt.scatter(y_test, y_pred_test, color ='olivedrab')\n",
        "# Labels\n",
        "plt.xlabel('Actual Y_test')\n",
        "plt.ylabel('Predicted Y_test')\n",
        "plt.title('Actual vs Predicted values of Testing Data Model 4')\n",
        "# Display the plot\n",
        "plt.show()\n"
      ],
      "metadata": {
        "colab": {
          "base_uri": "https://localhost:8080/",
          "height": 564
        },
        "id": "qVXbTRIAoSw-",
        "outputId": "c9c8d453-434a-4e8d-d482-85348c111893"
      },
      "execution_count": 15,
      "outputs": [
        {
          "output_type": "display_data",
          "data": {
            "text/plain": [
              "<Figure size 1000x600 with 1 Axes>"
            ],
            "image/png": "[encoded data removed]"
          },
          "metadata": {}
        }
      ]
    },
    {
      "cell_type": "code",
      "source": [
        "#Calculating training data error term for linear regression\n",
        "res_train = (y_train - y_pred_train)\n",
        "res_train"
      ],
      "metadata": {
        "id": "HEeuIMcuZDmJ",
        "colab": {
          "base_uri": "https://localhost:8080/"
        },
        "outputId": "66dbb1a4-8d00-43d8-88bb-e12a7595c15f"
      },
      "execution_count": 16,
      "outputs": [
        {
          "output_type": "execute_result",
          "data": {
            "text/plain": [
              "4339    72.695558\n",
              "4275     1.537592\n",
              "3849    -5.156393\n",
              "883     -4.115744\n",
              "134     -5.503549\n",
              "          ...    \n",
              "1033    -7.156557\n",
              "3264     9.965882\n",
              "1653    -2.442248\n",
              "2607    -9.421923\n",
              "2732   -11.013629\n",
              "Name: AQI, Length: 3533, dtype: float64"
            ]
          },
          "metadata": {},
          "execution_count": 16
        }
      ]
    },
    {
      "cell_type": "code",
      "source": [
        "# Plotting histogram to show the error terms for trainig data\n",
        "plt.figure(figsize=(10, 6))\n",
        "# Creating the histogram plot using Seaborn\n",
        "sns.histplot(res_train , color = 'blue')\n",
        "\n",
        "# Label the plot\n",
        "plt.title('Distribution of Error Terms of Training Data Model 1')\n",
        "plt.xlabel('Residuals (y_train - y_pred_train)')\n",
        "plt.ylabel('Frequency')\n",
        "plt.show()"
      ],
      "metadata": {
        "colab": {
          "base_uri": "https://localhost:8080/",
          "height": 564
        },
        "id": "4lmnoN0bG9uK",
        "outputId": "5c79b593-7f29-435d-9990-b275c0f7bb36"
      },
      "execution_count": 17,
      "outputs": [
        {
          "output_type": "display_data",
          "data": {
            "text/plain": [
              "<Figure size 1000x600 with 1 Axes>"
            ],
            "image/png": "[encoded data removed]"
          },
          "metadata": {}
        }
      ]
    },
    {
      "cell_type": "code",
      "source": [
        "#Calculating testing data error term for linear regression\n",
        "res_test = (y_test - y_pred_test)\n",
        "res_test"
      ],
      "metadata": {
        "id": "Kr8AaklzGxDU",
        "colab": {
          "base_uri": "https://localhost:8080/"
        },
        "outputId": "fa7ab08b-3bb2-4226-8cd8-4c09f438d5dc"
      },
      "execution_count": 18,
      "outputs": [
        {
          "output_type": "execute_result",
          "data": {
            "text/plain": [
              "2917    -7.074931\n",
              "1457    -3.585175\n",
              "1669    62.047508\n",
              "2013    -2.483061\n",
              "4303     2.863932\n",
              "          ...    \n",
              "2527    -3.095255\n",
              "2339     1.496451\n",
              "3276    10.006695\n",
              "3354     1.435313\n",
              "3019    -3.095255\n",
              "Name: AQI, Length: 884, dtype: float64"
            ]
          },
          "metadata": {},
          "execution_count": 18
        }
      ]
    },
    {
      "cell_type": "code",
      "source": [
        "# Plotting histogram to show the error terms for testing data\n",
        "plt.figure(figsize=(10, 6))\n",
        "# Creating the histogram plot using Seaborn\n",
        "sns.histplot(res_test , color ='olivedrab')\n",
        "\n",
        "# Label the plot\n",
        "plt.title('Distribution of Error Terms of Testing Data Model 1')\n",
        "plt.xlabel('Residuals (y_test - y_pred_test)')\n",
        "plt.ylabel('Frequency')\n",
        "plt.show()"
      ],
      "metadata": {
        "id": "tcdOuQ6SHCBQ",
        "colab": {
          "base_uri": "https://localhost:8080/",
          "height": 564
        },
        "outputId": "ee4eff9c-99ef-4ad2-8b74-b48477ffcf68"
      },
      "execution_count": 19,
      "outputs": [
        {
          "output_type": "display_data",
          "data": {
            "text/plain": [
              "<Figure size 1000x600 with 1 Axes>"
            ],
            "image/png": "[encoded data removed]"
          },
          "metadata": {}
        }
      ]
    },
    {
      "cell_type": "markdown",
      "source": [
        "Evaluation of Linear Regression"
      ],
      "metadata": {
        "id": "tJOdBtwDzD4b"
      }
    },
    {
      "cell_type": "markdown",
      "source": [
        "#Training Data"
      ],
      "metadata": {
        "id": "W3x8A3fdSB92"
      }
    },
    {
      "cell_type": "code",
      "source": [
        "#Calculating Mean Squared Error of Training Data\n",
        "mse = mean_squared_error(y_train, y_pred_train)\n",
        "print(\"Mean Squared Error (MSE) of Training Data:\", mse)"
      ],
      "metadata": {
        "colab": {
          "base_uri": "https://localhost:8080/"
        },
        "id": "YL116SbFSBNM",
        "outputId": "c19484cf-0dcb-4caa-e1e5-dcd85d9f63ba"
      },
      "execution_count": 20,
      "outputs": [
        {
          "output_type": "stream",
          "name": "stdout",
          "text": [
            "Mean Squared Error (MSE) of Training Data: 137.09214220703785\n"
          ]
        }
      ]
    },
    {
      "cell_type": "code",
      "source": [
        "#calculating Root Mean Squared Error of Training Data\n",
        "rmse = np.sqrt(mse)\n",
        "print(\"Root Mean Squared Error (RMSE) of Training Data:\", rmse)"
      ],
      "metadata": {
        "colab": {
          "base_uri": "https://localhost:8080/"
        },
        "id": "bMqQqCP4zQ58",
        "outputId": "56727683-8682-4524-a688-af5f88aaed70"
      },
      "execution_count": 21,
      "outputs": [
        {
          "output_type": "stream",
          "name": "stdout",
          "text": [
            "Root Mean Squared Error (RMSE) of Training Data: 11.708635369121282\n"
          ]
        }
      ]
    },
    {
      "cell_type": "code",
      "source": [
        "#Calculating Mean Absolute Error of Training Data\n",
        "mae = mean_absolute_error(y_train, y_pred_train)\n",
        "print(\"Mean Absolute Error (MAE) of Training Data:\", mae)"
      ],
      "metadata": {
        "colab": {
          "base_uri": "https://localhost:8080/"
        },
        "id": "P2TyiIwVzDVw",
        "outputId": "71be3755-f032-43d4-a93e-4ac68e053b72"
      },
      "execution_count": 22,
      "outputs": [
        {
          "output_type": "stream",
          "name": "stdout",
          "text": [
            "Mean Absolute Error (MAE) of Training Data: 8.180846600040727\n"
          ]
        }
      ]
    },
    {
      "cell_type": "code",
      "source": [
        "#Calculating R-Squared of Training Data\n",
        "rsquare =  r2_score(y_train, y_pred_train)\n",
        "print(\"R-sqaured of Training Data:\", rsquare)"
      ],
      "metadata": {
        "colab": {
          "base_uri": "https://localhost:8080/"
        },
        "id": "agUOgx8JSMWq",
        "outputId": "913c1c4f-1ef8-4c53-ce4c-7d9703a68038"
      },
      "execution_count": 23,
      "outputs": [
        {
          "output_type": "stream",
          "name": "stdout",
          "text": [
            "R-sqaured of Training Data: 0.7959447841318095\n"
          ]
        }
      ]
    },
    {
      "cell_type": "markdown",
      "source": [
        "###Testing Data"
      ],
      "metadata": {
        "id": "rmqwJ6r3SjaC"
      }
    },
    {
      "cell_type": "code",
      "source": [
        "#Calculating Mean Squared Error\n",
        "mse = mean_squared_error(y_test, y_pred_test)\n",
        "print(\"Mean Squared Error (MSE) of Testing Data :\", mse)"
      ],
      "metadata": {
        "colab": {
          "base_uri": "https://localhost:8080/"
        },
        "id": "MUqhLXCqSwV4",
        "outputId": "aed97b4c-0992-4c05-f991-862b58d8d441"
      },
      "execution_count": 24,
      "outputs": [
        {
          "output_type": "stream",
          "name": "stdout",
          "text": [
            "Mean Squared Error (MSE) of Testing Data : 132.2206699408324\n"
          ]
        }
      ]
    },
    {
      "cell_type": "code",
      "source": [
        "#calculating Root Mean Squared Error\n",
        "rmse = np.sqrt(mse)\n",
        "print(\"Root Mean Squared Error (RMSE) of Testing Data:\", rmse)"
      ],
      "metadata": {
        "colab": {
          "base_uri": "https://localhost:8080/"
        },
        "id": "66JljBzhTK2S",
        "outputId": "7f724414-67d6-45d0-98f8-bc9f8692c525"
      },
      "execution_count": 25,
      "outputs": [
        {
          "output_type": "stream",
          "name": "stdout",
          "text": [
            "Root Mean Squared Error (RMSE) of Testing Data: 11.498724709324613\n"
          ]
        }
      ]
    },
    {
      "cell_type": "code",
      "source": [
        "#Calculating Mean Absolute Error\n",
        "mae = mean_absolute_error(y_test, y_pred_test)\n",
        "print(\"Mean Absolute Error (MAE) of Testing Data:\", mae)"
      ],
      "metadata": {
        "colab": {
          "base_uri": "https://localhost:8080/"
        },
        "id": "ubZ84ausSx6p",
        "outputId": "521e02d0-6e10-4930-eebe-f4376d07f8cb"
      },
      "execution_count": 26,
      "outputs": [
        {
          "output_type": "stream",
          "name": "stdout",
          "text": [
            "Mean Absolute Error (MAE) of Testing Data: 7.900466019689688\n"
          ]
        }
      ]
    },
    {
      "cell_type": "code",
      "source": [
        "#Calculating R-Squared  of Testing Data\n",
        "rsquare =  r2_score(y_test, y_pred_test)\n",
        "print(\"R-sqaured of Testing Data:\", rsquare)"
      ],
      "metadata": {
        "colab": {
          "base_uri": "https://localhost:8080/"
        },
        "id": "JOILSA8OTN6F",
        "outputId": "ac525b0d-ae7b-4fda-ae14-207d8f733010"
      },
      "execution_count": 27,
      "outputs": [
        {
          "output_type": "stream",
          "name": "stdout",
          "text": [
            "R-sqaured of Testing Data: 0.799659153879728\n"
          ]
        }
      ]
    }
  ]
}